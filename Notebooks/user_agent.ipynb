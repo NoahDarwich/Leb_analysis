{
 "cells": [
  {
   "cell_type": "code",
   "execution_count": 4,
   "metadata": {},
   "outputs": [],
   "source": [
    "from scrapy.downloadermiddlewares.useragent import UserAgentMiddleware\n",
    "from scrapy.downloadermiddlewares.retry import RetryMiddleware\n",
    "from scrapy.utils.python import global_object_name\n",
    "from fake_useragent import UserAgent\n",
    "from scrapy import Item, Field, Selector, Request\n",
    "from scrapy.spiders import Rule, Spider\n",
    "from scrapy.linkextractors import LinkExtractor"
   ]
  },
  {
   "cell_type": "code",
   "execution_count": 2,
   "metadata": {},
   "outputs": [],
   "source": [
    "class Items(Item):\n",
    "    url = Field()\n",
    "    name = Field()"
   ]
  },
  {
   "cell_type": "code",
   "execution_count": 5,
   "metadata": {},
   "outputs": [],
   "source": [
    "class RotateUserAgentMiddleware(UserAgentMiddleware):\n",
    "    def __init__(self, user_agent=''):\n",
    "        self.user_agent = user_agent\n",
    "    def process_request(self, request, spider):\n",
    "        ua = UserAgent()\n",
    "        request.headers.setdefault('User-Agent', ua.random)\n",
    "        \n",
    "class RotateIPMiddleware(RetryMiddleware):\n",
    "    def __init__(self, ip=''):\n",
    "        self.ip = ip\n",
    "    def process_request(self, request, spider):\n",
    "        request.meta[\"proxy\"] = \"http://\" + self.ip\n",
    "\n",
    "class MySpider(Spider):\n",
    "    name = \"leba\"\n",
    "    start_urls = [\"https://www.al-akhbar.com/Editions\"]\n",
    "    custom_settings = {\n",
    "        'DOWNLOADER_MIDDLEWARES': {\n",
    "        'path.to.RotateUserAgentMiddleware': 400,\n",
    "        'path.to.RotateIPMiddleware': 543,\n",
    "        }\n",
    "    }\n",
    "    \n",
    "    # rules = (\n",
    "    #     Rule(LinkExtractor(restrict_css=\"container > l-content row archive-issues > l-main columns col-md-12 > editions-page section > archive-days-wrap\"), follow=True),\n",
    "    #     Rule(LinkExtractor(restrict_css=\".product_pod > h3 > a\"), callback=\"parse_book\")\n",
    "    # )\n",
    "\n",
    "    def parse(self, response):\n",
    "        \n",
    "        selector = Selector(response)\n",
    "        links = selector.css('.class day').xpath('@href').extract()\n",
    "        \n",
    "        for link in links:\n",
    "            \n",
    "            next_page_url = = selector.css('a.next-page').xpath('@href').extract_first()\n",
    "            \n",
    "            if next_page_url:\n",
    "                yield Request(response.urljoin(next_page_url), callback=self.parse)\n",
    "\n"
   ]
  },
  {
   "cell_type": "code",
   "execution_count": 15,
   "metadata": {},
   "outputs": [
    {
     "name": "stdout",
     "output_type": "stream",
     "text": [
      "Scrapy 2.7.1 - no active project\n",
      "\n",
      "Usage:\n",
      "  scrapy <command> [options] [args]\n",
      "\n",
      "Available commands:\n",
      "  bench         Run quick benchmark test\n",
      "  commands      \n",
      "  fetch         Fetch a URL using the Scrapy downloader\n",
      "  genspider     Generate new spider using pre-defined templates\n",
      "  runspider     Run a self-contained spider (without creating a project)\n",
      "  settings      Get settings values\n",
      "  shell         Interactive scraping console\n",
      "  startproject  Create new project\n",
      "  version       Print Scrapy version\n",
      "  view          Open URL in browser, as seen by Scrapy\n",
      "\n",
      "  [ more ]      More commands available when run from project directory\n",
      "\n",
      "Use \"scrapy <command> -h\" to see more info about a command\n"
     ]
    }
   ],
   "source": [
    "!scrapy"
   ]
  },
  {
   "cell_type": "code",
   "execution_count": null,
   "metadata": {},
   "outputs": [],
   "source": [
    "scrapy.Request(response.urljoin(next_page_url), callback=self.parse)"
   ]
  },
  {
   "cell_type": "code",
   "execution_count": null,
   "metadata": {},
   "outputs": [],
   "source": [
    "# Follow the links to other pages\n",
    "next_page_url = selector.css('a.next-page').xpath('@href').extract_first()\n",
    "if next_page_url:\n",
    "    yield scrapy.Request(response.urljoin(next_page_url), callback=self.parse)"
   ]
  }
 ],
 "metadata": {
  "kernelspec": {
   "display_name": "Python 3",
   "language": "python",
   "name": "python3"
  },
  "language_info": {
   "codemirror_mode": {
    "name": "ipython",
    "version": 3
   },
   "file_extension": ".py",
   "mimetype": "text/x-python",
   "name": "python",
   "nbconvert_exporter": "python",
   "pygments_lexer": "ipython3",
   "version": "3.8.12"
  },
  "orig_nbformat": 4,
  "vscode": {
   "interpreter": {
    "hash": "08f894913cde66c7b668fed923c75d3a020a4a5d16d7076f7658aed24e50b1e3"
   }
  }
 },
 "nbformat": 4,
 "nbformat_minor": 2
}
