{
 "cells": [
  {
   "cell_type": "code",
   "execution_count": 160,
   "metadata": {},
   "outputs": [],
   "source": [
    "import io\n",
    "import re\n",
    "\n",
    "import string\n",
    "import tempfile \n",
    "\n",
    "\n",
    "from oauth2client.service_account import ServiceAccountCredentials\n",
    "from googleapiclient.http import MediaIoBaseDownload\n",
    "from googleapiclient.http import MediaFileUpload\n",
    "from googleapiclient.discovery import build"
   ]
  },
  {
   "cell_type": "code",
   "execution_count": 159,
   "metadata": {},
   "outputs": [],
   "source": [
    "from PyPDF2 import PdfFileReader, PdfFileWriter\n",
    "from pdfminer.layout import LAParams\n",
    "\n",
    "from pdfminer.high_level import extract_text_to_fp\n",
    "\n",
    "from arabic_reshaper import ArabicReshaper\n",
    "from bidi.algorithm import get_display"
   ]
  },
  {
   "cell_type": "code",
   "execution_count": 11,
   "metadata": {},
   "outputs": [],
   "source": [
    "configuration = {\n",
    "    'delete_harakat': True,\n",
    "    'delete_tatweel ': True,\n",
    "}\n",
    "\n",
    "year_folder_id_dict = {'2010':'113DAB_g6P3b-gbrpFog682EfdILcBMt6','2011':'1Yh9610KUMxZLNDiyUOnng-7PbhlYbt3x',\n",
    "                       '2012':'1TEWAyyxf6dJ3K6hMiliayJ4VV4ilvwIH','2013':'1KWNg6Me11spV-JRFOzwlvNpvoYMLI59C',\n",
    "                       '2014':'1IgDuaPlc9b-MdP6VELFXcTffqSRHYPU5','2015':'1CrHueAEH76p95tIOryMrdu5nV-qW702M',\n",
    "                       '2016':'1hpViY56I20A6k6EeQGrOn6QG11j7gb58','2017':'1H2HXwALMyzxBIMJyluYkTHJKplqGIpUF',\n",
    "                       '2018':'1-jlTY-u_izedKKNenevC3kgM6yaKR7b7','2019':'1Qm-Sse4vbOx2IOAILUCTvXwqShWlynQn',}"
   ]
  },
  {
   "cell_type": "code",
   "execution_count": 149,
   "metadata": {},
   "outputs": [],
   "source": [
    "def convert_text(word):\n",
    "    regex = r\"({.*?})\"\n",
    "    word = re.findall(regex,str(word.encode('WINDOWS-1251',errors='namereplace')))\n",
    "    cleaned = []\n",
    "    for char in word:\n",
    "        char = char.replace('{','').replace('}','')\n",
    "        cleaned.append(char)\n",
    "    \n",
    "    cleaned_word = []\n",
    "    for x in cleaned:\n",
    "       if len(x.split()) > 2:\n",
    "        cleaned_word.append(' '.join(i for i in x.split()[:3]))\n",
    "        \n",
    "    return cleaned_word"
   ]
  },
  {
   "cell_type": "code",
   "execution_count": 152,
   "metadata": {},
   "outputs": [],
   "source": [
    "section_keyword = ['لبنان','اقتصاد','مجتمع','سياسة']\n",
    "section_keyword_encoded = [convert_text(x) for x in section_keyword]"
   ]
  },
  {
   "cell_type": "code",
   "execution_count": 162,
   "metadata": {},
   "outputs": [],
   "source": [
    "creds = ServiceAccountCredentials.from_json_keyfile_name('leba-375419-92c3baf53205.json',\n",
    "                                                         scopes=['https://www.googleapis.com/auth/drive'])\n",
    "service = build('drive', 'v3', credentials=creds)\n",
    "folder_id = year_folder_id_dict['2016']"
   ]
  },
  {
   "cell_type": "code",
   "execution_count": 163,
   "metadata": {},
   "outputs": [],
   "source": [
    "results = service.files().list(q=f\"'{folder_id}' in parents\",fields=\"nextPageToken, files(id, name)\").execute()\n",
    "files = results.get('files', [])\n",
    "\n",
    "# Iterate through the files\n",
    "for file in files:\n",
    "    file_id = file.get('id')\n",
    "    file_name = file.get('name')\n",
    "    \n",
    "    request = service.files().get_media(fileId=file_id)\n",
    "    fh = io.BytesIO()\n",
    "    downloader = MediaIoBaseDownload(fh, request)\n",
    "    done = False\n",
    "    while done is False:\n",
    "        status, done = downloader.next_chunk()\n",
    "        #print(\"Download %d%%.\" % int(status.progress() * 100))\n",
    "    pdf_content = fh.getvalue()\n",
    "    with open('new.pdf', 'wb') as f:\n",
    "        f.write(pdf_content)\n",
    "    break"
   ]
  },
  {
   "cell_type": "code",
   "execution_count": 164,
   "metadata": {},
   "outputs": [],
   "source": [
    "pdf = PdfFileReader(open('new.pdf', 'rb'))\n",
    "\n",
    "texts = ''\n",
    "\n",
    "for page in range(1,pdf._get_num_pages()):\n",
    "    with open('new.pdf', 'rb') as f:\n",
    "        laparams = LAParams(char_margin=1.0, line_margin=0.5, word_margin=0.1)\n",
    "        outfp = io.StringIO()\n",
    "        outfp.seek(0)\n",
    "        extract_text_to_fp(f, outfp, laparams=laparams, page_numbers={page})\n",
    "        outfp.seek(0)\n",
    "        text = outfp.read()\n",
    "        reshaper = ArabicReshaper(configuration=configuration)\n",
    "        corrected_text = get_display(text)\n",
    "        reshaped_text = reshaper.reshape(corrected_text)\n",
    "        \n",
    "        \n",
    "        section = ''.join(x for x in reshaped_text[:60] if x not in string.digits).strip().replace('\\n',' ').replace('ـ', '')\n",
    "        section = [x for x in section.split() if len(x) > 2]\n",
    "        section_encoded = [convert_text(x) for x in section]\n",
    "        \n",
    "        if any(x in section_keyword_encoded for x in section_encoded):\n",
    "            \n",
    "            output_pdf = PdfFileWriter()\n",
    "            output_pdf.addPage(pdf.getPage(page))\n",
    "            name = file_name.replace('.pdf', f'-page-{int(page)+1}.pdf')\n",
    "            with open(name, 'wb') as f:\n",
    "                output_pdf.write(f)\n",
    "                file = tempfile.NamedTemporaryFile()\n",
    "                file.write(open(name, 'rb').read())\n",
    "                file.seek(0)\n",
    "                file_metadata = {'name': name,'parents':['1CPmsZoNqsDslYUDuMMYAiTRdgcbjuIj6']}\n",
    "                \n",
    "                media = MediaFileUpload(file.name,\n",
    "                                mimetype='application/pdf')\n",
    "                \n",
    "                service.files().create(body=file_metadata, media_body=media, fields='id').execute()\n",
    "    "
   ]
  },
  {
   "cell_type": "code",
   "execution_count": 137,
   "metadata": {},
   "outputs": [],
   "source": []
  },
  {
   "cell_type": "code",
   "execution_count": 143,
   "metadata": {},
   "outputs": [],
   "source": [
    "cleaned_text = [convert_text(x) for x in texts.split()]"
   ]
  }
 ],
 "metadata": {
  "kernelspec": {
   "display_name": "lewagon",
   "language": "python",
   "name": "python3"
  },
  "language_info": {
   "codemirror_mode": {
    "name": "ipython",
    "version": 3
   },
   "file_extension": ".py",
   "mimetype": "text/x-python",
   "name": "python",
   "nbconvert_exporter": "python",
   "pygments_lexer": "ipython3",
   "version": "3.8.12"
  },
  "orig_nbformat": 4,
  "vscode": {
   "interpreter": {
    "hash": "5440022c2f58b20b0cc375f131c03911c244cc52e9e4cb2d6244c26d3c005d2f"
   }
  }
 },
 "nbformat": 4,
 "nbformat_minor": 2
}
