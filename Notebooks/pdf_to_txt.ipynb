{
 "cells": [
  {
   "cell_type": "code",
   "execution_count": 234,
   "metadata": {},
   "outputs": [],
   "source": [
    "import io\n",
    "import re\n",
    "import os\n",
    "\n",
    "\n",
    "import string\n",
    "import tempfile \n",
    "\n",
    "\n",
    "from oauth2client.service_account import ServiceAccountCredentials\n",
    "from googleapiclient.http import MediaIoBaseDownload\n",
    "from googleapiclient.http import MediaFileUpload\n",
    "from googleapiclient.discovery import build"
   ]
  },
  {
   "cell_type": "code",
   "execution_count": 235,
   "metadata": {},
   "outputs": [],
   "source": [
    "from PyPDF2 import PdfFileReader, PdfFileWriter\n",
    "from pdfminer.layout import LAParams\n",
    "\n",
    "from pdfminer.high_level import extract_text_to_fp\n",
    "\n",
    "from arabic_reshaper import ArabicReshaper\n",
    "from bidi.algorithm import get_display"
   ]
  },
  {
   "cell_type": "code",
   "execution_count": 236,
   "metadata": {},
   "outputs": [],
   "source": [
    "configuration = {\n",
    "    'delete_harakat': True,\n",
    "    'delete_tatweel ': True,\n",
    "}\n",
    "\n",
    "year_folder_id_dict = {'2010':'113DAB_g6P3b-gbrpFog682EfdILcBMt6','2011':'1Yh9610KUMxZLNDiyUOnng-7PbhlYbt3x',\n",
    "                       '2012':'1TEWAyyxf6dJ3K6hMiliayJ4VV4ilvwIH','2013':'1KWNg6Me11spV-JRFOzwlvNpvoYMLI59C',\n",
    "                       '2014':'1IgDuaPlc9b-MdP6VELFXcTffqSRHYPU5','2015':'1CrHueAEH76p95tIOryMrdu5nV-qW702M',\n",
    "                       '2016':'1hpViY56I20A6k6EeQGrOn6QG11j7gb58','2017':'1H2HXwALMyzxBIMJyluYkTHJKplqGIpUF',\n",
    "                       '2018':'1-jlTY-u_izedKKNenevC3kgM6yaKR7b7','2019':'1Qm-Sse4vbOx2IOAILUCTvXwqShWlynQn'}\n",
    "\n",
    "events_folder_id_dict = {'2010':'1CPmsZoNqsDslYUDuMMYAiTRdgcbjuIj6','2011':'1FQenIULvAsgQN4sLSpcLdjjfStfeIvga',\n",
    "                       '2012':'1ABi7lAAmlARbrGlBJv8Tz6IFXVSYzLdR','2013':'1MMg8bUfZj3eZf_gAlr3k2N9_LWmO5DWr',\n",
    "                       '2014':'135rCpr_1_N00nmsKOcyWjmQPmT_n8I96','2015':'1Gjm0qtTXL-21qNQJtloxNGtJq3Q1Xlyq',\n",
    "                       '2016':'1qRUeOe4mFx5ofuYHxiqL4u1HvqxLCz96','2017':'15DY5sNvP8O2jgus7Qythy8Nzeeo7cZAI',\n",
    "                       '2018':'1AKHSz-t3vkUsLE2IC4TdrMUznjNC3YpU','2019':'1qOX3DQFtU_j4czyUMndjpn9c0crZ8ue1'}\n",
    "events_folder_id = '165-gELn98fyKGaWnmWSkJuUuz1aj8XMg'"
   ]
  },
  {
   "cell_type": "code",
   "execution_count": 237,
   "metadata": {},
   "outputs": [],
   "source": [
    "def convert_text(word):\n",
    "    regex = r\"({.*?})\"\n",
    "    word = re.findall(regex,str(word.encode('WINDOWS-1251',errors='namereplace')))\n",
    "    cleaned = []\n",
    "    for char in word:\n",
    "        char = char.replace('{','').replace('}','')\n",
    "        cleaned.append(char)\n",
    "    \n",
    "    cleaned_word = []\n",
    "    for x in cleaned:\n",
    "       if len(x.split()) > 2:\n",
    "        cleaned_word.append(' '.join(i for i in x.split()[:3]))\n",
    "        \n",
    "    return cleaned_word"
   ]
  },
  {
   "cell_type": "code",
   "execution_count": 238,
   "metadata": {},
   "outputs": [],
   "source": [
    "section_keyword = ['لبنان','اقتصاد','مجتمع','سياسة']\n",
    "section_keyword_encoded = [convert_text(x) for x in section_keyword]"
   ]
  },
  {
   "cell_type": "code",
   "execution_count": 239,
   "metadata": {},
   "outputs": [],
   "source": [
    "with open('keywords.txt','r') as f:\n",
    "    txt = f.read().replace('\\n',' ')\n",
    "    Keywords = [x for x in txt.split() if len(x) > 1 ]\n",
    "    \n",
    "Keywords_encoded = [convert_text(x) for x in Keywords]"
   ]
  },
  {
   "cell_type": "code",
   "execution_count": 240,
   "metadata": {},
   "outputs": [],
   "source": [
    "creds = ServiceAccountCredentials.from_json_keyfile_name('leba-375419-92c3baf53205.json',\n",
    "                                                         scopes=['https://www.googleapis.com/auth/drive'])\n",
    "service = build('drive', 'v3', credentials=creds)"
   ]
  },
  {
   "cell_type": "code",
   "execution_count": 241,
   "metadata": {},
   "outputs": [
    {
     "ename": "PdfReadError",
     "evalue": "PDF starts with '<!DOC', but '%PDF-' expected",
     "output_type": "error",
     "traceback": [
      "\u001b[0;31m---------------------------------------------------------------------------\u001b[0m",
      "\u001b[0;31mPdfReadError\u001b[0m                              Traceback (most recent call last)",
      "\u001b[1;32m/home/noahdarwich/code/NoahDarwich/Leb_analysis/Notebooks/pdf_to_txt.ipynb Cell 8\u001b[0m in \u001b[0;36m<cell line: 1>\u001b[0;34m()\u001b[0m\n\u001b[1;32m     <a href='vscode-notebook-cell://wsl%2Bubuntu/home/noahdarwich/code/NoahDarwich/Leb_analysis/Notebooks/pdf_to_txt.ipynb#W3sdnNjb2RlLXJlbW90ZQ%3D%3D?line=17'>18</a>\u001b[0m \u001b[39mwith\u001b[39;00m \u001b[39mopen\u001b[39m(\u001b[39m'\u001b[39m\u001b[39mnew.pdf\u001b[39m\u001b[39m'\u001b[39m, \u001b[39m'\u001b[39m\u001b[39mwb\u001b[39m\u001b[39m'\u001b[39m) \u001b[39mas\u001b[39;00m f:\n\u001b[1;32m     <a href='vscode-notebook-cell://wsl%2Bubuntu/home/noahdarwich/code/NoahDarwich/Leb_analysis/Notebooks/pdf_to_txt.ipynb#W3sdnNjb2RlLXJlbW90ZQ%3D%3D?line=18'>19</a>\u001b[0m     f\u001b[39m.\u001b[39mwrite(pdf_content)\n\u001b[0;32m---> <a href='vscode-notebook-cell://wsl%2Bubuntu/home/noahdarwich/code/NoahDarwich/Leb_analysis/Notebooks/pdf_to_txt.ipynb#W3sdnNjb2RlLXJlbW90ZQ%3D%3D?line=20'>21</a>\u001b[0m pdf \u001b[39m=\u001b[39m PdfFileReader(\u001b[39mopen\u001b[39;49m(\u001b[39m'\u001b[39;49m\u001b[39mnew.pdf\u001b[39;49m\u001b[39m'\u001b[39;49m, \u001b[39m'\u001b[39;49m\u001b[39mrb\u001b[39;49m\u001b[39m'\u001b[39;49m))\n\u001b[1;32m     <a href='vscode-notebook-cell://wsl%2Bubuntu/home/noahdarwich/code/NoahDarwich/Leb_analysis/Notebooks/pdf_to_txt.ipynb#W3sdnNjb2RlLXJlbW90ZQ%3D%3D?line=22'>23</a>\u001b[0m \u001b[39mfor\u001b[39;00m page \u001b[39min\u001b[39;00m \u001b[39mrange\u001b[39m(\u001b[39m1\u001b[39m,pdf\u001b[39m.\u001b[39m_get_num_pages()):\n\u001b[1;32m     <a href='vscode-notebook-cell://wsl%2Bubuntu/home/noahdarwich/code/NoahDarwich/Leb_analysis/Notebooks/pdf_to_txt.ipynb#W3sdnNjb2RlLXJlbW90ZQ%3D%3D?line=23'>24</a>\u001b[0m     \u001b[39mwith\u001b[39;00m \u001b[39mopen\u001b[39m(\u001b[39m'\u001b[39m\u001b[39mnew.pdf\u001b[39m\u001b[39m'\u001b[39m, \u001b[39m'\u001b[39m\u001b[39mrb\u001b[39m\u001b[39m'\u001b[39m) \u001b[39mas\u001b[39;00m f:\n",
      "File \u001b[0;32m~/.pyenv/versions/3.8.12/envs/lewagon/lib/python3.8/site-packages/PyPDF2/_reader.py:1764\u001b[0m, in \u001b[0;36mPdfFileReader.__init__\u001b[0;34m(self, *args, **kwargs)\u001b[0m\n\u001b[1;32m   1762\u001b[0m \u001b[39mif\u001b[39;00m \u001b[39m\"\u001b[39m\u001b[39mstrict\u001b[39m\u001b[39m\"\u001b[39m \u001b[39mnot\u001b[39;00m \u001b[39min\u001b[39;00m kwargs \u001b[39mand\u001b[39;00m \u001b[39mlen\u001b[39m(args) \u001b[39m<\u001b[39m \u001b[39m2\u001b[39m:\n\u001b[1;32m   1763\u001b[0m     kwargs[\u001b[39m\"\u001b[39m\u001b[39mstrict\u001b[39m\u001b[39m\"\u001b[39m] \u001b[39m=\u001b[39m \u001b[39mTrue\u001b[39;00m  \u001b[39m# maintain the default\u001b[39;00m\n\u001b[0;32m-> 1764\u001b[0m \u001b[39msuper\u001b[39;49m()\u001b[39m.\u001b[39;49m\u001b[39m__init__\u001b[39;49m(\u001b[39m*\u001b[39;49margs, \u001b[39m*\u001b[39;49m\u001b[39m*\u001b[39;49mkwargs)\n",
      "File \u001b[0;32m~/.pyenv/versions/3.8.12/envs/lewagon/lib/python3.8/site-packages/PyPDF2/_reader.py:269\u001b[0m, in \u001b[0;36mPdfReader.__init__\u001b[0;34m(self, stream, strict, password)\u001b[0m\n\u001b[1;32m    267\u001b[0m     \u001b[39mwith\u001b[39;00m \u001b[39mopen\u001b[39m(stream, \u001b[39m\"\u001b[39m\u001b[39mrb\u001b[39m\u001b[39m\"\u001b[39m) \u001b[39mas\u001b[39;00m fh:\n\u001b[1;32m    268\u001b[0m         stream \u001b[39m=\u001b[39m BytesIO(fh\u001b[39m.\u001b[39mread())\n\u001b[0;32m--> 269\u001b[0m \u001b[39mself\u001b[39;49m\u001b[39m.\u001b[39;49mread(stream)\n\u001b[1;32m    270\u001b[0m \u001b[39mself\u001b[39m\u001b[39m.\u001b[39mstream \u001b[39m=\u001b[39m stream\n\u001b[1;32m    272\u001b[0m \u001b[39mself\u001b[39m\u001b[39m.\u001b[39m_override_encryption \u001b[39m=\u001b[39m \u001b[39mFalse\u001b[39;00m\n",
      "File \u001b[0;32m~/.pyenv/versions/3.8.12/envs/lewagon/lib/python3.8/site-packages/PyPDF2/_reader.py:1252\u001b[0m, in \u001b[0;36mPdfReader.read\u001b[0;34m(self, stream)\u001b[0m\n\u001b[1;32m   1251\u001b[0m \u001b[39mdef\u001b[39;00m \u001b[39mread\u001b[39m(\u001b[39mself\u001b[39m, stream: StreamType) \u001b[39m-\u001b[39m\u001b[39m>\u001b[39m \u001b[39mNone\u001b[39;00m:\n\u001b[0;32m-> 1252\u001b[0m     \u001b[39mself\u001b[39;49m\u001b[39m.\u001b[39;49m_basic_validation(stream)\n\u001b[1;32m   1253\u001b[0m     \u001b[39mself\u001b[39m\u001b[39m.\u001b[39m_find_eof_marker(stream)\n\u001b[1;32m   1254\u001b[0m     startxref \u001b[39m=\u001b[39m \u001b[39mself\u001b[39m\u001b[39m.\u001b[39m_find_startxref_pos(stream)\n",
      "File \u001b[0;32m~/.pyenv/versions/3.8.12/envs/lewagon/lib/python3.8/site-packages/PyPDF2/_reader.py:1297\u001b[0m, in \u001b[0;36mPdfReader._basic_validation\u001b[0;34m(self, stream)\u001b[0m\n\u001b[1;32m   1295\u001b[0m header_byte \u001b[39m=\u001b[39m stream\u001b[39m.\u001b[39mread(\u001b[39m5\u001b[39m)\n\u001b[1;32m   1296\u001b[0m \u001b[39mif\u001b[39;00m header_byte \u001b[39m!=\u001b[39m \u001b[39mb\u001b[39m\u001b[39m\"\u001b[39m\u001b[39m%\u001b[39m\u001b[39mPDF-\u001b[39m\u001b[39m\"\u001b[39m:\n\u001b[0;32m-> 1297\u001b[0m     \u001b[39mraise\u001b[39;00m PdfReadError(\n\u001b[1;32m   1298\u001b[0m         \u001b[39mf\u001b[39m\u001b[39m\"\u001b[39m\u001b[39mPDF starts with \u001b[39m\u001b[39m'\u001b[39m\u001b[39m{\u001b[39;00mheader_byte\u001b[39m.\u001b[39mdecode(\u001b[39m'\u001b[39m\u001b[39mutf8\u001b[39m\u001b[39m'\u001b[39m)\u001b[39m}\u001b[39;00m\u001b[39m'\u001b[39m\u001b[39m, \u001b[39m\u001b[39m\"\u001b[39m\n\u001b[1;32m   1299\u001b[0m         \u001b[39m\"\u001b[39m\u001b[39mbut \u001b[39m\u001b[39m'\u001b[39m\u001b[39m%\u001b[39m\u001b[39mPDF-\u001b[39m\u001b[39m'\u001b[39m\u001b[39m expected\u001b[39m\u001b[39m\"\u001b[39m\n\u001b[1;32m   1300\u001b[0m     )\n\u001b[1;32m   1301\u001b[0m stream\u001b[39m.\u001b[39mseek(\u001b[39m0\u001b[39m, os\u001b[39m.\u001b[39mSEEK_END)\n",
      "\u001b[0;31mPdfReadError\u001b[0m: PDF starts with '<!DOC', but '%PDF-' expected"
     ]
    }
   ],
   "source": [
    "for folder_id in year_folder_id_dict.keys():\n",
    "    results = service.files().list(q=f\"'{year_folder_id_dict[folder_id]}' in parents\",fields=\"nextPageToken, files(id, name)\").execute()\n",
    "    files = results.get('files', [])\n",
    "\n",
    "    # Iterate through the files\n",
    "    for file in files:\n",
    "        file_id = file.get('id')\n",
    "        file_name = file.get('name')\n",
    "        \n",
    "        request = service.files().get_media(fileId=file_id)\n",
    "        fh = io.BytesIO()\n",
    "        downloader = MediaIoBaseDownload(fh, request)\n",
    "        done = False\n",
    "        while done is False:\n",
    "            status, done = downloader.next_chunk()\n",
    "            #print(\"Download %d%%.\" % int(status.progress() * 100))\n",
    "        pdf_content = fh.getvalue()\n",
    "        with open('new.pdf', 'wb') as f:\n",
    "            f.write(pdf_content)\n",
    "\n",
    "        pdf = PdfFileReader(open('new.pdf', 'rb'))\n",
    "\n",
    "        for page in range(1,pdf._get_num_pages()):\n",
    "            with open('new.pdf', 'rb') as f:\n",
    "                laparams = LAParams(char_margin=1.0, line_margin=0.5, word_margin=0.1)\n",
    "                outfp = io.StringIO()\n",
    "                outfp.seek(0)\n",
    "                extract_text_to_fp(f, outfp, laparams=laparams, page_numbers={page})\n",
    "                outfp.seek(0)\n",
    "                text = outfp.read()\n",
    "                reshaper = ArabicReshaper(configuration=configuration)\n",
    "                corrected_text = get_display(text)\n",
    "                reshaped_text = reshaper.reshape(corrected_text)\n",
    "                \n",
    "                \n",
    "                section = ''.join(x for x in reshaped_text[:60] if x not in string.digits).strip().replace('\\n',' ').replace('ـ', '')\n",
    "                section = [x for x in section.split() if len(x) > 2]\n",
    "                section_encoded = [convert_text(x) for x in section]\n",
    "                \n",
    "                if any(x in section_encoded for x in section_keyword_encoded):\n",
    "\n",
    "                        reshaped_text = reshaped_text.strip().replace('\\n',' ').replace('ـ', '')\n",
    "                        encoded_text = []\n",
    "                        for x in reshaped_text.split():\n",
    "                            if len(x) > 1:\n",
    "                                encoded_text.append(convert_text(x))\n",
    "                        \n",
    "                        if any(x in encoded_text for x in Keywords_encoded):\n",
    "                            output_pdf = PdfFileWriter()\n",
    "                            output_pdf.addPage(pdf.getPage(page))\n",
    "                            name = file_name.replace('.pdf', f'-page-{int(page)+1}.pdf')\n",
    "                            with open(name, 'wb') as f_page:\n",
    "                                output_pdf.write(f_page)\n",
    "                                file = tempfile.NamedTemporaryFile()\n",
    "                                file.write(open(name, 'rb').read())\n",
    "                                file.seek(0)\n",
    "                                parent = file_name[:3]\n",
    "                                file_metadata = {'name': name,'parents':[events_folder_id_dict[parent]]}\n",
    "                                \n",
    "                                media = MediaFileUpload(file.name,\n",
    "                                                mimetype='application/pdf')\n",
    "                                \n",
    "                                service.files().create(body=file_metadata, media_body=media, fields='id').execute()\n",
    "                                   "
   ]
  }
 ],
 "metadata": {
  "kernelspec": {
   "display_name": "lewagon",
   "language": "python",
   "name": "python3"
  },
  "language_info": {
   "codemirror_mode": {
    "name": "ipython",
    "version": 3
   },
   "file_extension": ".py",
   "mimetype": "text/x-python",
   "name": "python",
   "nbconvert_exporter": "python",
   "pygments_lexer": "ipython3",
   "version": "3.8.12"
  },
  "orig_nbformat": 4,
  "vscode": {
   "interpreter": {
    "hash": "5440022c2f58b20b0cc375f131c03911c244cc52e9e4cb2d6244c26d3c005d2f"
   }
  }
 },
 "nbformat": 4,
 "nbformat_minor": 2
}
