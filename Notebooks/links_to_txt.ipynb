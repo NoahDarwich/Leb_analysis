{
 "cells": [
  {
   "cell_type": "code",
   "execution_count": 2,
   "metadata": {},
   "outputs": [],
   "source": [
    "import io\n",
    "import tempfile\n",
    "import os\n",
    "import pandas as pd\n",
    "import re"
   ]
  },
  {
   "cell_type": "code",
   "execution_count": 3,
   "metadata": {},
   "outputs": [],
   "source": [
    "from oauth2client.service_account import ServiceAccountCredentials\n",
    "from googleapiclient.discovery import build\n",
    "from googleapiclient.http import MediaIoBaseDownload\n",
    "\n",
    "from pdfminer.pdfinterp import PDFResourceManager\n",
    "from pdfminer.converter import TextConverter\n",
    "from pdfminer.pdfinterp import PDFPageInterpreter\n",
    "from pdfminer.pdfpage import PDFPage"
   ]
  },
  {
   "cell_type": "code",
   "execution_count": 4,
   "metadata": {},
   "outputs": [],
   "source": [
    "import gspread\n",
    "import subprocess\n",
    "\n",
    "import PyPDF2\n",
    "import requests"
   ]
  },
  {
   "cell_type": "code",
   "execution_count": 16,
   "metadata": {},
   "outputs": [
    {
     "data": {
      "text/html": [
       "<div>\n",
       "<style scoped>\n",
       "    .dataframe tbody tr th:only-of-type {\n",
       "        vertical-align: middle;\n",
       "    }\n",
       "\n",
       "    .dataframe tbody tr th {\n",
       "        vertical-align: top;\n",
       "    }\n",
       "\n",
       "    .dataframe thead th {\n",
       "        text-align: right;\n",
       "    }\n",
       "</style>\n",
       "<table border=\"1\" class=\"dataframe\">\n",
       "  <thead>\n",
       "    <tr style=\"text-align: right;\">\n",
       "      <th></th>\n",
       "      <th>Initials</th>\n",
       "      <th>datecoded</th>\n",
       "      <th>narrative</th>\n",
       "      <th>nameofevent</th>\n",
       "      <th>Startdate</th>\n",
       "      <th>endate</th>\n",
       "      <th>ongoing</th>\n",
       "      <th>timeofprotest</th>\n",
       "      <th>time_range</th>\n",
       "      <th>governorate</th>\n",
       "      <th>...</th>\n",
       "      <th>pagenum1_restored</th>\n",
       "      <th>URL1_restored</th>\n",
       "      <th>Unnamed: 158</th>\n",
       "      <th>drive_text</th>\n",
       "      <th>Unnamed: 160</th>\n",
       "      <th>drive</th>\n",
       "      <th>Unnamed: 162</th>\n",
       "      <th>Unnamed: 163</th>\n",
       "      <th>Unnamed: 164</th>\n",
       "      <th>Unnamed: 165</th>\n",
       "    </tr>\n",
       "    <tr>\n",
       "      <th>recordnumber</th>\n",
       "      <th></th>\n",
       "      <th></th>\n",
       "      <th></th>\n",
       "      <th></th>\n",
       "      <th></th>\n",
       "      <th></th>\n",
       "      <th></th>\n",
       "      <th></th>\n",
       "      <th></th>\n",
       "      <th></th>\n",
       "      <th></th>\n",
       "      <th></th>\n",
       "      <th></th>\n",
       "      <th></th>\n",
       "      <th></th>\n",
       "      <th></th>\n",
       "      <th></th>\n",
       "      <th></th>\n",
       "      <th></th>\n",
       "      <th></th>\n",
       "      <th></th>\n",
       "    </tr>\n",
       "  </thead>\n",
       "  <tbody>\n",
       "    <tr>\n",
       "      <th>20190001.0</th>\n",
       "      <td>HAM</td>\n",
       "      <td>2022-11-23 00:00:00</td>\n",
       "      <td>CGTL and Sabaa Party organize a nation wide st...</td>\n",
       "      <td>NaN</td>\n",
       "      <td>2019-01-04</td>\n",
       "      <td>NaT</td>\n",
       "      <td>0.0</td>\n",
       "      <td>NaN</td>\n",
       "      <td>Unspecified</td>\n",
       "      <td>National</td>\n",
       "      <td>...</td>\n",
       "      <td>NaN</td>\n",
       "      <td>NaN</td>\n",
       "      <td>NaN</td>\n",
       "      <td>NaN</td>\n",
       "      <td>NaN</td>\n",
       "      <td>NaN</td>\n",
       "      <td>NaN</td>\n",
       "      <td>NaN</td>\n",
       "      <td>NaN</td>\n",
       "      <td>NaN</td>\n",
       "    </tr>\n",
       "    <tr>\n",
       "      <th>20190002.0</th>\n",
       "      <td>HAM</td>\n",
       "      <td>2023-01-12 00:00:00</td>\n",
       "      <td>اهالي تمنين التحتا يقطعون الطريق على تقاطع الم...</td>\n",
       "      <td>NaN</td>\n",
       "      <td>2019-01-04</td>\n",
       "      <td>NaT</td>\n",
       "      <td>NaN</td>\n",
       "      <td>NaN</td>\n",
       "      <td>Unspecified</td>\n",
       "      <td>Beqaa</td>\n",
       "      <td>...</td>\n",
       "      <td>NaN</td>\n",
       "      <td>NaN</td>\n",
       "      <td>NaN</td>\n",
       "      <td>NaN</td>\n",
       "      <td>NaN</td>\n",
       "      <td>NaN</td>\n",
       "      <td>NaN</td>\n",
       "      <td>NaN</td>\n",
       "      <td>NaN</td>\n",
       "      <td>NaN</td>\n",
       "    </tr>\n",
       "  </tbody>\n",
       "</table>\n",
       "<p>2 rows × 165 columns</p>\n",
       "</div>"
      ],
      "text/plain": [
       "             Initials            datecoded   \n",
       "recordnumber                                 \n",
       "20190001.0        HAM  2022-11-23 00:00:00  \\\n",
       "20190002.0        HAM  2023-01-12 00:00:00   \n",
       "\n",
       "                                                      narrative nameofevent   \n",
       "recordnumber                                                                  \n",
       "20190001.0    CGTL and Sabaa Party organize a nation wide st...         NaN  \\\n",
       "20190002.0    اهالي تمنين التحتا يقطعون الطريق على تقاطع الم...         NaN   \n",
       "\n",
       "              Startdate endate  ongoing timeofprotest   time_range   \n",
       "recordnumber                                                         \n",
       "20190001.0   2019-01-04    NaT      0.0           NaN  Unspecified  \\\n",
       "20190002.0   2019-01-04    NaT      NaN           NaN  Unspecified   \n",
       "\n",
       "             governorate  ... pagenum1_restored URL1_restored Unnamed: 158   \n",
       "recordnumber              ...                                                \n",
       "20190001.0      National  ...               NaN           NaN          NaN  \\\n",
       "20190002.0         Beqaa  ...               NaN           NaN          NaN   \n",
       "\n",
       "             drive_text Unnamed: 160 drive  Unnamed: 162 Unnamed: 163   \n",
       "recordnumber                                                            \n",
       "20190001.0          NaN          NaN   NaN           NaN          NaN  \\\n",
       "20190002.0          NaN          NaN   NaN           NaN          NaN   \n",
       "\n",
       "             Unnamed: 164  Unnamed: 165  \n",
       "recordnumber                             \n",
       "20190001.0            NaN           NaN  \n",
       "20190002.0            NaN           NaN  \n",
       "\n",
       "[2 rows x 165 columns]"
      ]
     },
     "execution_count": 16,
     "metadata": {},
     "output_type": "execute_result"
    }
   ],
   "source": [
    "df = pd.read_excel('../Data/Final_Thawra.xlsx', header=1, index_col='recordnumber')\n",
    "df.head(2)"
   ]
  },
  {
   "cell_type": "code",
   "execution_count": 17,
   "metadata": {},
   "outputs": [],
   "source": [
    "# df['drive'] = ''\n",
    "# for _, row in df.iterrows():\n",
    "#     for i in row.index:\n",
    "#         if str(row[i]).startswith('https://drive.google'):\n",
    "#             df.at[_,'drive'] = row[i]"
   ]
  },
  {
   "cell_type": "code",
   "execution_count": 5,
   "metadata": {},
   "outputs": [],
   "source": [
    "def extract_text_from_pdf(pdf_content):\n",
    "  resource_manager = PDFResourceManager()\n",
    "  fake_file_handle = io.StringIO()\n",
    "  converter = TextConverter(resource_manager, fake_file_handle)\n",
    "  page_interpreter = PDFPageInterpreter(resource_manager, converter)\n",
    "\n",
    "  with io.BytesIO(pdf_content) as fh:\n",
    "    for page in PDFPage.get_pages(fh,\n",
    "                                  caching=True,\n",
    "                                  check_extractable=True):\n",
    "      page_interpreter.process_page(page)\n",
    "\n",
    "    text = fake_file_handle.getvalue()\n",
    "\n",
    "  # close open handles\n",
    "  converter.close()\n",
    "  fake_file_handle.close()\n",
    "\n",
    "  return text"
   ]
  },
  {
   "cell_type": "code",
   "execution_count": 6,
   "metadata": {},
   "outputs": [],
   "source": [
    "def extract_text_from_pdf(pdf_path):\n",
    "    # fh = io.BytesIO()\n",
    "    # downloader = MediaIoBaseDownload(fh, response)\n",
    "    # pdf_content = fh.getvalue()\n",
    "    with open(pdf_path, 'rb') as f:\n",
    "            reader = PyPDF2.PdfReader(f)\n",
    "            for page_num in range(reader.numPages):\n",
    "                page = reader.getPage(page_num)\n",
    "                text += page.extractText()\n",
    "    return text\n"
   ]
  },
  {
   "cell_type": "code",
   "execution_count": 6,
   "metadata": {},
   "outputs": [],
   "source": [
    "def extract_file_id(url):\n",
    "    pattern = r\"open\\?id=([\\w-]+)\"\n",
    "    match = re.search(pattern, url)\n",
    "    if match:\n",
    "        return match.group(1)\n",
    "    else:\n",
    "        pattern = r\"file/d/([\\w-]+)\"\n",
    "        match = re.search(pattern, url)\n",
    "        if match:\n",
    "            return match.group(1)\n",
    "        else:\n",
    "            return None\n"
   ]
  },
  {
   "cell_type": "code",
   "execution_count": 7,
   "metadata": {},
   "outputs": [],
   "source": [
    "def clean_text(pdf_text):\n",
    "    \n",
    "    #cleaned_text = re.sub(r'[^\\u0600-\\u06FF\\s]', '', pdf_text)\n",
    "    \n",
    "    #cleaned_text = re.sub(r'[^؀-ۿ\\s]', '', pdf_text)\n",
    "    cleaned_text = re.sub(r'http\\S+', '', pdf_text)\n",
    "    cleaned_text = re.sub(r'\\s+', ' ', cleaned_text)\n",
    "    cleaned_text = re.sub(r'%[0-9a-fA-F]{2}', '', cleaned_text)\n",
    "    cleaned_text = cleaned_text.replace('\\n',' ').replace('ـ', '').replace('�', '')\n",
    "    return cleaned_text"
   ]
  },
  {
   "cell_type": "code",
   "execution_count": 8,
   "metadata": {},
   "outputs": [],
   "source": [
    "# Set up Google Sheets API credentials\n",
    "scope = ['https://spreadsheets.google.com/feeds', 'https://www.googleapis.com/auth/drive']\n",
    "creds_sheet = ServiceAccountCredentials.from_json_keyfile_name('leba-375419-92c3baf53205.json', scope)\n",
    "client = gspread.authorize(creds_sheet)\n",
    "\n",
    "# Fetch PDF URLs from Google Sheets document\n",
    "spreadsheet_key = '1xyQe3vgYKGl_hcPa1MOEn970xjTUirEUq_ewfiGjLRs'\n",
    "sheet_name = 'Main'\n",
    "worksheet = client.open_by_key(spreadsheet_key).worksheet(sheet_name)\n"
   ]
  },
  {
   "cell_type": "code",
   "execution_count": 9,
   "metadata": {},
   "outputs": [],
   "source": [
    "creds_drive = ServiceAccountCredentials.from_json_keyfile_name('leba-375419-92c3baf53205.json',\n",
    "                                                         scopes=['https://www.googleapis.com/auth/drive'])\n",
    "service_drive = build('drive', 'v3', credentials=creds_drive)"
   ]
  },
  {
   "cell_type": "code",
   "execution_count": 10,
   "metadata": {},
   "outputs": [
    {
     "data": {
      "text/plain": [
       "114"
      ]
     },
     "execution_count": 10,
     "metadata": {},
     "output_type": "execute_result"
    }
   ],
   "source": [
    "urls = worksheet.col_values(161)\n",
    "urls = [x for x in urls if len(x) > 6] \n",
    "len(urls) "
   ]
  },
  {
   "cell_type": "code",
   "execution_count": 16,
   "metadata": {},
   "outputs": [
    {
     "data": {
      "text/plain": [
       "72"
      ]
     },
     "execution_count": 16,
     "metadata": {},
     "output_type": "execute_result"
    }
   ],
   "source": [
    "urls = [x for x in urls if x]\n",
    "len(urls) "
   ]
  },
  {
   "cell_type": "code",
   "execution_count": 17,
   "metadata": {},
   "outputs": [
    {
     "data": {
      "text/plain": [
       "['https://drive.google.com/file/d/1wWRdWZwku41hMtd7SlnisWJfy9WfJChB/view?usp=sharing',\n",
       " 'https://drive.google.com/file/d/1VqmneDgmkNDJqQ-GHykuN0hyK-XkfiTl/view?usp=share_link',\n",
       " 'https://drive.google.com/file/d/1Xa737zv-OIwVrsm-Mwil_yqMMe8pZebK/view?usp=sharing',\n",
       " 'https://drive.google.com/file/d/10yA6y7aDAFaaADcIQtUeeVwy_SN5Rj6K/view?usp=share_link',\n",
       " 'https://drive.google.com/open?id=10dcHd7ug12K7u0-A8i2SfdVKald2Em2q&authuser=amrdukmak%40gmail.com&usp=drive_fs',\n",
       " 'https://drive.google.com/file/d/1UHdjy43HGOo6k4WZ8vWt7bZVbUcgb2Yh/view?usp=sharing',\n",
       " 'https://drive.google.com/file/d/1ZkZh4ArQGDPJvMnvdrMuIC9THJWv5KhR/view?usp=share_link',\n",
       " 'https://drive.google.com/open?id=14O_oP08uaJr3MFasdxyjRogFJyuNlTIE&authuser=amrdukmak%40gmail.com&usp=drive_fs',\n",
       " 'https://drive.google.com/file/d/1YH5c4v-A2aeQOXebjogFXbX6OPTTvSGN/view?usp=share_link',\n",
       " 'https://drive.google.com/file/d/1_FQs1LEQKLNofYdkq_31gI-1vuKE2BzA/view?usp=sharing',\n",
       " 'https://drive.google.com/open?id=1LxtQ5QRqS8SAPFjiDDxZtm2c9sQeFu0Z&authuser=amrdukmak%40gmail.com&usp=drive_fs',\n",
       " 'https://drive.google.com/file/d/1HeDda9ZmSUn3BbpjoPna1uGrRr7L-fY2/view?usp=share_link',\n",
       " 'https://drive.google.com/file/d/1ApbJbabRmpBCoAotIwx04Qb5IazQBIFT/view?usp=sharing',\n",
       " 'https://drive.google.com/open?id=10hgugPTk_zpvbtVExlxpy1hlJnWApQLg&authuser=amrdukmak%40gmail.com&usp=drive_fs',\n",
       " 'https://drive.google.com/file/d/1MCe-v4ZTGvvLEsbzy8Uv7PfP0FrV9Xr_/view?usp=sharing',\n",
       " 'https://drive.google.com/open?id=1MLRy-tMFMa1STdrZy1JPeDoI6wykMwuF&authuser=amrdukmak%40gmail.com&usp=drive_fs',\n",
       " 'https://drive.google.com/file/d/1G4U7JefQm0WnXMqAfeOmYl26dIgMgtzE/view?usp=share_link',\n",
       " 'https://drive.google.com/open?id=13VPGOI_Y1HWsLVLy4X-Xst6rvM4Y-9kv&authuser=amrdukmak%40gmail.com&usp=drive_fs',\n",
       " 'https://drive.google.com/file/d/1qpdkPtD-GAIBpxHYM5bZ0qS7yP4hbJyl/view?usp=share_link',\n",
       " 'https://drive.google.com/file/d/1FXAAu8g0La0GOcUfAKC70J8KD19xUuGf/view?usp=share_link',\n",
       " 'https://drive.google.com/file/d/1mlcGza_KoDOP6RUkgDqCqjgPUUqhWWDS/view?usp=share_link',\n",
       " 'https://drive.google.com/file/d/1PKrBrnJ9_olIht-QPDPTGF7plXsDCWvY/view?usp=share_link',\n",
       " 'https://drive.google.com/file/d/1LpXzRsf8ajCnr1PUkfQ0WkdzizjJ3yoR/view?usp=share_link',\n",
       " 'https://drive.google.com/file/d/1TWWes4BRwmJDIG5fcAZ6KAtRF13ltoJ8/view?usp=share_link',\n",
       " 'https://drive.google.com/file/d/1dHVIantmeMntGehELjiTrL8_n1ByRkiV/view?usp=share_link',\n",
       " 'https://drive.google.com/file/d/1lqoVCHoxnmLn22QnSItZzvdJA1rClEpO/view?usp=share_link',\n",
       " 'https://drive.google.com/file/d/1VaYVH4dBXdyGsh9aT9iDkRoPcJbO8ZQe/view?usp=share_link',\n",
       " 'https://drive.google.com/file/d/1HrNIFfNIhHhunho5RKvBfJX3-Rd_MWxp/view?usp=share_link',\n",
       " 'https://drive.google.com/file/d/1SNe0V7h8FQfOtPbQNSW_TiVEX3eo86kR/view?usp=share_link',\n",
       " 'https://drive.google.com/file/d/1BFCj2OMmgICVNbZLLdl8ccODMNuHGnh8/view?usp=sharing',\n",
       " 'https://drive.google.com/open?id=10lfFUPAUhzKw-t_9GJpzqDk8uvEOnV-n&authuser=amrdukmak%40gmail.com&usp=drive_fs',\n",
       " 'https://drive.google.com/open?id=10ZtkgbYUIVodTVWAQv9O3HlqnJ4KR7_g&authuser=amrdukmak%40gmail.com&usp=drive_fs',\n",
       " 'https://drive.google.com/file/d/1XuMnbZfzGetzFTgbHki64QR7E0ew5GKz/view?usp=sharing',\n",
       " 'https://drive.google.com/file/d/11pmmQA5XYOwVxA8_X-E0vHCCUpgF6Gh_/view?usp=sharing',\n",
       " 'https://drive.google.com/file/d/1_HN87IjjZxrh-Uv8DSFr0b9a48yrEXsU/view?usp=sharing',\n",
       " 'https://drive.google.com/file/d/1LsTK8DmygRI4MdERpQVw550l4ZwGGFdp/view?usp=sharing',\n",
       " 'https://drive.google.com/file/d/1dnR0EHBGVylpg3nw9OCMLZAGa5odh8kx/view?usp=sharing',\n",
       " 'https://drive.google.com/drive/folders/14dyxAk8a9NbT2L3vO0HN64bBEchfo8Yj?usp=sharing',\n",
       " 'https://drive.google.com/file/d/1VmiQ2AsyAqx2iyV2_s32nWEKBfwBDLjn/view?usp=sharing',\n",
       " 'https://drive.google.com/file/d/1eBM-4v0CSOAuSKoZW9PIvkuCQLyvrkNK/view?usp=sharing',\n",
       " 'https://drive.google.com/drive/folders/1Z_iGSYrn3S8S_TVsuGkM1ESZ1eRQW0NI?usp=share_link',\n",
       " 'https://drive.google.com/file/d/1xzjF5u_KIQJha86vCOMFZRUsWmtvI98n/view?usp=sharing',\n",
       " 'https://drive.google.com/file/d/1cO07wAsFvFcLMMMZVHFLcIw6KG6RASwB/view?usp=sharing',\n",
       " 'https://drive.google.com/file/d/1CXGdrfuEN_Crd27muHYL4pts7sDfGOpr/view?usp=share_link',\n",
       " 'https://drive.google.com/file/d/1VudjjorF63K4Qb0ulKFqomMhwGE2_LzS/view?usp=sharing',\n",
       " 'https://drive.google.com/file/d/1_UIEeyMIno91idttKJ5H9njOkTybpjF7/view?usp=sharing',\n",
       " 'https://drive.google.com/file/d/1ovvjIZJshuSyT3qHmaK9sRFFtsnMwsQw/view?usp=share_link',\n",
       " 'https://drive.google.com/file/d/1tLLhYrUWc9mLKC8FGef-pll0aMl-5RMY/view?usp=sharing',\n",
       " 'https://drive.google.com/file/d/17a3Z0YmOM20HH7pt3U-VZf7qVuCRrsV2/view?usp=sharing',\n",
       " 'https://drive.google.com/file/d/1xdDIjtDzyNhP0I2x39eqSssck3OfB_pP/view?usp=share_link',\n",
       " 'https://drive.google.com/file/d/1ykSLUFW2hnwKi5g_2Gw0Z2SEDzjzmvxs/view?usp=share_link',\n",
       " 'https://drive.google.com/file/d/14v7ZXwfihFK541huLFX4NHpMsIrGVQmg/view?usp=sharing',\n",
       " 'https://drive.google.com/file/d/1uVJI3IsTbquvo4jYTZzngB_KpepJOKix/view?usp=share_link',\n",
       " 'https://drive.google.com/file/d/1yb2Atc-OLR8cFew0lQx4nX5QgGycqkW-/view?usp=share_link',\n",
       " 'https://drive.google.com/file/d/1pkiHTzDT_TOHj0Vuv1yJtgO_TQwWOC3y/view?usp=share_link',\n",
       " 'https://drive.google.com/file/d/1_y6qbvhEEaGMqP4JPg9TQqvQx5itSuFe/view?usp=share_link',\n",
       " 'https://drive.google.com/file/d/1wvor6za8rvqUOcFxyx7GdFH7mFunbv97/view?usp=sharing',\n",
       " 'https://drive.google.com/file/d/1vCjFNBAOkcyI0Sz11sTfKI1UojFJxPuW/view?usp=share_link',\n",
       " 'https://drive.google.com/file/d/1PksKPMTbGcu6vOcz-Odw9QQycIqY9szq/view?usp=share_link',\n",
       " 'https://drive.google.com/file/d/1FTC-cfAYkCJMI-5nozhHqKzX9bBeCRwK/view?usp=share_link',\n",
       " 'https://drive.google.com/file/d/1tUmbbSvFhO73VPGWu0_7FE1PjcIfIcqn/view?usp=sharing',\n",
       " 'https://drive.google.com/file/d/1DQ4VCdBtEwH7JdNWQsHqXDIyLxKIr2hC/view?usp=sharing',\n",
       " 'https://drive.google.com/file/d/1aK1AcQuis7dn3DaEY0mxQ4KZiuUIC86-/view?usp=sharing',\n",
       " 'https://drive.google.com/file/d/1UOO3C0DeuQaa5HXT8RsrPqtHegEY0nmo/view?usp=sharing',\n",
       " 'https://drive.google.com/file/d/1su-hmdqb7pe2Y1zwADMZ6Ehg8ju7V2Pu/view?usp=sharing',\n",
       " 'https://drive.google.com/file/d/1fYWHjkU49a6uOKXpOiVkL5OG-eb4836m/view?usp=share_link',\n",
       " 'https://drive.google.com/file/d/1i3qUFRZnUITnyWSo-o9shrzmokNy_DXw/view?usp=sharing',\n",
       " 'https://drive.google.com/file/d/11RIW7FVgrqiDCWa-St5CAeOR7nR2qjyb/view?usp=share_link',\n",
       " 'https://drive.google.com/file/d/1m_o7qB0Fxm119IC94N4MN1uZWuNuPxa1/view?usp=share_link',\n",
       " 'https://drive.google.com/file/d/1BYjuPxmpVnn6Auhc3uSYOYrcm6QnB6wK/view?usp=share_link',\n",
       " 'https://drive.google.com/file/d/17iss7RbUhlGRB2qA-y55uBSSfc1HKZO4/view?usp=share_link',\n",
       " 'https://drive.google.com/open?id=12cGsw8Hl1sfzit38wkehQIlr8QcaCh8W&authuser=amrdukmak%40gmail.com&usp=drive_fs']"
      ]
     },
     "execution_count": 17,
     "metadata": {},
     "output_type": "execute_result"
    }
   ],
   "source": [
    "urls"
   ]
  },
  {
   "cell_type": "code",
   "execution_count": 18,
   "metadata": {},
   "outputs": [
    {
     "data": {
      "text/plain": [
       "72"
      ]
     },
     "execution_count": 18,
     "metadata": {},
     "output_type": "execute_result"
    }
   ],
   "source": [
    "urls = list(dict.fromkeys(urls))\n",
    "len(urls)"
   ]
  },
  {
   "cell_type": "code",
   "execution_count": 14,
   "metadata": {},
   "outputs": [],
   "source": [
    "bad_urls =[]"
   ]
  },
  {
   "cell_type": "code",
   "execution_count": 19,
   "metadata": {},
   "outputs": [
    {
     "name": "stdout",
     "output_type": "stream",
     "text": [
      "1.3888888888888888 https://drive.google.com/file/d/1wWRdWZwku41hMtd7SlnisWJfy9WfJChB/view?usp=sharing\n",
      "2.7777777777777777 https://drive.google.com/file/d/1VqmneDgmkNDJqQ-GHykuN0hyK-XkfiTl/view?usp=share_link\n",
      "error\n",
      "4.166666666666667 https://drive.google.com/file/d/10yA6y7aDAFaaADcIQtUeeVwy_SN5Rj6K/view?usp=share_link\n",
      "5.555555555555555 https://drive.google.com/open?id=10dcHd7ug12K7u0-A8i2SfdVKald2Em2q&authuser=amrdukmak%40gmail.com&usp=drive_fs\n",
      "6.944444444444445 https://drive.google.com/file/d/1UHdjy43HGOo6k4WZ8vWt7bZVbUcgb2Yh/view?usp=sharing\n",
      "8.333333333333334 https://drive.google.com/file/d/1ZkZh4ArQGDPJvMnvdrMuIC9THJWv5KhR/view?usp=share_link\n",
      "9.722222222222221 https://drive.google.com/open?id=14O_oP08uaJr3MFasdxyjRogFJyuNlTIE&authuser=amrdukmak%40gmail.com&usp=drive_fs\n",
      "11.11111111111111 https://drive.google.com/file/d/1YH5c4v-A2aeQOXebjogFXbX6OPTTvSGN/view?usp=share_link\n",
      "12.5 https://drive.google.com/file/d/1_FQs1LEQKLNofYdkq_31gI-1vuKE2BzA/view?usp=sharing\n",
      "13.88888888888889 https://drive.google.com/open?id=1LxtQ5QRqS8SAPFjiDDxZtm2c9sQeFu0Z&authuser=amrdukmak%40gmail.com&usp=drive_fs\n",
      "15.277777777777779 https://drive.google.com/file/d/1HeDda9ZmSUn3BbpjoPna1uGrRr7L-fY2/view?usp=share_link\n",
      "16.666666666666668 https://drive.google.com/file/d/1ApbJbabRmpBCoAotIwx04Qb5IazQBIFT/view?usp=sharing\n",
      "18.055555555555557 https://drive.google.com/open?id=10hgugPTk_zpvbtVExlxpy1hlJnWApQLg&authuser=amrdukmak%40gmail.com&usp=drive_fs\n",
      "19.444444444444443 https://drive.google.com/file/d/1MCe-v4ZTGvvLEsbzy8Uv7PfP0FrV9Xr_/view?usp=sharing\n",
      "20.833333333333332 https://drive.google.com/open?id=1MLRy-tMFMa1STdrZy1JPeDoI6wykMwuF&authuser=amrdukmak%40gmail.com&usp=drive_fs\n",
      "22.22222222222222 https://drive.google.com/file/d/1G4U7JefQm0WnXMqAfeOmYl26dIgMgtzE/view?usp=share_link\n",
      "23.61111111111111 https://drive.google.com/open?id=13VPGOI_Y1HWsLVLy4X-Xst6rvM4Y-9kv&authuser=amrdukmak%40gmail.com&usp=drive_fs\n",
      "25.0 https://drive.google.com/file/d/1qpdkPtD-GAIBpxHYM5bZ0qS7yP4hbJyl/view?usp=share_link\n",
      "26.38888888888889 https://drive.google.com/file/d/1FXAAu8g0La0GOcUfAKC70J8KD19xUuGf/view?usp=share_link\n",
      "27.77777777777778 https://drive.google.com/file/d/1mlcGza_KoDOP6RUkgDqCqjgPUUqhWWDS/view?usp=share_link\n",
      "29.166666666666668 https://drive.google.com/file/d/1PKrBrnJ9_olIht-QPDPTGF7plXsDCWvY/view?usp=share_link\n",
      "30.555555555555557 https://drive.google.com/file/d/1LpXzRsf8ajCnr1PUkfQ0WkdzizjJ3yoR/view?usp=share_link\n",
      "31.944444444444443 https://drive.google.com/file/d/1TWWes4BRwmJDIG5fcAZ6KAtRF13ltoJ8/view?usp=share_link\n",
      "33.333333333333336 https://drive.google.com/file/d/1dHVIantmeMntGehELjiTrL8_n1ByRkiV/view?usp=share_link\n",
      "34.72222222222222 https://drive.google.com/file/d/1lqoVCHoxnmLn22QnSItZzvdJA1rClEpO/view?usp=share_link\n",
      "36.111111111111114 https://drive.google.com/file/d/1VaYVH4dBXdyGsh9aT9iDkRoPcJbO8ZQe/view?usp=share_link\n",
      "37.5 https://drive.google.com/file/d/1HrNIFfNIhHhunho5RKvBfJX3-Rd_MWxp/view?usp=share_link\n",
      "38.888888888888886 https://drive.google.com/file/d/1SNe0V7h8FQfOtPbQNSW_TiVEX3eo86kR/view?usp=share_link\n",
      "40.27777777777778 https://drive.google.com/file/d/1BFCj2OMmgICVNbZLLdl8ccODMNuHGnh8/view?usp=sharing\n",
      "41.666666666666664 https://drive.google.com/open?id=10lfFUPAUhzKw-t_9GJpzqDk8uvEOnV-n&authuser=amrdukmak%40gmail.com&usp=drive_fs\n",
      "43.05555555555556 https://drive.google.com/open?id=10ZtkgbYUIVodTVWAQv9O3HlqnJ4KR7_g&authuser=amrdukmak%40gmail.com&usp=drive_fs\n",
      "44.44444444444444 https://drive.google.com/file/d/1XuMnbZfzGetzFTgbHki64QR7E0ew5GKz/view?usp=sharing\n",
      "45.833333333333336 https://drive.google.com/file/d/11pmmQA5XYOwVxA8_X-E0vHCCUpgF6Gh_/view?usp=sharing\n",
      "47.22222222222222 https://drive.google.com/file/d/1_HN87IjjZxrh-Uv8DSFr0b9a48yrEXsU/view?usp=sharing\n",
      "48.611111111111114 https://drive.google.com/file/d/1LsTK8DmygRI4MdERpQVw550l4ZwGGFdp/view?usp=sharing\n",
      "50.0 https://drive.google.com/file/d/1dnR0EHBGVylpg3nw9OCMLZAGa5odh8kx/view?usp=sharing\n",
      "51.388888888888886 https://drive.google.com/file/d/1VmiQ2AsyAqx2iyV2_s32nWEKBfwBDLjn/view?usp=sharing\n",
      "52.77777777777778 https://drive.google.com/file/d/1eBM-4v0CSOAuSKoZW9PIvkuCQLyvrkNK/view?usp=sharing\n",
      "54.166666666666664 https://drive.google.com/file/d/1xzjF5u_KIQJha86vCOMFZRUsWmtvI98n/view?usp=sharing\n",
      "55.55555555555556 https://drive.google.com/file/d/1cO07wAsFvFcLMMMZVHFLcIw6KG6RASwB/view?usp=sharing\n",
      "56.94444444444444 https://drive.google.com/file/d/1CXGdrfuEN_Crd27muHYL4pts7sDfGOpr/view?usp=share_link\n",
      "58.333333333333336 https://drive.google.com/file/d/1VudjjorF63K4Qb0ulKFqomMhwGE2_LzS/view?usp=sharing\n",
      "59.72222222222222 https://drive.google.com/file/d/1_UIEeyMIno91idttKJ5H9njOkTybpjF7/view?usp=sharing\n",
      "61.111111111111114 https://drive.google.com/file/d/1ovvjIZJshuSyT3qHmaK9sRFFtsnMwsQw/view?usp=share_link\n",
      "62.5 https://drive.google.com/file/d/1tLLhYrUWc9mLKC8FGef-pll0aMl-5RMY/view?usp=sharing\n",
      "63.888888888888886 https://drive.google.com/file/d/17a3Z0YmOM20HH7pt3U-VZf7qVuCRrsV2/view?usp=sharing\n",
      "65.27777777777777 https://drive.google.com/file/d/1xdDIjtDzyNhP0I2x39eqSssck3OfB_pP/view?usp=share_link\n",
      "66.66666666666667 https://drive.google.com/file/d/1ykSLUFW2hnwKi5g_2Gw0Z2SEDzjzmvxs/view?usp=share_link\n",
      "68.05555555555556 https://drive.google.com/file/d/14v7ZXwfihFK541huLFX4NHpMsIrGVQmg/view?usp=sharing\n",
      "69.44444444444444 https://drive.google.com/file/d/1uVJI3IsTbquvo4jYTZzngB_KpepJOKix/view?usp=share_link\n",
      "70.83333333333333 https://drive.google.com/file/d/1yb2Atc-OLR8cFew0lQx4nX5QgGycqkW-/view?usp=share_link\n",
      "72.22222222222223 https://drive.google.com/file/d/1pkiHTzDT_TOHj0Vuv1yJtgO_TQwWOC3y/view?usp=share_link\n",
      "73.61111111111111 https://drive.google.com/file/d/1_y6qbvhEEaGMqP4JPg9TQqvQx5itSuFe/view?usp=share_link\n",
      "75.0 https://drive.google.com/file/d/1wvor6za8rvqUOcFxyx7GdFH7mFunbv97/view?usp=sharing\n",
      "76.38888888888889 https://drive.google.com/file/d/1vCjFNBAOkcyI0Sz11sTfKI1UojFJxPuW/view?usp=share_link\n",
      "77.77777777777777 https://drive.google.com/file/d/1PksKPMTbGcu6vOcz-Odw9QQycIqY9szq/view?usp=share_link\n",
      "79.16666666666667 https://drive.google.com/file/d/1FTC-cfAYkCJMI-5nozhHqKzX9bBeCRwK/view?usp=share_link\n",
      "80.55555555555556 https://drive.google.com/file/d/1tUmbbSvFhO73VPGWu0_7FE1PjcIfIcqn/view?usp=sharing\n",
      "81.94444444444444 https://drive.google.com/file/d/1DQ4VCdBtEwH7JdNWQsHqXDIyLxKIr2hC/view?usp=sharing\n",
      "83.33333333333333 https://drive.google.com/file/d/1aK1AcQuis7dn3DaEY0mxQ4KZiuUIC86-/view?usp=sharing\n",
      "84.72222222222223 https://drive.google.com/file/d/1UOO3C0DeuQaa5HXT8RsrPqtHegEY0nmo/view?usp=sharing\n",
      "86.11111111111111 https://drive.google.com/file/d/1su-hmdqb7pe2Y1zwADMZ6Ehg8ju7V2Pu/view?usp=sharing\n",
      "87.5 https://drive.google.com/file/d/1fYWHjkU49a6uOKXpOiVkL5OG-eb4836m/view?usp=share_link\n",
      "88.88888888888889 https://drive.google.com/file/d/1i3qUFRZnUITnyWSo-o9shrzmokNy_DXw/view?usp=sharing\n",
      "90.27777777777777 https://drive.google.com/file/d/11RIW7FVgrqiDCWa-St5CAeOR7nR2qjyb/view?usp=share_link\n",
      "91.66666666666667 https://drive.google.com/file/d/1m_o7qB0Fxm119IC94N4MN1uZWuNuPxa1/view?usp=share_link\n",
      "93.05555555555556 https://drive.google.com/file/d/1BYjuPxmpVnn6Auhc3uSYOYrcm6QnB6wK/view?usp=share_link\n",
      "94.44444444444444 https://drive.google.com/file/d/17iss7RbUhlGRB2qA-y55uBSSfc1HKZO4/view?usp=share_link\n",
      "95.83333333333333 https://drive.google.com/open?id=12cGsw8Hl1sfzit38wkehQIlr8QcaCh8W&authuser=amrdukmak%40gmail.com&usp=drive_fs\n"
     ]
    }
   ],
   "source": [
    "count = 0\n",
    "for url in urls:\n",
    "    file_id = extract_file_id(url)\n",
    "    if file_id:\n",
    "        try:\n",
    "            request = service_drive.files().get_media(fileId=file_id)\n",
    "            fh = io.BytesIO()\n",
    "            downloader = MediaIoBaseDownload(fh, request)\n",
    "            done = False\n",
    "            while done is False:\n",
    "                status, done = downloader.next_chunk()\n",
    "                #print(\"Download %d%%.\" % int(status.progress() * 100))\n",
    "            pdf_content = fh.getvalue()\n",
    "            with open('new.pdf', 'wb') as f:\n",
    "                f.write(pdf_content)\n",
    "\n",
    "            pdf = PyPDF2.PdfReader(open('new.pdf', 'rb'))\n",
    "            pdf_text = \"\"\n",
    "\n",
    "            pdf_text = pdf.pages[0].extract_text()\n",
    "            text = clean_text(pdf_text)\n",
    "            cell = worksheet.find(url)\n",
    "            worksheet.update_cell(cell.row, 163, text)\n",
    "            os.remove('new.pdf')\n",
    "            count += 1\n",
    "            print((count * 100)/len(urls) , url)\n",
    "        except:\n",
    "            print('error')\n",
    "            bad_urls.append(url)\n",
    "            worksheet.update_cell(cell.row, 163, 'error')\n",
    "    else:\n",
    "        cell = worksheet.find(url)\n",
    "        worksheet.update_cell(cell.row, 163, 'NOT_FOUND')"
   ]
  },
  {
   "cell_type": "code",
   "execution_count": 23,
   "metadata": {},
   "outputs": [
    {
     "name": "stdout",
     "output_type": "stream",
     "text": [
      "1Xa737zv-OIwVrsm-Mwil_yqMMe8pZebK\n",
      "error\n",
      "1Xa737zv-OIwVrsm-Mwil_yqMMe8pZebK\n",
      "error\n",
      "1Xa737zv-OIwVrsm-Mwil_yqMMe8pZebK\n",
      "error\n",
      "1Xa737zv-OIwVrsm-Mwil_yqMMe8pZebK\n",
      "error\n",
      "1Xa737zv-OIwVrsm-Mwil_yqMMe8pZebK\n",
      "error\n",
      "1Xa737zv-OIwVrsm-Mwil_yqMMe8pZebK\n",
      "error\n",
      "1Xa737zv-OIwVrsm-Mwil_yqMMe8pZebK\n",
      "error\n",
      "1Xa737zv-OIwVrsm-Mwil_yqMMe8pZebK\n",
      "error\n",
      "1Xa737zv-OIwVrsm-Mwil_yqMMe8pZebK\n",
      "error\n",
      "1Xa737zv-OIwVrsm-Mwil_yqMMe8pZebK\n",
      "error\n",
      "1Xa737zv-OIwVrsm-Mwil_yqMMe8pZebK\n",
      "error\n",
      "1Xa737zv-OIwVrsm-Mwil_yqMMe8pZebK\n",
      "error\n",
      "1Xa737zv-OIwVrsm-Mwil_yqMMe8pZebK\n",
      "error\n",
      "1Xa737zv-OIwVrsm-Mwil_yqMMe8pZebK\n",
      "error\n",
      "1Xa737zv-OIwVrsm-Mwil_yqMMe8pZebK\n",
      "error\n",
      "1Xa737zv-OIwVrsm-Mwil_yqMMe8pZebK\n",
      "error\n",
      "1Xa737zv-OIwVrsm-Mwil_yqMMe8pZebK\n",
      "error\n",
      "1Xa737zv-OIwVrsm-Mwil_yqMMe8pZebK\n",
      "error\n",
      "1Xa737zv-OIwVrsm-Mwil_yqMMe8pZebK\n",
      "error\n"
     ]
    }
   ],
   "source": [
    "for url in bad_urls:\n",
    "    file_id = extract_file_id(url)\n",
    "    print(file_id)\n",
    "    if file_id:\n",
    "        try:\n",
    "            request = service_drive.files().get_media(fileId=file_id)\n",
    "            fh = io.BytesIO()\n",
    "            downloader = MediaIoBaseDownload(fh, request)\n",
    "            done = False\n",
    "            while done is False:\n",
    "                status, done = downloader.next_chunk()\n",
    "                #print(\"Download %d%%.\" % int(status.progress() * 100))\n",
    "            pdf_content = fh.getvalue()\n",
    "            with open('new.pdf', 'wb') as f:\n",
    "                f.write(pdf_content)\n",
    "\n",
    "            pdf = PyPDF2.PdfReader(open('new.pdf', 'rb'))\n",
    "            pdf_text = \"\"\n",
    "\n",
    "            pdf_text = pdf.pages[0].extract_text()\n",
    "            text = clean_text(pdf_text)\n",
    "            cell = worksheet.find(url)\n",
    "            worksheet.update_cell(cell.row, 167, text)\n",
    "            os.remove('new.pdf')\n",
    "            count += 1\n",
    "            print((count * 100)/len(urls) , url)\n",
    "        except:\n",
    "            print('error')\n",
    "            bad_urls.append(url)\n",
    "            worksheet.update_cell(cell.row, 167, 'error')\n",
    "    else:\n",
    "        cell = worksheet.find(url)\n",
    "        worksheet.update_cell(cell.row, 167, 'NOT_FOUND')"
   ]
  },
  {
   "cell_type": "code",
   "execution_count": 94,
   "metadata": {},
   "outputs": [
    {
     "name": "stdout",
     "output_type": "stream",
     "text": [
      "https://drive.google.com/open?id=12wiwto6X1NpzNYBDjqnxdsuw9YjE-7Cb&authuser=amrdukmak%40gmail.com&usp=drive_fs\n",
      "12wiwto6X1NpzNYBDjqnxdsuw9YjE-7Cb\n"
     ]
    }
   ],
   "source": [
    "url = 'https://drive.google.com/open?id=12wiwto6X1NpzNYBDjqnxdsuw9YjE-7Cb&authuser=amrdukmak%40gmail.com&usp=drive_fs'\n",
    "\n",
    "file_id = extract_file_id(url)\n",
    "print(url)\n",
    "print(file_id)\n"
   ]
  },
  {
   "cell_type": "code",
   "execution_count": null,
   "metadata": {},
   "outputs": [],
   "source": [
    "for url in urls:\n",
    "    pdf_text = subprocess.check_output(['python', 'pdf_text_extractor.py', url])\n",
    "    # Update Google Sheets with the extracted text\n",
    "    cell = worksheet.find(url)\n",
    "    worksheet.update_cell(cell.row, cell.col -2, pdf_text)"
   ]
  },
  {
   "cell_type": "code",
   "execution_count": 156,
   "metadata": {},
   "outputs": [],
   "source": [
    "# file_id = extract_file_id(urls[444])\n",
    "# results = service_drive.files().get(fileId=file_id).execute()\n",
    "\n",
    "# request = service_drive.files().export_media(fileId=results.get('id'), mimeType=results.get('mimeType'))\n",
    "\n",
    "#request = service_drive.files().get_media(fileId=file_id)\n",
    "# fh = io.BytesIO()\n",
    "# downloader = MediaIoBaseDownload(fh, request)\n",
    "# #print(request.headers)\n",
    "# with open('new.pdf', 'wb') as f:\n",
    "#     f.write(fh.getvalue())\n",
    "\n",
    "# pdf = PyPDF2.PdfReader(open('new.pdf', 'rb'))\n",
    "# pdf_text = \"\"\n",
    "\n",
    "# for page in range(pdf.getNumPages()):\n",
    "#     pdf_text += pdf.getPage(page).extractText()\n",
    "# print(pdf_text)"
   ]
  },
  {
   "cell_type": "code",
   "execution_count": 44,
   "metadata": {},
   "outputs": [
    {
     "name": "stdout",
     "output_type": "stream",
     "text": [
      "{'Content-Type': 'text/html; charset=utf-8', 'X-Frame-Options': 'DENY', 'Set-Cookie': '__Host-GAPS=1:OF5YUw7aq7ru6OsDmA2cnNg3FLJtNw:fcsCCvoj9_ntzmWC; Expires=Thu, 22-May-2025 12:59:42 GMT; Path=/; Secure; HttpOnly; Priority=HIGH', 'Vary': 'Sec-Fetch-Dest, Sec-Fetch-Mode, Sec-Fetch-Site', 'x-auto-login': 'realm=com.google&args=service%3Dwise%26continue%3Dhttps://drive.google.com/open?id%253D11kggumhANH1lY4tObWkvCeRYupIpJGIu%2526authuser%253Damrdukmak@gmail.com%2526usp%253Ddrive_fs', 'Link': '<https://www.google.com/intl/en-US/drive/>; rel=\"canonical\"', 'x-ua-compatible': 'IE=edge', 'Cache-Control': 'no-cache, no-store, max-age=0, must-revalidate', 'Pragma': 'no-cache', 'Expires': 'Mon, 01 Jan 1990 00:00:00 GMT', 'Date': 'Tue, 23 May 2023 12:59:42 GMT', 'Strict-Transport-Security': 'max-age=31536000; includeSubDomains', 'Content-Security-Policy': \"script-src 'nonce-LOruTlHobS3HJdI2LybHaQ' 'unsafe-inline';object-src 'none';base-uri 'self';report-uri /v3/signin/_/AccountsSignInUi/cspreport;worker-src 'self', require-trusted-types-for 'script';report-uri /v3/signin/_/AccountsSignInUi/cspreport\", 'Cross-Origin-Opener-Policy-Report-Only': 'same-origin; report-to=\"AccountsSignInUi\"', 'Cross-Origin-Resource-Policy': 'same-site', 'Accept-CH': 'Sec-CH-UA-Arch, Sec-CH-UA-Bitness, Sec-CH-UA-Full-Version, Sec-CH-UA-Full-Version-List, Sec-CH-UA-Model, Sec-CH-UA-WoW64, Sec-CH-UA-Form-Factor, Sec-CH-UA-Platform, Sec-CH-UA-Platform-Version', 'Permissions-Policy': 'ch-ua-arch=*, ch-ua-bitness=*, ch-ua-full-version=*, ch-ua-full-version-list=*, ch-ua-model=*, ch-ua-wow64=*, ch-ua-form-factor=*, ch-ua-platform=*, ch-ua-platform-version=*', 'Report-To': '{\"group\":\"AccountsSignInUi\",\"max_age\":2592000,\"endpoints\":[{\"url\":\"https://csp.withgoogle.com/csp/report-to/AccountsSignInUi\"}]}', 'Content-Encoding': 'gzip', 'Server': 'ESF', 'X-XSS-Protection': '0', 'X-Content-Type-Options': 'nosniff', 'Alt-Svc': 'h3=\":443\"; ma=2592000,h3-29=\":443\"; ma=2592000', 'Transfer-Encoding': 'chunked'}\n"
     ]
    }
   ],
   "source": [
    "# response = requests.get(urls[300])\n",
    "# print(response.headers)\n",
    "\n",
    "#fh = io.BytesIO(response.content)\n",
    "#downloader = MediaIoBaseDownload(fh, response.content)\n",
    "    \n",
    "# pdf_content = fh.read()\n",
    "# pdf_content\n",
    "# with open('new.pdf', 'wb') as f:\n",
    "#     f.write(pdf_content)\n",
    "    \n",
    "\n",
    "# # pdf_content = response.content\n",
    "# print(pdf_content)\n",
    "# # with open('new.pdf', 'wb') as f:\n",
    "# #     f.write(pdf_content)\n",
    "\n",
    "\n",
    "# pdf = PyPDF2.PdfReader(open('new.pdf', 'rb'))\n",
    "# pdf_text = \"\"\n",
    "# for page in range(pdf.getNumPages()):\n",
    "#     pdf_text += pdf.getPage(page).extractText()\n",
    "\n",
    "# # # Print the extracted text\n",
    "# print(pdf_text)\n",
    "\n",
    "# # fh = io.BytesIO()\n",
    "# # downloader = MediaIoBaseDownload(fh, pdf_content)\n",
    "# # pdf_content = fh.getvalue()\n",
    "# # with open('new.pdf', 'wb') as f:\n",
    "# #         f.write(pdf_content)\n",
    "\n",
    "# # pdf = PyPDF2.PdfReader(open('new.pdf', 'rb'))\n",
    "# # pdf_text = extract_text_from_pdf('new.pdf')\n",
    "# # pdf_text\n",
    "# # # temp_file_path"
   ]
  },
  {
   "cell_type": "code",
   "execution_count": null,
   "metadata": {},
   "outputs": [],
   "source": [
    "# Extract text from each PDF using the local Python function\n"
   ]
  }
 ],
 "metadata": {
  "kernelspec": {
   "display_name": "lewagon",
   "language": "python",
   "name": "python3"
  },
  "language_info": {
   "codemirror_mode": {
    "name": "ipython",
    "version": 3
   },
   "file_extension": ".py",
   "mimetype": "text/x-python",
   "name": "python",
   "nbconvert_exporter": "python",
   "pygments_lexer": "ipython3",
   "version": "3.8.12"
  },
  "orig_nbformat": 4
 },
 "nbformat": 4,
 "nbformat_minor": 2
}
