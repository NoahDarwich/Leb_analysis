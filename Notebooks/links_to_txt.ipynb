{
 "cells": [
  {
   "cell_type": "code",
   "execution_count": 1,
   "metadata": {},
   "outputs": [],
   "source": [
    "import io\n",
    "import tempfile\n",
    "import os\n",
    "import pandas as pd\n",
    "import re"
   ]
  },
  {
   "cell_type": "code",
   "execution_count": 2,
   "metadata": {},
   "outputs": [],
   "source": [
    "from oauth2client.service_account import ServiceAccountCredentials\n",
    "from googleapiclient.discovery import build\n",
    "from googleapiclient.http import MediaIoBaseDownload\n",
    "\n",
    "from pdfminer.pdfinterp import PDFResourceManager\n",
    "from pdfminer.converter import TextConverter\n",
    "from pdfminer.pdfinterp import PDFPageInterpreter\n",
    "from pdfminer.pdfpage import PDFPage"
   ]
  },
  {
   "cell_type": "code",
   "execution_count": 3,
   "metadata": {},
   "outputs": [],
   "source": [
    "import gspread\n",
    "from oauth2client.service_account import ServiceAccountCredentials\n",
    "import subprocess\n",
    "\n",
    "import PyPDF2\n",
    "import requests"
   ]
  },
  {
   "cell_type": "code",
   "execution_count": 4,
   "metadata": {},
   "outputs": [
    {
     "data": {
      "text/html": [
       "<div>\n",
       "<style scoped>\n",
       "    .dataframe tbody tr th:only-of-type {\n",
       "        vertical-align: middle;\n",
       "    }\n",
       "\n",
       "    .dataframe tbody tr th {\n",
       "        vertical-align: top;\n",
       "    }\n",
       "\n",
       "    .dataframe thead th {\n",
       "        text-align: right;\n",
       "    }\n",
       "</style>\n",
       "<table border=\"1\" class=\"dataframe\">\n",
       "  <thead>\n",
       "    <tr style=\"text-align: right;\">\n",
       "      <th></th>\n",
       "      <th>Initials</th>\n",
       "      <th>datecoded</th>\n",
       "      <th>narrative</th>\n",
       "      <th>nameofevent</th>\n",
       "      <th>Startdate</th>\n",
       "      <th>endate</th>\n",
       "      <th>ongoing</th>\n",
       "      <th>timeofprotest</th>\n",
       "      <th>time_range</th>\n",
       "      <th>governorate</th>\n",
       "      <th>...</th>\n",
       "      <th>pagenum1_restored</th>\n",
       "      <th>URL1_restored</th>\n",
       "      <th>Unnamed: 158</th>\n",
       "      <th>drive_text</th>\n",
       "      <th>Unnamed: 160</th>\n",
       "      <th>drive</th>\n",
       "      <th>Unnamed: 162</th>\n",
       "      <th>Unnamed: 163</th>\n",
       "      <th>Unnamed: 164</th>\n",
       "      <th>Unnamed: 165</th>\n",
       "    </tr>\n",
       "    <tr>\n",
       "      <th>recordnumber</th>\n",
       "      <th></th>\n",
       "      <th></th>\n",
       "      <th></th>\n",
       "      <th></th>\n",
       "      <th></th>\n",
       "      <th></th>\n",
       "      <th></th>\n",
       "      <th></th>\n",
       "      <th></th>\n",
       "      <th></th>\n",
       "      <th></th>\n",
       "      <th></th>\n",
       "      <th></th>\n",
       "      <th></th>\n",
       "      <th></th>\n",
       "      <th></th>\n",
       "      <th></th>\n",
       "      <th></th>\n",
       "      <th></th>\n",
       "      <th></th>\n",
       "      <th></th>\n",
       "    </tr>\n",
       "  </thead>\n",
       "  <tbody>\n",
       "    <tr>\n",
       "      <th>20190001.0</th>\n",
       "      <td>HAM</td>\n",
       "      <td>2022-11-23 00:00:00</td>\n",
       "      <td>CGTL and Sabaa Party organize a nation wide st...</td>\n",
       "      <td>NaN</td>\n",
       "      <td>2019-01-04</td>\n",
       "      <td>NaT</td>\n",
       "      <td>0.0</td>\n",
       "      <td>NaN</td>\n",
       "      <td>Unspecified</td>\n",
       "      <td>National</td>\n",
       "      <td>...</td>\n",
       "      <td>NaN</td>\n",
       "      <td>NaN</td>\n",
       "      <td>NaN</td>\n",
       "      <td>NaN</td>\n",
       "      <td>NaN</td>\n",
       "      <td>NaN</td>\n",
       "      <td>NaN</td>\n",
       "      <td>NaN</td>\n",
       "      <td>NaN</td>\n",
       "      <td>NaN</td>\n",
       "    </tr>\n",
       "    <tr>\n",
       "      <th>20190002.0</th>\n",
       "      <td>HAM</td>\n",
       "      <td>2023-01-12 00:00:00</td>\n",
       "      <td>اهالي تمنين التحتا يقطعون الطريق على تقاطع الم...</td>\n",
       "      <td>NaN</td>\n",
       "      <td>2019-01-04</td>\n",
       "      <td>NaT</td>\n",
       "      <td>NaN</td>\n",
       "      <td>NaN</td>\n",
       "      <td>Unspecified</td>\n",
       "      <td>Beqaa</td>\n",
       "      <td>...</td>\n",
       "      <td>NaN</td>\n",
       "      <td>NaN</td>\n",
       "      <td>NaN</td>\n",
       "      <td>NaN</td>\n",
       "      <td>NaN</td>\n",
       "      <td>NaN</td>\n",
       "      <td>NaN</td>\n",
       "      <td>NaN</td>\n",
       "      <td>NaN</td>\n",
       "      <td>NaN</td>\n",
       "    </tr>\n",
       "  </tbody>\n",
       "</table>\n",
       "<p>2 rows × 165 columns</p>\n",
       "</div>"
      ],
      "text/plain": [
       "             Initials            datecoded   \n",
       "recordnumber                                 \n",
       "20190001.0        HAM  2022-11-23 00:00:00  \\\n",
       "20190002.0        HAM  2023-01-12 00:00:00   \n",
       "\n",
       "                                                      narrative nameofevent   \n",
       "recordnumber                                                                  \n",
       "20190001.0    CGTL and Sabaa Party organize a nation wide st...         NaN  \\\n",
       "20190002.0    اهالي تمنين التحتا يقطعون الطريق على تقاطع الم...         NaN   \n",
       "\n",
       "              Startdate endate  ongoing timeofprotest   time_range   \n",
       "recordnumber                                                         \n",
       "20190001.0   2019-01-04    NaT      0.0           NaN  Unspecified  \\\n",
       "20190002.0   2019-01-04    NaT      NaN           NaN  Unspecified   \n",
       "\n",
       "             governorate  ... pagenum1_restored URL1_restored Unnamed: 158   \n",
       "recordnumber              ...                                                \n",
       "20190001.0      National  ...               NaN           NaN          NaN  \\\n",
       "20190002.0         Beqaa  ...               NaN           NaN          NaN   \n",
       "\n",
       "             drive_text Unnamed: 160 drive  Unnamed: 162 Unnamed: 163   \n",
       "recordnumber                                                            \n",
       "20190001.0          NaN          NaN   NaN           NaN          NaN  \\\n",
       "20190002.0          NaN          NaN   NaN           NaN          NaN   \n",
       "\n",
       "             Unnamed: 164  Unnamed: 165  \n",
       "recordnumber                             \n",
       "20190001.0            NaN           NaN  \n",
       "20190002.0            NaN           NaN  \n",
       "\n",
       "[2 rows x 165 columns]"
      ]
     },
     "execution_count": 4,
     "metadata": {},
     "output_type": "execute_result"
    }
   ],
   "source": [
    "df = pd.read_excel('../Data/Final_Thawra.xlsx', header=1, index_col='recordnumber')\n",
    "df.head(2)"
   ]
  },
  {
   "cell_type": "code",
   "execution_count": 5,
   "metadata": {},
   "outputs": [],
   "source": [
    "# df['drive'] = ''\n",
    "# for _, row in df.iterrows():\n",
    "#     for i in row.index:\n",
    "#         if str(row[i]).startswith('https://drive.google'):\n",
    "#             df.at[_,'drive'] = row[i]"
   ]
  },
  {
   "cell_type": "code",
   "execution_count": 6,
   "metadata": {},
   "outputs": [],
   "source": [
    "def extract_text_from_pdf(pdf_content):\n",
    "  resource_manager = PDFResourceManager()\n",
    "  fake_file_handle = io.StringIO()\n",
    "  converter = TextConverter(resource_manager, fake_file_handle)\n",
    "  page_interpreter = PDFPageInterpreter(resource_manager, converter)\n",
    "\n",
    "  with io.BytesIO(pdf_content) as fh:\n",
    "    for page in PDFPage.get_pages(fh,\n",
    "                                  caching=True,\n",
    "                                  check_extractable=True):\n",
    "      page_interpreter.process_page(page)\n",
    "\n",
    "    text = fake_file_handle.getvalue()\n",
    "\n",
    "  # close open handles\n",
    "  converter.close()\n",
    "  fake_file_handle.close()\n",
    "\n",
    "  return text"
   ]
  },
  {
   "cell_type": "code",
   "execution_count": 7,
   "metadata": {},
   "outputs": [],
   "source": [
    "def extract_text_from_pdf(pdf_path):\n",
    "    # fh = io.BytesIO()\n",
    "    # downloader = MediaIoBaseDownload(fh, response)\n",
    "    # pdf_content = fh.getvalue()\n",
    "    with open(pdf_path, 'rb') as f:\n",
    "            reader = PyPDF2.PdfReader(f)\n",
    "            for page_num in range(reader.numPages):\n",
    "                page = reader.getPage(page_num)\n",
    "                text += page.extractText()\n",
    "    return text\n"
   ]
  },
  {
   "cell_type": "code",
   "execution_count": 8,
   "metadata": {},
   "outputs": [],
   "source": [
    "def extract_file_id(url):\n",
    "    pattern = r\"open\\?id=([\\w-]+)\"\n",
    "    match = re.search(pattern, url)\n",
    "    if match:\n",
    "        return match.group(1)\n",
    "    else:\n",
    "        return None\n"
   ]
  },
  {
   "cell_type": "code",
   "execution_count": 9,
   "metadata": {},
   "outputs": [],
   "source": [
    "def clean_text(pdf_text):\n",
    "    \n",
    "    #cleaned_text = re.sub(r'[^\\u0600-\\u06FF\\s]', '', pdf_text)\n",
    "    \n",
    "    #cleaned_text = re.sub(r'[^؀-ۿ\\s]', '', pdf_text)\n",
    "    cleaned_text = re.sub(r'http\\S+', '', pdf_text)\n",
    "    cleaned_text = re.sub(r'\\s+', ' ', cleaned_text)\n",
    "    cleaned_text = re.sub(r'%[0-9a-fA-F]{2}', '', cleaned_text)\n",
    "    cleaned_text = cleaned_text.replace('\\n',' ').replace('ـ', '').replace('�', '')\n",
    "    return cleaned_text"
   ]
  },
  {
   "cell_type": "code",
   "execution_count": 10,
   "metadata": {},
   "outputs": [],
   "source": [
    "# Set up Google Sheets API credentials\n",
    "scope = ['https://spreadsheets.google.com/feeds', 'https://www.googleapis.com/auth/drive']\n",
    "creds_sheet = ServiceAccountCredentials.from_json_keyfile_name('leba-375419-92c3baf53205.json', scope)\n",
    "client = gspread.authorize(creds_sheet)\n",
    "\n",
    "# Fetch PDF URLs from Google Sheets document\n",
    "spreadsheet_key = '1xyQe3vgYKGl_hcPa1MOEn970xjTUirEUq_ewfiGjLRs'\n",
    "sheet_name = 'Main'\n",
    "worksheet = client.open_by_key(spreadsheet_key).worksheet(sheet_name)\n",
    "urls = worksheet.col_values(162)"
   ]
  },
  {
   "cell_type": "code",
   "execution_count": 11,
   "metadata": {},
   "outputs": [],
   "source": [
    "creds_drive = ServiceAccountCredentials.from_json_keyfile_name('leba-375419-92c3baf53205.json',\n",
    "                                                         scopes=['https://www.googleapis.com/auth/drive'])\n",
    "service_drive = build('drive', 'v3', credentials=creds_drive)"
   ]
  },
  {
   "cell_type": "code",
   "execution_count": 12,
   "metadata": {},
   "outputs": [
    {
     "ename": "KeyboardInterrupt",
     "evalue": "",
     "output_type": "error",
     "traceback": [
      "\u001b[0;31m---------------------------------------------------------------------------\u001b[0m",
      "\u001b[0;31mKeyboardInterrupt\u001b[0m                         Traceback (most recent call last)",
      "\u001b[1;32m/home/noahdarwich/code/NoahDarwich/Leb_analysis/Notebooks/links_to_txt.ipynb Cell 12\u001b[0m in \u001b[0;36m<cell line: 2>\u001b[0;34m()\u001b[0m\n\u001b[1;32m     <a href='vscode-notebook-cell://wsl%2Bubuntu/home/noahdarwich/code/NoahDarwich/Leb_analysis/Notebooks/links_to_txt.ipynb#X30sdnNjb2RlLXJlbW90ZQ%3D%3D?line=24'>25</a>\u001b[0m     \u001b[39mprint\u001b[39m((count \u001b[39m*\u001b[39m \u001b[39m100\u001b[39m)\u001b[39m/\u001b[39m\u001b[39mlen\u001b[39m(urls))\n\u001b[1;32m     <a href='vscode-notebook-cell://wsl%2Bubuntu/home/noahdarwich/code/NoahDarwich/Leb_analysis/Notebooks/links_to_txt.ipynb#X30sdnNjb2RlLXJlbW90ZQ%3D%3D?line=25'>26</a>\u001b[0m \u001b[39melse\u001b[39;00m:\n\u001b[0;32m---> <a href='vscode-notebook-cell://wsl%2Bubuntu/home/noahdarwich/code/NoahDarwich/Leb_analysis/Notebooks/links_to_txt.ipynb#X30sdnNjb2RlLXJlbW90ZQ%3D%3D?line=26'>27</a>\u001b[0m     cell \u001b[39m=\u001b[39m worksheet\u001b[39m.\u001b[39;49mfind(url)\n\u001b[1;32m     <a href='vscode-notebook-cell://wsl%2Bubuntu/home/noahdarwich/code/NoahDarwich/Leb_analysis/Notebooks/links_to_txt.ipynb#X30sdnNjb2RlLXJlbW90ZQ%3D%3D?line=27'>28</a>\u001b[0m     worksheet\u001b[39m.\u001b[39mupdate_cell(cell\u001b[39m.\u001b[39mrow, \u001b[39m167\u001b[39m, \u001b[39m'\u001b[39m\u001b[39mNOT_FOUND\u001b[39m\u001b[39m'\u001b[39m)\n",
      "File \u001b[0;32m~/.pyenv/versions/3.8.12/envs/lewagon/lib/python3.8/site-packages/gspread/worksheet.py:2056\u001b[0m, in \u001b[0;36mWorksheet.find\u001b[0;34m(self, query, in_row, in_column, case_sensitive)\u001b[0m\n\u001b[1;32m   2042\u001b[0m \u001b[39m\"\"\"Finds the first cell matching the query.\u001b[39;00m\n\u001b[1;32m   2043\u001b[0m \n\u001b[1;32m   2044\u001b[0m \u001b[39m:param query: A literal string to match or compiled regular expression.\u001b[39;00m\n\u001b[0;32m   (...)\u001b[0m\n\u001b[1;32m   2053\u001b[0m \u001b[39m:rtype: :class:`gspread.cell.Cell`\u001b[39;00m\n\u001b[1;32m   2054\u001b[0m \u001b[39m\"\"\"\u001b[39;00m\n\u001b[1;32m   2055\u001b[0m \u001b[39mtry\u001b[39;00m:\n\u001b[0;32m-> 2056\u001b[0m     \u001b[39mreturn\u001b[39;00m \u001b[39mself\u001b[39;49m\u001b[39m.\u001b[39;49m_finder(finditem, query, case_sensitive, in_row, in_column)\n\u001b[1;32m   2057\u001b[0m \u001b[39mexcept\u001b[39;00m \u001b[39mStopIteration\u001b[39;00m:\n\u001b[1;32m   2058\u001b[0m     \u001b[39mreturn\u001b[39;00m \u001b[39mNone\u001b[39;00m\n",
      "File \u001b[0;32m~/.pyenv/versions/3.8.12/envs/lewagon/lib/python3.8/site-packages/gspread/worksheet.py:2000\u001b[0m, in \u001b[0;36mWorksheet._finder\u001b[0;34m(self, func, query, case_sensitive, in_row, in_column)\u001b[0m\n\u001b[1;32m   1997\u001b[0m \u001b[39mexcept\u001b[39;00m \u001b[39mKeyError\u001b[39;00m:\n\u001b[1;32m   1998\u001b[0m     values \u001b[39m=\u001b[39m []\n\u001b[0;32m-> 2000\u001b[0m cells \u001b[39m=\u001b[39m \u001b[39mself\u001b[39;49m\u001b[39m.\u001b[39;49m_list_cells(values, in_row, in_column)\n\u001b[1;32m   2002\u001b[0m \u001b[39mif\u001b[39;00m \u001b[39misinstance\u001b[39m(query, \u001b[39mstr\u001b[39m):\n\u001b[1;32m   2004\u001b[0m     \u001b[39mdef\u001b[39;00m \u001b[39mmatch\u001b[39m(x):\n",
      "File \u001b[0;32m~/.pyenv/versions/3.8.12/envs/lewagon/lib/python3.8/site-packages/gspread/worksheet.py:2035\u001b[0m, in \u001b[0;36mWorksheet._list_cells\u001b[0;34m(self, values, in_row, in_column)\u001b[0m\n\u001b[1;32m   2030\u001b[0m     \u001b[39mreturn\u001b[39;00m [\n\u001b[1;32m   2031\u001b[0m         Cell(row\u001b[39m=\u001b[39min_row, col\u001b[39m=\u001b[39mj \u001b[39m+\u001b[39m \u001b[39m1\u001b[39m, value\u001b[39m=\u001b[39mvalue)\n\u001b[1;32m   2032\u001b[0m         \u001b[39mfor\u001b[39;00m j, value \u001b[39min\u001b[39;00m \u001b[39menumerate\u001b[39m(values[in_row \u001b[39m-\u001b[39m \u001b[39m1\u001b[39m])\n\u001b[1;32m   2033\u001b[0m     ]\n\u001b[1;32m   2034\u001b[0m \u001b[39melse\u001b[39;00m:\n\u001b[0;32m-> 2035\u001b[0m     \u001b[39mreturn\u001b[39;00m [\n\u001b[1;32m   2036\u001b[0m         Cell(row\u001b[39m=\u001b[39mi \u001b[39m+\u001b[39m \u001b[39m1\u001b[39m, col\u001b[39m=\u001b[39mj \u001b[39m+\u001b[39m \u001b[39m1\u001b[39m, value\u001b[39m=\u001b[39mvalue)\n\u001b[1;32m   2037\u001b[0m         \u001b[39mfor\u001b[39;00m i, row \u001b[39min\u001b[39;00m \u001b[39menumerate\u001b[39m(values)\n\u001b[1;32m   2038\u001b[0m         \u001b[39mfor\u001b[39;00m j, value \u001b[39min\u001b[39;00m \u001b[39menumerate\u001b[39m(row)\n\u001b[1;32m   2039\u001b[0m     ]\n",
      "File \u001b[0;32m~/.pyenv/versions/3.8.12/envs/lewagon/lib/python3.8/site-packages/gspread/worksheet.py:2036\u001b[0m, in \u001b[0;36m<listcomp>\u001b[0;34m(.0)\u001b[0m\n\u001b[1;32m   2030\u001b[0m     \u001b[39mreturn\u001b[39;00m [\n\u001b[1;32m   2031\u001b[0m         Cell(row\u001b[39m=\u001b[39min_row, col\u001b[39m=\u001b[39mj \u001b[39m+\u001b[39m \u001b[39m1\u001b[39m, value\u001b[39m=\u001b[39mvalue)\n\u001b[1;32m   2032\u001b[0m         \u001b[39mfor\u001b[39;00m j, value \u001b[39min\u001b[39;00m \u001b[39menumerate\u001b[39m(values[in_row \u001b[39m-\u001b[39m \u001b[39m1\u001b[39m])\n\u001b[1;32m   2033\u001b[0m     ]\n\u001b[1;32m   2034\u001b[0m \u001b[39melse\u001b[39;00m:\n\u001b[1;32m   2035\u001b[0m     \u001b[39mreturn\u001b[39;00m [\n\u001b[0;32m-> 2036\u001b[0m         Cell(row\u001b[39m=\u001b[39;49mi \u001b[39m+\u001b[39;49m \u001b[39m1\u001b[39;49m, col\u001b[39m=\u001b[39;49mj \u001b[39m+\u001b[39;49m \u001b[39m1\u001b[39;49m, value\u001b[39m=\u001b[39;49mvalue)\n\u001b[1;32m   2037\u001b[0m         \u001b[39mfor\u001b[39;00m i, row \u001b[39min\u001b[39;00m \u001b[39menumerate\u001b[39m(values)\n\u001b[1;32m   2038\u001b[0m         \u001b[39mfor\u001b[39;00m j, value \u001b[39min\u001b[39;00m \u001b[39menumerate\u001b[39m(row)\n\u001b[1;32m   2039\u001b[0m     ]\n",
      "File \u001b[0;32m~/.pyenv/versions/3.8.12/envs/lewagon/lib/python3.8/site-packages/gspread/cell.py:17\u001b[0m, in \u001b[0;36mCell.__init__\u001b[0;34m(self, row, col, value)\u001b[0m\n\u001b[1;32m     12\u001b[0m \u001b[39mclass\u001b[39;00m \u001b[39mCell\u001b[39;00m:\n\u001b[1;32m     13\u001b[0m     \u001b[39m\"\"\"An instance of this class represents a single cell\u001b[39;00m\n\u001b[1;32m     14\u001b[0m \u001b[39m    in a :class:`~gspread.worksheet.Worksheet`.\u001b[39;00m\n\u001b[1;32m     15\u001b[0m \u001b[39m    \"\"\"\u001b[39;00m\n\u001b[0;32m---> 17\u001b[0m     \u001b[39mdef\u001b[39;00m \u001b[39m__init__\u001b[39m(\u001b[39mself\u001b[39m, row, col, value\u001b[39m=\u001b[39m\u001b[39m\"\u001b[39m\u001b[39m\"\u001b[39m):\n\u001b[1;32m     18\u001b[0m         \u001b[39mself\u001b[39m\u001b[39m.\u001b[39m_row \u001b[39m=\u001b[39m row\n\u001b[1;32m     19\u001b[0m         \u001b[39mself\u001b[39m\u001b[39m.\u001b[39m_col \u001b[39m=\u001b[39m col\n",
      "\u001b[0;31mKeyboardInterrupt\u001b[0m: "
     ]
    }
   ],
   "source": [
    "count = 0\n",
    "for url in urls:\n",
    "    file_id = extract_file_id(url)\n",
    "    if file_id:\n",
    "        request = service_drive.files().get_media(fileId=file_id)\n",
    "        fh = io.BytesIO()\n",
    "        downloader = MediaIoBaseDownload(fh, request)\n",
    "        done = False\n",
    "        while done is False:\n",
    "            status, done = downloader.next_chunk()\n",
    "            #print(\"Download %d%%.\" % int(status.progress() * 100))\n",
    "        pdf_content = fh.getvalue()\n",
    "        with open('new.pdf', 'wb') as f:\n",
    "            f.write(pdf_content)\n",
    "\n",
    "        pdf = PyPDF2.PdfReader(open('new.pdf', 'rb'))\n",
    "        pdf_text = \"\"\n",
    "\n",
    "        pdf_text = pdf.pages[0].extract_text()\n",
    "        text = clean_text(pdf_text)\n",
    "        cell = worksheet.find(url)\n",
    "        worksheet.update_cell(cell.row, 167, text)\n",
    "        os.remove('new.pdf')\n",
    "        count += 1\n",
    "        print((count * 100)/len(urls))\n",
    "    else:\n",
    "        cell = worksheet.find(url)\n",
    "        worksheet.update_cell(cell.row, 167, 'NOT_FOUND')"
   ]
  },
  {
   "cell_type": "code",
   "execution_count": 159,
   "metadata": {},
   "outputs": [
    {
     "data": {
      "text/plain": [
       "{'spreadsheetId': '1xyQe3vgYKGl_hcPa1MOEn970xjTUirEUq_ewfiGjLRs',\n",
       " 'updatedRange': 'Main!FK410',\n",
       " 'updatedRows': 1,\n",
       " 'updatedColumns': 1,\n",
       " 'updatedCells': 1}"
      ]
     },
     "execution_count": 159,
     "metadata": {},
     "output_type": "execute_result"
    }
   ],
   "source": [
    "cell = worksheet.find(urls[444])\n",
    "worksheet.update_cell(cell.row, 167, text)"
   ]
  },
  {
   "cell_type": "code",
   "execution_count": 158,
   "metadata": {},
   "outputs": [
    {
     "data": {
      "text/plain": [
       "<Cell R410C135 'https://drive.google.com/open?id=16eAHa_ANyy1O3aHF2i1TMtI1zHmVQ_Oi&authuser=amrdukmak%40gmail.com&usp=drive_fs'>"
      ]
     },
     "execution_count": 158,
     "metadata": {},
     "output_type": "execute_result"
    }
   ],
   "source": [
    "cell"
   ]
  },
  {
   "cell_type": "code",
   "execution_count": null,
   "metadata": {},
   "outputs": [],
   "source": [
    "for url in urls:\n",
    "    pdf_text = subprocess.check_output(['python', 'pdf_text_extractor.py', url])\n",
    "    # Update Google Sheets with the extracted text\n",
    "    cell = worksheet.find(url)\n",
    "    worksheet.update_cell(cell.row, cell.col -2, pdf_text)"
   ]
  },
  {
   "cell_type": "code",
   "execution_count": 156,
   "metadata": {},
   "outputs": [],
   "source": [
    "# file_id = extract_file_id(urls[444])\n",
    "# results = service_drive.files().get(fileId=file_id).execute()\n",
    "\n",
    "# request = service_drive.files().export_media(fileId=results.get('id'), mimeType=results.get('mimeType'))\n",
    "\n",
    "#request = service_drive.files().get_media(fileId=file_id)\n",
    "# fh = io.BytesIO()\n",
    "# downloader = MediaIoBaseDownload(fh, request)\n",
    "# #print(request.headers)\n",
    "# with open('new.pdf', 'wb') as f:\n",
    "#     f.write(fh.getvalue())\n",
    "\n",
    "# pdf = PyPDF2.PdfReader(open('new.pdf', 'rb'))\n",
    "# pdf_text = \"\"\n",
    "\n",
    "# for page in range(pdf.getNumPages()):\n",
    "#     pdf_text += pdf.getPage(page).extractText()\n",
    "# print(pdf_text)"
   ]
  },
  {
   "cell_type": "code",
   "execution_count": 44,
   "metadata": {},
   "outputs": [
    {
     "name": "stdout",
     "output_type": "stream",
     "text": [
      "{'Content-Type': 'text/html; charset=utf-8', 'X-Frame-Options': 'DENY', 'Set-Cookie': '__Host-GAPS=1:OF5YUw7aq7ru6OsDmA2cnNg3FLJtNw:fcsCCvoj9_ntzmWC; Expires=Thu, 22-May-2025 12:59:42 GMT; Path=/; Secure; HttpOnly; Priority=HIGH', 'Vary': 'Sec-Fetch-Dest, Sec-Fetch-Mode, Sec-Fetch-Site', 'x-auto-login': 'realm=com.google&args=service%3Dwise%26continue%3Dhttps://drive.google.com/open?id%253D11kggumhANH1lY4tObWkvCeRYupIpJGIu%2526authuser%253Damrdukmak@gmail.com%2526usp%253Ddrive_fs', 'Link': '<https://www.google.com/intl/en-US/drive/>; rel=\"canonical\"', 'x-ua-compatible': 'IE=edge', 'Cache-Control': 'no-cache, no-store, max-age=0, must-revalidate', 'Pragma': 'no-cache', 'Expires': 'Mon, 01 Jan 1990 00:00:00 GMT', 'Date': 'Tue, 23 May 2023 12:59:42 GMT', 'Strict-Transport-Security': 'max-age=31536000; includeSubDomains', 'Content-Security-Policy': \"script-src 'nonce-LOruTlHobS3HJdI2LybHaQ' 'unsafe-inline';object-src 'none';base-uri 'self';report-uri /v3/signin/_/AccountsSignInUi/cspreport;worker-src 'self', require-trusted-types-for 'script';report-uri /v3/signin/_/AccountsSignInUi/cspreport\", 'Cross-Origin-Opener-Policy-Report-Only': 'same-origin; report-to=\"AccountsSignInUi\"', 'Cross-Origin-Resource-Policy': 'same-site', 'Accept-CH': 'Sec-CH-UA-Arch, Sec-CH-UA-Bitness, Sec-CH-UA-Full-Version, Sec-CH-UA-Full-Version-List, Sec-CH-UA-Model, Sec-CH-UA-WoW64, Sec-CH-UA-Form-Factor, Sec-CH-UA-Platform, Sec-CH-UA-Platform-Version', 'Permissions-Policy': 'ch-ua-arch=*, ch-ua-bitness=*, ch-ua-full-version=*, ch-ua-full-version-list=*, ch-ua-model=*, ch-ua-wow64=*, ch-ua-form-factor=*, ch-ua-platform=*, ch-ua-platform-version=*', 'Report-To': '{\"group\":\"AccountsSignInUi\",\"max_age\":2592000,\"endpoints\":[{\"url\":\"https://csp.withgoogle.com/csp/report-to/AccountsSignInUi\"}]}', 'Content-Encoding': 'gzip', 'Server': 'ESF', 'X-XSS-Protection': '0', 'X-Content-Type-Options': 'nosniff', 'Alt-Svc': 'h3=\":443\"; ma=2592000,h3-29=\":443\"; ma=2592000', 'Transfer-Encoding': 'chunked'}\n"
     ]
    }
   ],
   "source": [
    "# response = requests.get(urls[300])\n",
    "# print(response.headers)\n",
    "\n",
    "#fh = io.BytesIO(response.content)\n",
    "#downloader = MediaIoBaseDownload(fh, response.content)\n",
    "    \n",
    "# pdf_content = fh.read()\n",
    "# pdf_content\n",
    "# with open('new.pdf', 'wb') as f:\n",
    "#     f.write(pdf_content)\n",
    "    \n",
    "\n",
    "# # pdf_content = response.content\n",
    "# print(pdf_content)\n",
    "# # with open('new.pdf', 'wb') as f:\n",
    "# #     f.write(pdf_content)\n",
    "\n",
    "\n",
    "# pdf = PyPDF2.PdfReader(open('new.pdf', 'rb'))\n",
    "# pdf_text = \"\"\n",
    "# for page in range(pdf.getNumPages()):\n",
    "#     pdf_text += pdf.getPage(page).extractText()\n",
    "\n",
    "# # # Print the extracted text\n",
    "# print(pdf_text)\n",
    "\n",
    "# # fh = io.BytesIO()\n",
    "# # downloader = MediaIoBaseDownload(fh, pdf_content)\n",
    "# # pdf_content = fh.getvalue()\n",
    "# # with open('new.pdf', 'wb') as f:\n",
    "# #         f.write(pdf_content)\n",
    "\n",
    "# # pdf = PyPDF2.PdfReader(open('new.pdf', 'rb'))\n",
    "# # pdf_text = extract_text_from_pdf('new.pdf')\n",
    "# # pdf_text\n",
    "# # # temp_file_path"
   ]
  },
  {
   "cell_type": "code",
   "execution_count": null,
   "metadata": {},
   "outputs": [],
   "source": [
    "# Extract text from each PDF using the local Python function\n"
   ]
  }
 ],
 "metadata": {
  "kernelspec": {
   "display_name": "lewagon",
   "language": "python",
   "name": "python3"
  },
  "language_info": {
   "codemirror_mode": {
    "name": "ipython",
    "version": 3
   },
   "file_extension": ".py",
   "mimetype": "text/x-python",
   "name": "python",
   "nbconvert_exporter": "python",
   "pygments_lexer": "ipython3",
   "version": "3.8.12"
  },
  "orig_nbformat": 4
 },
 "nbformat": 4,
 "nbformat_minor": 2
}
