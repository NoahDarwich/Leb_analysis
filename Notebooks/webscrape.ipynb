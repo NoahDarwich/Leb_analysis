{
 "cells": [
  {
   "cell_type": "code",
   "execution_count": 1,
   "metadata": {},
   "outputs": [],
   "source": [
    "import io\n",
    "\n",
    "from google.oauth2.credentials import Credentials\n",
    "from googleapiclient.discovery import build\n",
    "from googleapiclient.errors import HttpError\n",
    "from googleapiclient.http import MediaFileUpload\n",
    "\n",
    "import json\n",
    "# from pdfminer.converter import TextConverter\n",
    "# from pdfminer.pdfinterp import PDFPageInterpreter\n",
    "# from pdfminer.pdfinterp import PDFResourceManager\n",
    "# from pdfminer.pdfpage import PDFPage"
   ]
  },
  {
   "cell_type": "code",
   "execution_count": 2,
   "metadata": {},
   "outputs": [
    {
     "name": "stderr",
     "output_type": "stream",
     "text": [
      "/home/noahdarwich/.pyenv/versions/lewagon/lib/python3.8/site-packages/requests/__init__.py:102: RequestsDependencyWarning: urllib3 (1.26.9) or chardet (5.1.0)/charset_normalizer (2.0.12) doesn't match a supported version!\n",
      "  warnings.warn(\"urllib3 ({}) or chardet ({})/charset_normalizer ({}) doesn't match a supported \"\n"
     ]
    }
   ],
   "source": [
    "from bs4 import BeautifulSoup\n",
    "import os\n",
    "import re\n",
    "import requests\n",
    "import string\n",
    "import numpy as np\n",
    "import pandas as pd\n",
    "from requests.packages.urllib3.util.retry import Retry\n",
    "from requests.adapters import HTTPAdapter"
   ]
  },
  {
   "cell_type": "code",
   "execution_count": null,
   "metadata": {},
   "outputs": [],
   "source": [
    "response = requests.get(\n",
    "    url='https://proxy.scrapeops.io/v1/',\n",
    "    params={\n",
    "        'api_key': '378d2b00-d774-4869-bf97-325ac3d1de22',\n",
    "        'url': 'https://www.al-akhbar.com/Editions',\n",
    "    },\n",
    "    )\n",
    "soup = BeautifulSoup(response.text, 'html.parser')"
   ]
  },
  {
   "cell_type": "code",
   "execution_count": null,
   "metadata": {},
   "outputs": [],
   "source": [
    "container = soup.find('div', {'class': 'l-content row archive-issues'})\n",
    "container = container.find('div', id='archive-days-wrap')"
   ]
  },
  {
   "cell_type": "code",
   "execution_count": null,
   "metadata": {},
   "outputs": [],
   "source": [
    "dic = {}\n",
    "\n",
    "for a_tag in container.find_all('a', class_='day'):\n",
    "    data_id = a_tag.get('data-id')\n",
    "    link = a_tag.get('href')\n",
    "    url = 'https://www.al-akhbar.com' + link + '/PDF'\n",
    "    data_name = a_tag.get('data-oldtitle')\n",
    "    date = link[10:].replace('/','-')\n",
    "    dic[data_id] = [data_name,url,date]"
   ]
  },
  {
   "cell_type": "code",
   "execution_count": null,
   "metadata": {},
   "outputs": [],
   "source": [
    "df = pd.DataFrame(data=dic).T\n",
    "df.columns = ['issue', 'url', 'date']\n",
    "df = df[(df['date'] > '2010-01-01') & (df['date'] < '2020-01-01')]"
   ]
  },
  {
   "cell_type": "code",
   "execution_count": null,
   "metadata": {},
   "outputs": [],
   "source": [
    "\n",
    "def get_pdf(url):\n",
    "    \n",
    "    retries = Retry(total=5,\n",
    "                status_forcelist=[429, 500, 502, 503, 504])\n",
    "    response = requests.get(\n",
    "    url='https://proxy.scrapeops.io/v1/',\n",
    "    params={\n",
    "        'api_key': '378d2b00-d774-4869-bf97-325ac3d1de22',\n",
    "        'url': url,\n",
    "    },\n",
    "    )\n",
    "    soup = BeautifulSoup(response.text, 'html.parser')\n",
    "    try:\n",
    "        container = soup.find('div', {'class': 'content'})\n",
    "        pdf_link = container.find('a').get('href')\n",
    "        pdf_link = 'https://www.al-akhbar.com' + pdf_link\n",
    "        print('tamam')\n",
    "        return pdf_link\n",
    "    \n",
    "    except:\n",
    "        return None"
   ]
  },
  {
   "cell_type": "code",
   "execution_count": null,
   "metadata": {},
   "outputs": [],
   "source": [
    "mask = (df.pdf_link.isna())\n",
    "df2 = df.loc[mask]\n",
    "df2['pdf_link'] = df2['url'].apply(get_pdf)\n",
    "df2.to_csv('new.csv')"
   ]
  },
  {
   "cell_type": "code",
   "execution_count": null,
   "metadata": {},
   "outputs": [],
   "source": [
    "mask3 = (df2.pdf_link.isna())\n",
    "df3 = df2.loc[mask3]\n",
    "df3"
   ]
  },
  {
   "cell_type": "code",
   "execution_count": null,
   "metadata": {},
   "outputs": [],
   "source": [
    "df3['pdf_link'] = df3['url'].apply(get_pdf)\n",
    "df3.to_csv('new2.csv')"
   ]
  },
  {
   "cell_type": "code",
   "execution_count": null,
   "metadata": {},
   "outputs": [],
   "source": [
    "df3 = pd.read_csv('new3.csv')\n",
    "df3"
   ]
  },
  {
   "cell_type": "code",
   "execution_count": null,
   "metadata": {},
   "outputs": [],
   "source": [
    "df3['pdf_link'] = df3['url'].apply(get_pdf)\n",
    "df3"
   ]
  },
  {
   "cell_type": "code",
   "execution_count": null,
   "metadata": {},
   "outputs": [],
   "source": [
    "df = pd.read_csv('pdf_df.csv')\n",
    "df"
   ]
  },
  {
   "cell_type": "code",
   "execution_count": null,
   "metadata": {},
   "outputs": [],
   "source": [
    "df1 = pd.read_csv('new.csv')\n",
    "df2 = pd.read_csv('new2.csv')\n",
    "df3 = pd.read_csv('new3.csv')"
   ]
  },
  {
   "cell_type": "code",
   "execution_count": null,
   "metadata": {},
   "outputs": [],
   "source": [
    "df"
   ]
  },
  {
   "cell_type": "code",
   "execution_count": null,
   "metadata": {},
   "outputs": [],
   "source": [
    "df.pdf_link.isna().value_counts()"
   ]
  },
  {
   "cell_type": "code",
   "execution_count": null,
   "metadata": {},
   "outputs": [],
   "source": [
    "full_df = pd.concat([df1,df2,df3], ignore_index=True)\n",
    "full_df.drop(columns=['Unnamed: 0'], inplace= True)"
   ]
  },
  {
   "cell_type": "code",
   "execution_count": null,
   "metadata": {},
   "outputs": [],
   "source": [
    "full_df.drop_duplicates(inplace=True)"
   ]
  },
  {
   "cell_type": "code",
   "execution_count": null,
   "metadata": {},
   "outputs": [],
   "source": [
    "full_df.pdf_link.isna().value_counts()"
   ]
  },
  {
   "cell_type": "code",
   "execution_count": null,
   "metadata": {},
   "outputs": [],
   "source": [
    "df.loc[df['pdf_link'].isna(), 'pdf_link'] = full_df['pdf_link']"
   ]
  },
  {
   "cell_type": "code",
   "execution_count": null,
   "metadata": {},
   "outputs": [],
   "source": [
    "df.loc[df['pdf_link'].isna(), 'pdf_link'] = df['url'].apply(get_pdf)"
   ]
  },
  {
   "cell_type": "code",
   "execution_count": null,
   "metadata": {},
   "outputs": [],
   "source": [
    "df.pdf_link.isna().value_counts()"
   ]
  },
  {
   "cell_type": "code",
   "execution_count": null,
   "metadata": {},
   "outputs": [],
   "source": [
    "df.loc[df['pdf_link'].isna(), 'pdf_link'] = df.loc[df['pdf_link'].isna(), 'url'].apply(get_pdf)"
   ]
  },
  {
   "cell_type": "code",
   "execution_count": null,
   "metadata": {},
   "outputs": [],
   "source": [
    "df.to_csv('Full_df.csv')"
   ]
  },
  {
   "cell_type": "code",
   "execution_count": 3,
   "metadata": {},
   "outputs": [
    {
     "data": {
      "text/html": [
       "<div>\n",
       "<style scoped>\n",
       "    .dataframe tbody tr th:only-of-type {\n",
       "        vertical-align: middle;\n",
       "    }\n",
       "\n",
       "    .dataframe tbody tr th {\n",
       "        vertical-align: top;\n",
       "    }\n",
       "\n",
       "    .dataframe thead th {\n",
       "        text-align: right;\n",
       "    }\n",
       "</style>\n",
       "<table border=\"1\" class=\"dataframe\">\n",
       "  <thead>\n",
       "    <tr style=\"text-align: right;\">\n",
       "      <th></th>\n",
       "      <th>issue</th>\n",
       "      <th>url</th>\n",
       "      <th>date</th>\n",
       "      <th>pdf_link</th>\n",
       "    </tr>\n",
       "  </thead>\n",
       "  <tbody>\n",
       "    <tr>\n",
       "      <th>0</th>\n",
       "      <td>العدد 3922</td>\n",
       "      <td>https://www.al-akhbar.com/Editions/2019/12/2/PDF</td>\n",
       "      <td>2019-12-2</td>\n",
       "      <td>https://www.al-akhbar.com/PDF_Files/3922/alakh...</td>\n",
       "    </tr>\n",
       "    <tr>\n",
       "      <th>1</th>\n",
       "      <td>العدد 3923</td>\n",
       "      <td>https://www.al-akhbar.com/Editions/2019/12/3/PDF</td>\n",
       "      <td>2019-12-3</td>\n",
       "      <td>https://www.al-akhbar.com/PDF_Files/3885/alakh...</td>\n",
       "    </tr>\n",
       "    <tr>\n",
       "      <th>2</th>\n",
       "      <td>العدد 3924</td>\n",
       "      <td>https://www.al-akhbar.com/Editions/2019/12/4/PDF</td>\n",
       "      <td>2019-12-4</td>\n",
       "      <td>https://www.al-akhbar.com/PDF_Files/3924/alakh...</td>\n",
       "    </tr>\n",
       "    <tr>\n",
       "      <th>3</th>\n",
       "      <td>العدد 3925</td>\n",
       "      <td>https://www.al-akhbar.com/Editions/2019/12/5/PDF</td>\n",
       "      <td>2019-12-5</td>\n",
       "      <td>https://www.al-akhbar.com/PDF_Files/3925/alakh...</td>\n",
       "    </tr>\n",
       "    <tr>\n",
       "      <th>4</th>\n",
       "      <td>العدد 3926</td>\n",
       "      <td>https://www.al-akhbar.com/Editions/2019/12/6/PDF</td>\n",
       "      <td>2019-12-6</td>\n",
       "      <td>https://www.al-akhbar.com/PDF_Files/3926/alakh...</td>\n",
       "    </tr>\n",
       "    <tr>\n",
       "      <th>...</th>\n",
       "      <td>...</td>\n",
       "      <td>...</td>\n",
       "      <td>...</td>\n",
       "      <td>...</td>\n",
       "    </tr>\n",
       "    <tr>\n",
       "      <th>2923</th>\n",
       "      <td>العدد 1028</td>\n",
       "      <td>https://www.al-akhbar.com/Editions/2010/1/26/PDF</td>\n",
       "      <td>2010-1-26</td>\n",
       "      <td>https://www.al-akhbar.com/PDF_Files/1028/alakh...</td>\n",
       "    </tr>\n",
       "    <tr>\n",
       "      <th>2924</th>\n",
       "      <td>العدد 1029</td>\n",
       "      <td>https://www.al-akhbar.com/Editions/2010/1/27/PDF</td>\n",
       "      <td>2010-1-27</td>\n",
       "      <td>https://www.al-akhbar.com/PDF_Files/1029/alakh...</td>\n",
       "    </tr>\n",
       "    <tr>\n",
       "      <th>2925</th>\n",
       "      <td>العدد 1030</td>\n",
       "      <td>https://www.al-akhbar.com/Editions/2010/1/28/PDF</td>\n",
       "      <td>2010-1-28</td>\n",
       "      <td>https://www.al-akhbar.com/PDF_Files/1030/alakh...</td>\n",
       "    </tr>\n",
       "    <tr>\n",
       "      <th>2926</th>\n",
       "      <td>العدد 1031</td>\n",
       "      <td>https://www.al-akhbar.com/Editions/2010/1/29/PDF</td>\n",
       "      <td>2010-1-29</td>\n",
       "      <td>https://www.al-akhbar.com/PDF_Files/1031/alakh...</td>\n",
       "    </tr>\n",
       "    <tr>\n",
       "      <th>2927</th>\n",
       "      <td>العدد 1032</td>\n",
       "      <td>https://www.al-akhbar.com/Editions/2010/1/30/PDF</td>\n",
       "      <td>2010-1-30</td>\n",
       "      <td>https://www.al-akhbar.com/PDF_Files/1032/alakh...</td>\n",
       "    </tr>\n",
       "  </tbody>\n",
       "</table>\n",
       "<p>2928 rows × 4 columns</p>\n",
       "</div>"
      ],
      "text/plain": [
       "           issue                                               url       date  \\\n",
       "0     العدد 3922  https://www.al-akhbar.com/Editions/2019/12/2/PDF  2019-12-2   \n",
       "1     العدد 3923  https://www.al-akhbar.com/Editions/2019/12/3/PDF  2019-12-3   \n",
       "2     العدد 3924  https://www.al-akhbar.com/Editions/2019/12/4/PDF  2019-12-4   \n",
       "3     العدد 3925  https://www.al-akhbar.com/Editions/2019/12/5/PDF  2019-12-5   \n",
       "4     العدد 3926  https://www.al-akhbar.com/Editions/2019/12/6/PDF  2019-12-6   \n",
       "...          ...                                               ...        ...   \n",
       "2923  العدد 1028  https://www.al-akhbar.com/Editions/2010/1/26/PDF  2010-1-26   \n",
       "2924  العدد 1029  https://www.al-akhbar.com/Editions/2010/1/27/PDF  2010-1-27   \n",
       "2925  العدد 1030  https://www.al-akhbar.com/Editions/2010/1/28/PDF  2010-1-28   \n",
       "2926  العدد 1031  https://www.al-akhbar.com/Editions/2010/1/29/PDF  2010-1-29   \n",
       "2927  العدد 1032  https://www.al-akhbar.com/Editions/2010/1/30/PDF  2010-1-30   \n",
       "\n",
       "                                               pdf_link  \n",
       "0     https://www.al-akhbar.com/PDF_Files/3922/alakh...  \n",
       "1     https://www.al-akhbar.com/PDF_Files/3885/alakh...  \n",
       "2     https://www.al-akhbar.com/PDF_Files/3924/alakh...  \n",
       "3     https://www.al-akhbar.com/PDF_Files/3925/alakh...  \n",
       "4     https://www.al-akhbar.com/PDF_Files/3926/alakh...  \n",
       "...                                                 ...  \n",
       "2923  https://www.al-akhbar.com/PDF_Files/1028/alakh...  \n",
       "2924  https://www.al-akhbar.com/PDF_Files/1029/alakh...  \n",
       "2925  https://www.al-akhbar.com/PDF_Files/1030/alakh...  \n",
       "2926  https://www.al-akhbar.com/PDF_Files/1031/alakh...  \n",
       "2927  https://www.al-akhbar.com/PDF_Files/1032/alakh...  \n",
       "\n",
       "[2928 rows x 4 columns]"
      ]
     },
     "execution_count": 3,
     "metadata": {},
     "output_type": "execute_result"
    }
   ],
   "source": [
    "df = pd.read_csv('Full_df.csv')\n",
    "df.drop(columns=['Unnamed: 0'], inplace=True)\n",
    "df"
   ]
  },
  {
   "cell_type": "code",
   "execution_count": null,
   "metadata": {},
   "outputs": [],
   "source": [
    "os.chdir('/home/noahdarwich/code/NoahDarwich/Leb_analysis/Notebooks/')"
   ]
  },
  {
   "cell_type": "code",
   "execution_count": 4,
   "metadata": {},
   "outputs": [
    {
     "data": {
      "text/plain": [
       "'/home/noahdarwich/code/NoahDarwich/Leb_analysis/Notebooks'"
      ]
     },
     "execution_count": 4,
     "metadata": {},
     "output_type": "execute_result"
    }
   ],
   "source": [
    "os.getcwd()"
   ]
  },
  {
   "cell_type": "code",
   "execution_count": 17,
   "metadata": {},
   "outputs": [],
   "source": [
    "# def save_pdfs(df):\n",
    "    \n",
    "#     unsaved = []\n",
    "#     df = df.dropna()\n",
    "#     for i, j in df.iterrows():\n",
    "        \n",
    "#         name = j['date']+'.pdf'\n",
    "#         url = j['pdf_link']\n",
    "        \n",
    "#         response = requests.get(url)\n",
    "        \n",
    "#         try:\n",
    "#             os.chdir('/mnt/d')\n",
    "#             with open(name, 'wb') as file:\n",
    "#                 file.write(response.content)\n",
    "#                 print('tamam')\n",
    "#         except:\n",
    "#             unsaved.append(name)\n",
    "#             print('No')\n",
    "#     return unsaved"
   ]
  },
  {
   "cell_type": "code",
   "execution_count": 11,
   "metadata": {},
   "outputs": [],
   "source": [
    "import tempfile \n",
    "from oauth2client.service_account import ServiceAccountCredentials"
   ]
  },
  {
   "cell_type": "code",
   "execution_count": 18,
   "metadata": {},
   "outputs": [],
   "source": [
    "creds = ServiceAccountCredentials.from_json_keyfile_name('leba-375419-92c3baf53205.json',\n",
    "                                                         scopes=['https://www.googleapis.com/auth/drive'])"
   ]
  },
  {
   "cell_type": "code",
   "execution_count": 42,
   "metadata": {},
   "outputs": [
    {
     "data": {
      "text/html": [
       "<div>\n",
       "<style scoped>\n",
       "    .dataframe tbody tr th:only-of-type {\n",
       "        vertical-align: middle;\n",
       "    }\n",
       "\n",
       "    .dataframe tbody tr th {\n",
       "        vertical-align: top;\n",
       "    }\n",
       "\n",
       "    .dataframe thead th {\n",
       "        text-align: right;\n",
       "    }\n",
       "</style>\n",
       "<table border=\"1\" class=\"dataframe\">\n",
       "  <thead>\n",
       "    <tr style=\"text-align: right;\">\n",
       "      <th></th>\n",
       "      <th>issue</th>\n",
       "      <th>url</th>\n",
       "      <th>date</th>\n",
       "      <th>pdf_link</th>\n",
       "    </tr>\n",
       "  </thead>\n",
       "  <tbody>\n",
       "    <tr>\n",
       "      <th>0</th>\n",
       "      <td>العدد 3922</td>\n",
       "      <td>https://www.al-akhbar.com/Editions/2019/12/2/PDF</td>\n",
       "      <td>2019-12-2</td>\n",
       "      <td>https://www.al-akhbar.com/PDF_Files/3922/alakh...</td>\n",
       "    </tr>\n",
       "    <tr>\n",
       "      <th>1</th>\n",
       "      <td>العدد 3923</td>\n",
       "      <td>https://www.al-akhbar.com/Editions/2019/12/3/PDF</td>\n",
       "      <td>2019-12-3</td>\n",
       "      <td>None</td>\n",
       "    </tr>\n",
       "  </tbody>\n",
       "</table>\n",
       "</div>"
      ],
      "text/plain": [
       "        issue                                               url       date  \\\n",
       "0  العدد 3922  https://www.al-akhbar.com/Editions/2019/12/2/PDF  2019-12-2   \n",
       "1  العدد 3923  https://www.al-akhbar.com/Editions/2019/12/3/PDF  2019-12-3   \n",
       "\n",
       "                                            pdf_link  \n",
       "0  https://www.al-akhbar.com/PDF_Files/3922/alakh...  \n",
       "1                                               None  "
      ]
     },
     "execution_count": 42,
     "metadata": {},
     "output_type": "execute_result"
    }
   ],
   "source": [
    "test = df.iloc[0:2]\n",
    "test.iloc[1]['pdf_link'] = None\n",
    "test"
   ]
  },
  {
   "cell_type": "code",
   "execution_count": 63,
   "metadata": {},
   "outputs": [],
   "source": [
    "def save_pdfs(df,creds):\n",
    "    \n",
    "    service = build('drive', 'v3', credentials=creds)\n",
    "    df['status'] = None\n",
    "    \n",
    "    for _,row in df.iterrows():\n",
    "        name = row['date'] +'.pdf'\n",
    "        link = row['pdf_link']\n",
    "        folder_id = '1BVzI84DDDtbvU3pp1k0yERF5YKIs84R0'\n",
    "        results = service.files().list(q=f\"mimeType != 'application/vnd.google-apps.folder' and trashed = false and name='{name}' and '{folder_id}' in parents\",fields=\"nextPageToken, files(id, name)\").execute()\n",
    "        files = results.get(\"files\", [])\n",
    "        if files:\n",
    "            print(F'file with name {name} already exists in the folder')\n",
    "        else:\n",
    "            \n",
    "            if str(link).startswith('https://'):\n",
    "                try:\n",
    "                    response = requests.get(link)\n",
    "                    file = tempfile.NamedTemporaryFile()\n",
    "                    file.write(response.content)\n",
    "                    file.seek(0)\n",
    "                    \n",
    "                    file_metadata = {'name': name,'parents':[folder_id]}\n",
    "                    \n",
    "                    media = MediaFileUpload(file.name,\n",
    "                                        mimetype='application/pdf')\n",
    "                    \n",
    "                    service.files().create(body=file_metadata, media_body=media, fields='id').execute()\n",
    "                    row['status'] = 'saved'\n",
    "                except:\n",
    "                    row['status'] = 'not_saved'\n",
    "            else:\n",
    "                row['status'] = 'not_saved'\n",
    "    return df"
   ]
  },
  {
   "cell_type": "code",
   "execution_count": 88,
   "metadata": {},
   "outputs": [
    {
     "name": "stderr",
     "output_type": "stream",
     "text": [
      "/tmp/ipykernel_2223/2116273025.py:4: SettingWithCopyWarning: \n",
      "A value is trying to be set on a copy of a slice from a DataFrame.\n",
      "Try using .loc[row_indexer,col_indexer] = value instead\n",
      "\n",
      "See the caveats in the documentation: https://pandas.pydata.org/pandas-docs/stable/user_guide/indexing.html#returning-a-view-versus-a-copy\n",
      "  df['status'] = None\n"
     ]
    },
    {
     "name": "stdout",
     "output_type": "stream",
     "text": [
      "file with name 2019-12-2.pdf already exists in the folder\n",
      "file with name 2019-12-4.pdf already exists in the folder\n",
      "file with name 2019-12-5.pdf already exists in the folder\n",
      "file with name 2019-12-6.pdf already exists in the folder\n",
      "file with name 2019-12-7.pdf already exists in the folder\n",
      "file with name 2019-12-9.pdf already exists in the folder\n",
      "file with name 2019-12-10.pdf already exists in the folder\n",
      "file with name 2019-12-11.pdf already exists in the folder\n",
      "file with name 2019-12-12.pdf already exists in the folder\n",
      "file with name 2019-12-13.pdf already exists in the folder\n",
      "file with name 2019-12-14.pdf already exists in the folder\n",
      "file with name 2019-12-16.pdf already exists in the folder\n",
      "file with name 2019-12-17.pdf already exists in the folder\n",
      "file with name 2019-12-18.pdf already exists in the folder\n",
      "file with name 2019-12-19.pdf already exists in the folder\n",
      "file with name 2019-12-20.pdf already exists in the folder\n",
      "file with name 2019-12-21.pdf already exists in the folder\n",
      "file with name 2019-12-23.pdf already exists in the folder\n",
      "file with name 2019-12-24.pdf already exists in the folder\n",
      "file with name 2019-12-27.pdf already exists in the folder\n",
      "file with name 2019-12-28.pdf already exists in the folder\n",
      "file with name 2019-12-30.pdf already exists in the folder\n",
      "file with name 2019-12-31.pdf already exists in the folder\n",
      "file with name 2019-11-1.pdf already exists in the folder\n",
      "file with name 2019-11-2.pdf already exists in the folder\n",
      "file with name 2019-11-4.pdf already exists in the folder\n",
      "file with name 2019-11-5.pdf already exists in the folder\n",
      "file with name 2019-11-6.pdf already exists in the folder\n",
      "file with name 2019-11-7.pdf already exists in the folder\n",
      "file with name 2019-11-8.pdf already exists in the folder\n",
      "file with name 2019-11-9.pdf already exists in the folder\n",
      "file with name 2019-11-12.pdf already exists in the folder\n",
      "file with name 2019-11-13.pdf already exists in the folder\n"
     ]
    },
    {
     "ename": "KeyboardInterrupt",
     "evalue": "",
     "output_type": "error",
     "traceback": [
      "\u001b[0;31m---------------------------------------------------------------------------\u001b[0m",
      "\u001b[0;31mKeyboardInterrupt\u001b[0m                         Traceback (most recent call last)",
      "\u001b[1;32m/home/noahdarwich/code/NoahDarwich/Leb_analysis/Notebooks/webscrape.ipynb Cell 33\u001b[0m in \u001b[0;36m<cell line: 1>\u001b[0;34m()\u001b[0m\n\u001b[0;32m----> <a href='vscode-notebook-cell://wsl%2Bubuntu/home/noahdarwich/code/NoahDarwich/Leb_analysis/Notebooks/webscrape.ipynb#X60sdnNjb2RlLXJlbW90ZQ%3D%3D?line=0'>1</a>\u001b[0m df_results \u001b[39m=\u001b[39m save_pdfs(df_results[(df_results[\u001b[39m'\u001b[39;49m\u001b[39mstatus\u001b[39;49m\u001b[39m'\u001b[39;49m]\u001b[39m!=\u001b[39;49m\u001b[39m'\u001b[39;49m\u001b[39msaved\u001b[39;49m\u001b[39m'\u001b[39;49m)\u001b[39m&\u001b[39;49m(df_results[\u001b[39m'\u001b[39;49m\u001b[39mstatus\u001b[39;49m\u001b[39m'\u001b[39;49m]\u001b[39m!=\u001b[39;49m\u001b[39m'\u001b[39;49m\u001b[39mnot_saved\u001b[39;49m\u001b[39m'\u001b[39;49m)],creds)\n\u001b[1;32m      <a href='vscode-notebook-cell://wsl%2Bubuntu/home/noahdarwich/code/NoahDarwich/Leb_analysis/Notebooks/webscrape.ipynb#X60sdnNjb2RlLXJlbW90ZQ%3D%3D?line=1'>2</a>\u001b[0m df_results\n",
      "\u001b[1;32m/home/noahdarwich/code/NoahDarwich/Leb_analysis/Notebooks/webscrape.ipynb Cell 33\u001b[0m in \u001b[0;36msave_pdfs\u001b[0;34m(df, creds)\u001b[0m\n\u001b[1;32m      <a href='vscode-notebook-cell://wsl%2Bubuntu/home/noahdarwich/code/NoahDarwich/Leb_analysis/Notebooks/webscrape.ipynb#X60sdnNjb2RlLXJlbW90ZQ%3D%3D?line=7'>8</a>\u001b[0m link \u001b[39m=\u001b[39m row[\u001b[39m'\u001b[39m\u001b[39mpdf_link\u001b[39m\u001b[39m'\u001b[39m]\n\u001b[1;32m      <a href='vscode-notebook-cell://wsl%2Bubuntu/home/noahdarwich/code/NoahDarwich/Leb_analysis/Notebooks/webscrape.ipynb#X60sdnNjb2RlLXJlbW90ZQ%3D%3D?line=8'>9</a>\u001b[0m folder_id \u001b[39m=\u001b[39m \u001b[39m'\u001b[39m\u001b[39m1BVzI84DDDtbvU3pp1k0yERF5YKIs84R0\u001b[39m\u001b[39m'\u001b[39m\n\u001b[0;32m---> <a href='vscode-notebook-cell://wsl%2Bubuntu/home/noahdarwich/code/NoahDarwich/Leb_analysis/Notebooks/webscrape.ipynb#X60sdnNjb2RlLXJlbW90ZQ%3D%3D?line=9'>10</a>\u001b[0m results \u001b[39m=\u001b[39m service\u001b[39m.\u001b[39;49mfiles()\u001b[39m.\u001b[39;49mlist(q\u001b[39m=\u001b[39;49m\u001b[39mf\u001b[39;49m\u001b[39m\"\u001b[39;49m\u001b[39mmimeType != \u001b[39;49m\u001b[39m'\u001b[39;49m\u001b[39mapplication/vnd.google-apps.folder\u001b[39;49m\u001b[39m'\u001b[39;49m\u001b[39m and trashed = false and name=\u001b[39;49m\u001b[39m'\u001b[39;49m\u001b[39m{\u001b[39;49;00mname\u001b[39m}\u001b[39;49;00m\u001b[39m'\u001b[39;49m\u001b[39m and \u001b[39;49m\u001b[39m'\u001b[39;49m\u001b[39m{\u001b[39;49;00mfolder_id\u001b[39m}\u001b[39;49;00m\u001b[39m'\u001b[39;49m\u001b[39m in parents\u001b[39;49m\u001b[39m\"\u001b[39;49m,fields\u001b[39m=\u001b[39;49m\u001b[39m\"\u001b[39;49m\u001b[39mnextPageToken, files(id, name)\u001b[39;49m\u001b[39m\"\u001b[39;49m)\u001b[39m.\u001b[39;49mexecute()\n\u001b[1;32m     <a href='vscode-notebook-cell://wsl%2Bubuntu/home/noahdarwich/code/NoahDarwich/Leb_analysis/Notebooks/webscrape.ipynb#X60sdnNjb2RlLXJlbW90ZQ%3D%3D?line=10'>11</a>\u001b[0m files \u001b[39m=\u001b[39m results\u001b[39m.\u001b[39mget(\u001b[39m\"\u001b[39m\u001b[39mfiles\u001b[39m\u001b[39m\"\u001b[39m, [])\n\u001b[1;32m     <a href='vscode-notebook-cell://wsl%2Bubuntu/home/noahdarwich/code/NoahDarwich/Leb_analysis/Notebooks/webscrape.ipynb#X60sdnNjb2RlLXJlbW90ZQ%3D%3D?line=11'>12</a>\u001b[0m \u001b[39mif\u001b[39;00m files:\n",
      "File \u001b[0;32m~/.pyenv/versions/lewagon/lib/python3.8/site-packages/googleapiclient/_helpers.py:130\u001b[0m, in \u001b[0;36mpositional.<locals>.positional_decorator.<locals>.positional_wrapper\u001b[0;34m(*args, **kwargs)\u001b[0m\n\u001b[1;32m    128\u001b[0m     \u001b[39melif\u001b[39;00m positional_parameters_enforcement \u001b[39m==\u001b[39m POSITIONAL_WARNING:\n\u001b[1;32m    129\u001b[0m         logger\u001b[39m.\u001b[39mwarning(message)\n\u001b[0;32m--> 130\u001b[0m \u001b[39mreturn\u001b[39;00m wrapped(\u001b[39m*\u001b[39;49margs, \u001b[39m*\u001b[39;49m\u001b[39m*\u001b[39;49mkwargs)\n",
      "File \u001b[0;32m~/.pyenv/versions/lewagon/lib/python3.8/site-packages/googleapiclient/http.py:923\u001b[0m, in \u001b[0;36mHttpRequest.execute\u001b[0;34m(self, http, num_retries)\u001b[0m\n\u001b[1;32m    920\u001b[0m     \u001b[39mself\u001b[39m\u001b[39m.\u001b[39mheaders[\u001b[39m\"\u001b[39m\u001b[39mcontent-length\u001b[39m\u001b[39m\"\u001b[39m] \u001b[39m=\u001b[39m \u001b[39mstr\u001b[39m(\u001b[39mlen\u001b[39m(\u001b[39mself\u001b[39m\u001b[39m.\u001b[39mbody))\n\u001b[1;32m    922\u001b[0m \u001b[39m# Handle retries for server-side errors.\u001b[39;00m\n\u001b[0;32m--> 923\u001b[0m resp, content \u001b[39m=\u001b[39m _retry_request(\n\u001b[1;32m    924\u001b[0m     http,\n\u001b[1;32m    925\u001b[0m     num_retries,\n\u001b[1;32m    926\u001b[0m     \u001b[39m\"\u001b[39;49m\u001b[39mrequest\u001b[39;49m\u001b[39m\"\u001b[39;49m,\n\u001b[1;32m    927\u001b[0m     \u001b[39mself\u001b[39;49m\u001b[39m.\u001b[39;49m_sleep,\n\u001b[1;32m    928\u001b[0m     \u001b[39mself\u001b[39;49m\u001b[39m.\u001b[39;49m_rand,\n\u001b[1;32m    929\u001b[0m     \u001b[39mstr\u001b[39;49m(\u001b[39mself\u001b[39;49m\u001b[39m.\u001b[39;49muri),\n\u001b[1;32m    930\u001b[0m     method\u001b[39m=\u001b[39;49m\u001b[39mstr\u001b[39;49m(\u001b[39mself\u001b[39;49m\u001b[39m.\u001b[39;49mmethod),\n\u001b[1;32m    931\u001b[0m     body\u001b[39m=\u001b[39;49m\u001b[39mself\u001b[39;49m\u001b[39m.\u001b[39;49mbody,\n\u001b[1;32m    932\u001b[0m     headers\u001b[39m=\u001b[39;49m\u001b[39mself\u001b[39;49m\u001b[39m.\u001b[39;49mheaders,\n\u001b[1;32m    933\u001b[0m )\n\u001b[1;32m    935\u001b[0m \u001b[39mfor\u001b[39;00m callback \u001b[39min\u001b[39;00m \u001b[39mself\u001b[39m\u001b[39m.\u001b[39mresponse_callbacks:\n\u001b[1;32m    936\u001b[0m     callback(resp)\n",
      "File \u001b[0;32m~/.pyenv/versions/lewagon/lib/python3.8/site-packages/googleapiclient/http.py:191\u001b[0m, in \u001b[0;36m_retry_request\u001b[0;34m(http, num_retries, req_type, sleep, rand, uri, method, *args, **kwargs)\u001b[0m\n\u001b[1;32m    189\u001b[0m \u001b[39mtry\u001b[39;00m:\n\u001b[1;32m    190\u001b[0m     exception \u001b[39m=\u001b[39m \u001b[39mNone\u001b[39;00m\n\u001b[0;32m--> 191\u001b[0m     resp, content \u001b[39m=\u001b[39m http\u001b[39m.\u001b[39;49mrequest(uri, method, \u001b[39m*\u001b[39;49margs, \u001b[39m*\u001b[39;49m\u001b[39m*\u001b[39;49mkwargs)\n\u001b[1;32m    192\u001b[0m \u001b[39m# Retry on SSL errors and socket timeout errors.\u001b[39;00m\n\u001b[1;32m    193\u001b[0m \u001b[39mexcept\u001b[39;00m _ssl_SSLError \u001b[39mas\u001b[39;00m ssl_error:\n",
      "File \u001b[0;32m~/.pyenv/versions/lewagon/lib/python3.8/site-packages/oauth2client/transport.py:173\u001b[0m, in \u001b[0;36mwrap_http_for_auth.<locals>.new_request\u001b[0;34m(uri, method, body, headers, redirections, connection_type)\u001b[0m\n\u001b[1;32m    169\u001b[0m \u001b[39mif\u001b[39;00m \u001b[39mall\u001b[39m(\u001b[39mgetattr\u001b[39m(body, stream_prop, \u001b[39mNone\u001b[39;00m) \u001b[39mfor\u001b[39;00m stream_prop \u001b[39min\u001b[39;00m\n\u001b[1;32m    170\u001b[0m        _STREAM_PROPERTIES):\n\u001b[1;32m    171\u001b[0m     body_stream_position \u001b[39m=\u001b[39m body\u001b[39m.\u001b[39mtell()\n\u001b[0;32m--> 173\u001b[0m resp, content \u001b[39m=\u001b[39m request(orig_request_method, uri, method, body,\n\u001b[1;32m    174\u001b[0m                         clean_headers(headers),\n\u001b[1;32m    175\u001b[0m                         redirections, connection_type)\n\u001b[1;32m    177\u001b[0m \u001b[39m# A stored token may expire between the time it is retrieved and\u001b[39;00m\n\u001b[1;32m    178\u001b[0m \u001b[39m# the time the request is made, so we may need to try twice.\u001b[39;00m\n\u001b[1;32m    179\u001b[0m max_refresh_attempts \u001b[39m=\u001b[39m \u001b[39m2\u001b[39m\n",
      "File \u001b[0;32m~/.pyenv/versions/lewagon/lib/python3.8/site-packages/oauth2client/transport.py:280\u001b[0m, in \u001b[0;36mrequest\u001b[0;34m(http, uri, method, body, headers, redirections, connection_type)\u001b[0m\n\u001b[1;32m    278\u001b[0m \u001b[39m# NOTE: Allowing http or http.request is temporary (See Issue 601).\u001b[39;00m\n\u001b[1;32m    279\u001b[0m http_callable \u001b[39m=\u001b[39m \u001b[39mgetattr\u001b[39m(http, \u001b[39m'\u001b[39m\u001b[39mrequest\u001b[39m\u001b[39m'\u001b[39m, http)\n\u001b[0;32m--> 280\u001b[0m \u001b[39mreturn\u001b[39;00m http_callable(uri, method\u001b[39m=\u001b[39;49mmethod, body\u001b[39m=\u001b[39;49mbody, headers\u001b[39m=\u001b[39;49mheaders,\n\u001b[1;32m    281\u001b[0m                      redirections\u001b[39m=\u001b[39;49mredirections,\n\u001b[1;32m    282\u001b[0m                      connection_type\u001b[39m=\u001b[39;49mconnection_type)\n",
      "File \u001b[0;32m~/.pyenv/versions/lewagon/lib/python3.8/site-packages/httplib2/__init__.py:1720\u001b[0m, in \u001b[0;36mHttp.request\u001b[0;34m(self, uri, method, body, headers, redirections, connection_type)\u001b[0m\n\u001b[1;32m   1718\u001b[0m             content \u001b[39m=\u001b[39m \u001b[39mb\u001b[39m\u001b[39m\"\u001b[39m\u001b[39m\"\u001b[39m\n\u001b[1;32m   1719\u001b[0m         \u001b[39melse\u001b[39;00m:\n\u001b[0;32m-> 1720\u001b[0m             (response, content) \u001b[39m=\u001b[39m \u001b[39mself\u001b[39;49m\u001b[39m.\u001b[39;49m_request(\n\u001b[1;32m   1721\u001b[0m                 conn, authority, uri, request_uri, method, body, headers, redirections, cachekey,\n\u001b[1;32m   1722\u001b[0m             )\n\u001b[1;32m   1723\u001b[0m \u001b[39mexcept\u001b[39;00m \u001b[39mException\u001b[39;00m \u001b[39mas\u001b[39;00m e:\n\u001b[1;32m   1724\u001b[0m     is_timeout \u001b[39m=\u001b[39m \u001b[39misinstance\u001b[39m(e, socket\u001b[39m.\u001b[39mtimeout)\n",
      "File \u001b[0;32m~/.pyenv/versions/lewagon/lib/python3.8/site-packages/httplib2/__init__.py:1440\u001b[0m, in \u001b[0;36mHttp._request\u001b[0;34m(self, conn, host, absolute_uri, request_uri, method, body, headers, redirections, cachekey)\u001b[0m\n\u001b[1;32m   1437\u001b[0m \u001b[39mif\u001b[39;00m auth:\n\u001b[1;32m   1438\u001b[0m     auth\u001b[39m.\u001b[39mrequest(method, request_uri, headers, body)\n\u001b[0;32m-> 1440\u001b[0m (response, content) \u001b[39m=\u001b[39m \u001b[39mself\u001b[39;49m\u001b[39m.\u001b[39;49m_conn_request(conn, request_uri, method, body, headers)\n\u001b[1;32m   1442\u001b[0m \u001b[39mif\u001b[39;00m auth:\n\u001b[1;32m   1443\u001b[0m     \u001b[39mif\u001b[39;00m auth\u001b[39m.\u001b[39mresponse(response, body):\n",
      "File \u001b[0;32m~/.pyenv/versions/lewagon/lib/python3.8/site-packages/httplib2/__init__.py:1392\u001b[0m, in \u001b[0;36mHttp._conn_request\u001b[0;34m(self, conn, request_uri, method, body, headers)\u001b[0m\n\u001b[1;32m   1390\u001b[0m     \u001b[39mpass\u001b[39;00m\n\u001b[1;32m   1391\u001b[0m \u001b[39mtry\u001b[39;00m:\n\u001b[0;32m-> 1392\u001b[0m     response \u001b[39m=\u001b[39m conn\u001b[39m.\u001b[39;49mgetresponse()\n\u001b[1;32m   1393\u001b[0m \u001b[39mexcept\u001b[39;00m (http\u001b[39m.\u001b[39mclient\u001b[39m.\u001b[39mBadStatusLine, http\u001b[39m.\u001b[39mclient\u001b[39m.\u001b[39mResponseNotReady):\n\u001b[1;32m   1394\u001b[0m     \u001b[39m# If we get a BadStatusLine on the first try then that means\u001b[39;00m\n\u001b[1;32m   1395\u001b[0m     \u001b[39m# the connection just went stale, so retry regardless of the\u001b[39;00m\n\u001b[1;32m   1396\u001b[0m     \u001b[39m# number of RETRIES set.\u001b[39;00m\n\u001b[1;32m   1397\u001b[0m     \u001b[39mif\u001b[39;00m \u001b[39mnot\u001b[39;00m seen_bad_status_line \u001b[39mand\u001b[39;00m i \u001b[39m==\u001b[39m \u001b[39m1\u001b[39m:\n",
      "File \u001b[0;32m~/.pyenv/versions/3.8.12/lib/python3.8/http/client.py:1348\u001b[0m, in \u001b[0;36mHTTPConnection.getresponse\u001b[0;34m(self)\u001b[0m\n\u001b[1;32m   1346\u001b[0m \u001b[39mtry\u001b[39;00m:\n\u001b[1;32m   1347\u001b[0m     \u001b[39mtry\u001b[39;00m:\n\u001b[0;32m-> 1348\u001b[0m         response\u001b[39m.\u001b[39;49mbegin()\n\u001b[1;32m   1349\u001b[0m     \u001b[39mexcept\u001b[39;00m \u001b[39mConnectionError\u001b[39;00m:\n\u001b[1;32m   1350\u001b[0m         \u001b[39mself\u001b[39m\u001b[39m.\u001b[39mclose()\n",
      "File \u001b[0;32m~/.pyenv/versions/3.8.12/lib/python3.8/http/client.py:316\u001b[0m, in \u001b[0;36mHTTPResponse.begin\u001b[0;34m(self)\u001b[0m\n\u001b[1;32m    314\u001b[0m \u001b[39m# read until we get a non-100 response\u001b[39;00m\n\u001b[1;32m    315\u001b[0m \u001b[39mwhile\u001b[39;00m \u001b[39mTrue\u001b[39;00m:\n\u001b[0;32m--> 316\u001b[0m     version, status, reason \u001b[39m=\u001b[39m \u001b[39mself\u001b[39;49m\u001b[39m.\u001b[39;49m_read_status()\n\u001b[1;32m    317\u001b[0m     \u001b[39mif\u001b[39;00m status \u001b[39m!=\u001b[39m CONTINUE:\n\u001b[1;32m    318\u001b[0m         \u001b[39mbreak\u001b[39;00m\n",
      "File \u001b[0;32m~/.pyenv/versions/3.8.12/lib/python3.8/http/client.py:277\u001b[0m, in \u001b[0;36mHTTPResponse._read_status\u001b[0;34m(self)\u001b[0m\n\u001b[1;32m    276\u001b[0m \u001b[39mdef\u001b[39;00m \u001b[39m_read_status\u001b[39m(\u001b[39mself\u001b[39m):\n\u001b[0;32m--> 277\u001b[0m     line \u001b[39m=\u001b[39m \u001b[39mstr\u001b[39m(\u001b[39mself\u001b[39;49m\u001b[39m.\u001b[39;49mfp\u001b[39m.\u001b[39;49mreadline(_MAXLINE \u001b[39m+\u001b[39;49m \u001b[39m1\u001b[39;49m), \u001b[39m\"\u001b[39m\u001b[39miso-8859-1\u001b[39m\u001b[39m\"\u001b[39m)\n\u001b[1;32m    278\u001b[0m     \u001b[39mif\u001b[39;00m \u001b[39mlen\u001b[39m(line) \u001b[39m>\u001b[39m _MAXLINE:\n\u001b[1;32m    279\u001b[0m         \u001b[39mraise\u001b[39;00m LineTooLong(\u001b[39m\"\u001b[39m\u001b[39mstatus line\u001b[39m\u001b[39m\"\u001b[39m)\n",
      "File \u001b[0;32m~/.pyenv/versions/3.8.12/lib/python3.8/socket.py:669\u001b[0m, in \u001b[0;36mSocketIO.readinto\u001b[0;34m(self, b)\u001b[0m\n\u001b[1;32m    667\u001b[0m \u001b[39mwhile\u001b[39;00m \u001b[39mTrue\u001b[39;00m:\n\u001b[1;32m    668\u001b[0m     \u001b[39mtry\u001b[39;00m:\n\u001b[0;32m--> 669\u001b[0m         \u001b[39mreturn\u001b[39;00m \u001b[39mself\u001b[39;49m\u001b[39m.\u001b[39;49m_sock\u001b[39m.\u001b[39;49mrecv_into(b)\n\u001b[1;32m    670\u001b[0m     \u001b[39mexcept\u001b[39;00m timeout:\n\u001b[1;32m    671\u001b[0m         \u001b[39mself\u001b[39m\u001b[39m.\u001b[39m_timeout_occurred \u001b[39m=\u001b[39m \u001b[39mTrue\u001b[39;00m\n",
      "File \u001b[0;32m~/.pyenv/versions/3.8.12/lib/python3.8/ssl.py:1241\u001b[0m, in \u001b[0;36mSSLSocket.recv_into\u001b[0;34m(self, buffer, nbytes, flags)\u001b[0m\n\u001b[1;32m   1237\u001b[0m     \u001b[39mif\u001b[39;00m flags \u001b[39m!=\u001b[39m \u001b[39m0\u001b[39m:\n\u001b[1;32m   1238\u001b[0m         \u001b[39mraise\u001b[39;00m \u001b[39mValueError\u001b[39;00m(\n\u001b[1;32m   1239\u001b[0m           \u001b[39m\"\u001b[39m\u001b[39mnon-zero flags not allowed in calls to recv_into() on \u001b[39m\u001b[39m%s\u001b[39;00m\u001b[39m\"\u001b[39m \u001b[39m%\u001b[39m\n\u001b[1;32m   1240\u001b[0m           \u001b[39mself\u001b[39m\u001b[39m.\u001b[39m\u001b[39m__class__\u001b[39m)\n\u001b[0;32m-> 1241\u001b[0m     \u001b[39mreturn\u001b[39;00m \u001b[39mself\u001b[39;49m\u001b[39m.\u001b[39;49mread(nbytes, buffer)\n\u001b[1;32m   1242\u001b[0m \u001b[39melse\u001b[39;00m:\n\u001b[1;32m   1243\u001b[0m     \u001b[39mreturn\u001b[39;00m \u001b[39msuper\u001b[39m()\u001b[39m.\u001b[39mrecv_into(buffer, nbytes, flags)\n",
      "File \u001b[0;32m~/.pyenv/versions/3.8.12/lib/python3.8/ssl.py:1099\u001b[0m, in \u001b[0;36mSSLSocket.read\u001b[0;34m(self, len, buffer)\u001b[0m\n\u001b[1;32m   1097\u001b[0m \u001b[39mtry\u001b[39;00m:\n\u001b[1;32m   1098\u001b[0m     \u001b[39mif\u001b[39;00m buffer \u001b[39mis\u001b[39;00m \u001b[39mnot\u001b[39;00m \u001b[39mNone\u001b[39;00m:\n\u001b[0;32m-> 1099\u001b[0m         \u001b[39mreturn\u001b[39;00m \u001b[39mself\u001b[39;49m\u001b[39m.\u001b[39;49m_sslobj\u001b[39m.\u001b[39;49mread(\u001b[39mlen\u001b[39;49m, buffer)\n\u001b[1;32m   1100\u001b[0m     \u001b[39melse\u001b[39;00m:\n\u001b[1;32m   1101\u001b[0m         \u001b[39mreturn\u001b[39;00m \u001b[39mself\u001b[39m\u001b[39m.\u001b[39m_sslobj\u001b[39m.\u001b[39mread(\u001b[39mlen\u001b[39m)\n",
      "\u001b[0;31mKeyboardInterrupt\u001b[0m: "
     ]
    }
   ],
   "source": [
    "df_results = save_pdfs(df,creds)\n",
    "df_results"
   ]
  },
  {
   "cell_type": "code",
   "execution_count": 80,
   "metadata": {},
   "outputs": [],
   "source": [
    "df_results.to_csv('df_results.csv')"
   ]
  },
  {
   "cell_type": "code",
   "execution_count": 82,
   "metadata": {},
   "outputs": [
    {
     "data": {
      "text/html": [
       "<div>\n",
       "<style scoped>\n",
       "    .dataframe tbody tr th:only-of-type {\n",
       "        vertical-align: middle;\n",
       "    }\n",
       "\n",
       "    .dataframe tbody tr th {\n",
       "        vertical-align: top;\n",
       "    }\n",
       "\n",
       "    .dataframe thead th {\n",
       "        text-align: right;\n",
       "    }\n",
       "</style>\n",
       "<table border=\"1\" class=\"dataframe\">\n",
       "  <thead>\n",
       "    <tr style=\"text-align: right;\">\n",
       "      <th></th>\n",
       "      <th>issue</th>\n",
       "      <th>url</th>\n",
       "      <th>date</th>\n",
       "      <th>pdf_link</th>\n",
       "      <th>status</th>\n",
       "    </tr>\n",
       "  </thead>\n",
       "  <tbody>\n",
       "    <tr>\n",
       "      <th>0</th>\n",
       "      <td>العدد 3922</td>\n",
       "      <td>https://www.al-akhbar.com/Editions/2019/12/2/PDF</td>\n",
       "      <td>2019-12-2</td>\n",
       "      <td>https://www.al-akhbar.com/PDF_Files/3922/alakh...</td>\n",
       "      <td>NaN</td>\n",
       "    </tr>\n",
       "    <tr>\n",
       "      <th>1</th>\n",
       "      <td>العدد 3923</td>\n",
       "      <td>https://www.al-akhbar.com/Editions/2019/12/3/PDF</td>\n",
       "      <td>2019-12-3</td>\n",
       "      <td>NaN</td>\n",
       "      <td>not_saved</td>\n",
       "    </tr>\n",
       "    <tr>\n",
       "      <th>2</th>\n",
       "      <td>العدد 3924</td>\n",
       "      <td>https://www.al-akhbar.com/Editions/2019/12/4/PDF</td>\n",
       "      <td>2019-12-4</td>\n",
       "      <td>https://www.al-akhbar.com/PDF_Files/3924/alakh...</td>\n",
       "      <td>NaN</td>\n",
       "    </tr>\n",
       "    <tr>\n",
       "      <th>3</th>\n",
       "      <td>العدد 3925</td>\n",
       "      <td>https://www.al-akhbar.com/Editions/2019/12/5/PDF</td>\n",
       "      <td>2019-12-5</td>\n",
       "      <td>https://www.al-akhbar.com/PDF_Files/3925/alakh...</td>\n",
       "      <td>NaN</td>\n",
       "    </tr>\n",
       "    <tr>\n",
       "      <th>4</th>\n",
       "      <td>العدد 3926</td>\n",
       "      <td>https://www.al-akhbar.com/Editions/2019/12/6/PDF</td>\n",
       "      <td>2019-12-6</td>\n",
       "      <td>https://www.al-akhbar.com/PDF_Files/3926/alakh...</td>\n",
       "      <td>NaN</td>\n",
       "    </tr>\n",
       "    <tr>\n",
       "      <th>...</th>\n",
       "      <td>...</td>\n",
       "      <td>...</td>\n",
       "      <td>...</td>\n",
       "      <td>...</td>\n",
       "      <td>...</td>\n",
       "    </tr>\n",
       "    <tr>\n",
       "      <th>2923</th>\n",
       "      <td>العدد 1028</td>\n",
       "      <td>https://www.al-akhbar.com/Editions/2010/1/26/PDF</td>\n",
       "      <td>2010-1-26</td>\n",
       "      <td>https://www.al-akhbar.com/PDF_Files/1028/alakh...</td>\n",
       "      <td>saved</td>\n",
       "    </tr>\n",
       "    <tr>\n",
       "      <th>2924</th>\n",
       "      <td>العدد 1029</td>\n",
       "      <td>https://www.al-akhbar.com/Editions/2010/1/27/PDF</td>\n",
       "      <td>2010-1-27</td>\n",
       "      <td>https://www.al-akhbar.com/PDF_Files/1029/alakh...</td>\n",
       "      <td>saved</td>\n",
       "    </tr>\n",
       "    <tr>\n",
       "      <th>2925</th>\n",
       "      <td>العدد 1030</td>\n",
       "      <td>https://www.al-akhbar.com/Editions/2010/1/28/PDF</td>\n",
       "      <td>2010-1-28</td>\n",
       "      <td>https://www.al-akhbar.com/PDF_Files/1030/alakh...</td>\n",
       "      <td>saved</td>\n",
       "    </tr>\n",
       "    <tr>\n",
       "      <th>2926</th>\n",
       "      <td>العدد 1031</td>\n",
       "      <td>https://www.al-akhbar.com/Editions/2010/1/29/PDF</td>\n",
       "      <td>2010-1-29</td>\n",
       "      <td>https://www.al-akhbar.com/PDF_Files/1031/alakh...</td>\n",
       "      <td>saved</td>\n",
       "    </tr>\n",
       "    <tr>\n",
       "      <th>2927</th>\n",
       "      <td>العدد 1032</td>\n",
       "      <td>https://www.al-akhbar.com/Editions/2010/1/30/PDF</td>\n",
       "      <td>2010-1-30</td>\n",
       "      <td>https://www.al-akhbar.com/PDF_Files/1032/alakh...</td>\n",
       "      <td>saved</td>\n",
       "    </tr>\n",
       "  </tbody>\n",
       "</table>\n",
       "<p>2928 rows × 5 columns</p>\n",
       "</div>"
      ],
      "text/plain": [
       "           issue                                               url       date  \\\n",
       "0     العدد 3922  https://www.al-akhbar.com/Editions/2019/12/2/PDF  2019-12-2   \n",
       "1     العدد 3923  https://www.al-akhbar.com/Editions/2019/12/3/PDF  2019-12-3   \n",
       "2     العدد 3924  https://www.al-akhbar.com/Editions/2019/12/4/PDF  2019-12-4   \n",
       "3     العدد 3925  https://www.al-akhbar.com/Editions/2019/12/5/PDF  2019-12-5   \n",
       "4     العدد 3926  https://www.al-akhbar.com/Editions/2019/12/6/PDF  2019-12-6   \n",
       "...          ...                                               ...        ...   \n",
       "2923  العدد 1028  https://www.al-akhbar.com/Editions/2010/1/26/PDF  2010-1-26   \n",
       "2924  العدد 1029  https://www.al-akhbar.com/Editions/2010/1/27/PDF  2010-1-27   \n",
       "2925  العدد 1030  https://www.al-akhbar.com/Editions/2010/1/28/PDF  2010-1-28   \n",
       "2926  العدد 1031  https://www.al-akhbar.com/Editions/2010/1/29/PDF  2010-1-29   \n",
       "2927  العدد 1032  https://www.al-akhbar.com/Editions/2010/1/30/PDF  2010-1-30   \n",
       "\n",
       "                                               pdf_link     status  \n",
       "0     https://www.al-akhbar.com/PDF_Files/3922/alakh...        NaN  \n",
       "1                                                   NaN  not_saved  \n",
       "2     https://www.al-akhbar.com/PDF_Files/3924/alakh...        NaN  \n",
       "3     https://www.al-akhbar.com/PDF_Files/3925/alakh...        NaN  \n",
       "4     https://www.al-akhbar.com/PDF_Files/3926/alakh...        NaN  \n",
       "...                                                 ...        ...  \n",
       "2923  https://www.al-akhbar.com/PDF_Files/1028/alakh...      saved  \n",
       "2924  https://www.al-akhbar.com/PDF_Files/1029/alakh...      saved  \n",
       "2925  https://www.al-akhbar.com/PDF_Files/1030/alakh...      saved  \n",
       "2926  https://www.al-akhbar.com/PDF_Files/1031/alakh...      saved  \n",
       "2927  https://www.al-akhbar.com/PDF_Files/1032/alakh...      saved  \n",
       "\n",
       "[2928 rows x 5 columns]"
      ]
     },
     "execution_count": 82,
     "metadata": {},
     "output_type": "execute_result"
    }
   ],
   "source": [
    "df_results = pd.read_csv('df_results.csv')\n",
    "df_results.drop(columns=['Unnamed: 0'], inplace=True)\n",
    "df_results"
   ]
  },
  {
   "cell_type": "code",
   "execution_count": 83,
   "metadata": {},
   "outputs": [
    {
     "data": {
      "text/html": [
       "<div>\n",
       "<style scoped>\n",
       "    .dataframe tbody tr th:only-of-type {\n",
       "        vertical-align: middle;\n",
       "    }\n",
       "\n",
       "    .dataframe tbody tr th {\n",
       "        vertical-align: top;\n",
       "    }\n",
       "\n",
       "    .dataframe thead th {\n",
       "        text-align: right;\n",
       "    }\n",
       "</style>\n",
       "<table border=\"1\" class=\"dataframe\">\n",
       "  <thead>\n",
       "    <tr style=\"text-align: right;\">\n",
       "      <th></th>\n",
       "      <th>issue</th>\n",
       "      <th>url</th>\n",
       "      <th>date</th>\n",
       "      <th>pdf_link</th>\n",
       "      <th>status</th>\n",
       "    </tr>\n",
       "  </thead>\n",
       "  <tbody>\n",
       "    <tr>\n",
       "      <th>0</th>\n",
       "      <td>العدد 3922</td>\n",
       "      <td>https://www.al-akhbar.com/Editions/2019/12/2/PDF</td>\n",
       "      <td>2019-12-2</td>\n",
       "      <td>https://www.al-akhbar.com/PDF_Files/3922/alakh...</td>\n",
       "      <td>NaN</td>\n",
       "    </tr>\n",
       "    <tr>\n",
       "      <th>2</th>\n",
       "      <td>العدد 3924</td>\n",
       "      <td>https://www.al-akhbar.com/Editions/2019/12/4/PDF</td>\n",
       "      <td>2019-12-4</td>\n",
       "      <td>https://www.al-akhbar.com/PDF_Files/3924/alakh...</td>\n",
       "      <td>NaN</td>\n",
       "    </tr>\n",
       "    <tr>\n",
       "      <th>3</th>\n",
       "      <td>العدد 3925</td>\n",
       "      <td>https://www.al-akhbar.com/Editions/2019/12/5/PDF</td>\n",
       "      <td>2019-12-5</td>\n",
       "      <td>https://www.al-akhbar.com/PDF_Files/3925/alakh...</td>\n",
       "      <td>NaN</td>\n",
       "    </tr>\n",
       "    <tr>\n",
       "      <th>4</th>\n",
       "      <td>العدد 3926</td>\n",
       "      <td>https://www.al-akhbar.com/Editions/2019/12/6/PDF</td>\n",
       "      <td>2019-12-6</td>\n",
       "      <td>https://www.al-akhbar.com/PDF_Files/3926/alakh...</td>\n",
       "      <td>NaN</td>\n",
       "    </tr>\n",
       "    <tr>\n",
       "      <th>5</th>\n",
       "      <td>العدد 3927</td>\n",
       "      <td>https://www.al-akhbar.com/Editions/2019/12/7/PDF</td>\n",
       "      <td>2019-12-7</td>\n",
       "      <td>https://www.al-akhbar.com/PDF_Files/3927/alakh...</td>\n",
       "      <td>NaN</td>\n",
       "    </tr>\n",
       "    <tr>\n",
       "      <th>...</th>\n",
       "      <td>...</td>\n",
       "      <td>...</td>\n",
       "      <td>...</td>\n",
       "      <td>...</td>\n",
       "      <td>...</td>\n",
       "    </tr>\n",
       "    <tr>\n",
       "      <th>542</th>\n",
       "      <td>العدد 3389</td>\n",
       "      <td>https://www.al-akhbar.com/Editions/2018/2/6/PDF</td>\n",
       "      <td>2018-2-6</td>\n",
       "      <td>https://www.al-akhbar.com/PDF_Files/3389/alakh...</td>\n",
       "      <td>NaN</td>\n",
       "    </tr>\n",
       "    <tr>\n",
       "      <th>543</th>\n",
       "      <td>العدد 3390</td>\n",
       "      <td>https://www.al-akhbar.com/Editions/2018/2/7/PDF</td>\n",
       "      <td>2018-2-7</td>\n",
       "      <td>https://www.al-akhbar.com/PDF_Files/3390/alakh...</td>\n",
       "      <td>NaN</td>\n",
       "    </tr>\n",
       "    <tr>\n",
       "      <th>544</th>\n",
       "      <td>العدد 3391</td>\n",
       "      <td>https://www.al-akhbar.com/Editions/2018/2/8/PDF</td>\n",
       "      <td>2018-2-8</td>\n",
       "      <td>https://www.al-akhbar.com/PDF_Files/3391/alakh...</td>\n",
       "      <td>NaN</td>\n",
       "    </tr>\n",
       "    <tr>\n",
       "      <th>545</th>\n",
       "      <td>العدد 3392</td>\n",
       "      <td>https://www.al-akhbar.com/Editions/2018/2/9/PDF</td>\n",
       "      <td>2018-2-9</td>\n",
       "      <td>https://www.al-akhbar.com/PDF_Files/2426/alakh...</td>\n",
       "      <td>NaN</td>\n",
       "    </tr>\n",
       "    <tr>\n",
       "      <th>2083</th>\n",
       "      <td>العدد 1608</td>\n",
       "      <td>https://www.al-akhbar.com/Editions/2012/11/13/PDF</td>\n",
       "      <td>2012-11-13</td>\n",
       "      <td>https://www.al-akhbar.com/PDF_Files/1345/alakh...</td>\n",
       "      <td>NaN</td>\n",
       "    </tr>\n",
       "  </tbody>\n",
       "</table>\n",
       "<p>546 rows × 5 columns</p>\n",
       "</div>"
      ],
      "text/plain": [
       "           issue                                                url  \\\n",
       "0     العدد 3922   https://www.al-akhbar.com/Editions/2019/12/2/PDF   \n",
       "2     العدد 3924   https://www.al-akhbar.com/Editions/2019/12/4/PDF   \n",
       "3     العدد 3925   https://www.al-akhbar.com/Editions/2019/12/5/PDF   \n",
       "4     العدد 3926   https://www.al-akhbar.com/Editions/2019/12/6/PDF   \n",
       "5     العدد 3927   https://www.al-akhbar.com/Editions/2019/12/7/PDF   \n",
       "...          ...                                                ...   \n",
       "542   العدد 3389    https://www.al-akhbar.com/Editions/2018/2/6/PDF   \n",
       "543   العدد 3390    https://www.al-akhbar.com/Editions/2018/2/7/PDF   \n",
       "544   العدد 3391    https://www.al-akhbar.com/Editions/2018/2/8/PDF   \n",
       "545   العدد 3392    https://www.al-akhbar.com/Editions/2018/2/9/PDF   \n",
       "2083  العدد 1608  https://www.al-akhbar.com/Editions/2012/11/13/PDF   \n",
       "\n",
       "            date                                           pdf_link status  \n",
       "0      2019-12-2  https://www.al-akhbar.com/PDF_Files/3922/alakh...    NaN  \n",
       "2      2019-12-4  https://www.al-akhbar.com/PDF_Files/3924/alakh...    NaN  \n",
       "3      2019-12-5  https://www.al-akhbar.com/PDF_Files/3925/alakh...    NaN  \n",
       "4      2019-12-6  https://www.al-akhbar.com/PDF_Files/3926/alakh...    NaN  \n",
       "5      2019-12-7  https://www.al-akhbar.com/PDF_Files/3927/alakh...    NaN  \n",
       "...          ...                                                ...    ...  \n",
       "542     2018-2-6  https://www.al-akhbar.com/PDF_Files/3389/alakh...    NaN  \n",
       "543     2018-2-7  https://www.al-akhbar.com/PDF_Files/3390/alakh...    NaN  \n",
       "544     2018-2-8  https://www.al-akhbar.com/PDF_Files/3391/alakh...    NaN  \n",
       "545     2018-2-9  https://www.al-akhbar.com/PDF_Files/2426/alakh...    NaN  \n",
       "2083  2012-11-13  https://www.al-akhbar.com/PDF_Files/1345/alakh...    NaN  \n",
       "\n",
       "[546 rows x 5 columns]"
      ]
     },
     "execution_count": 83,
     "metadata": {},
     "output_type": "execute_result"
    }
   ],
   "source": [
    "df_notdone = df_results[(df_results['status']!='saved')&(df_results['status']!='not_saved')]\n",
    "df_notdone"
   ]
  },
  {
   "cell_type": "code",
   "execution_count": 90,
   "metadata": {},
   "outputs": [],
   "source": [
    "# df_results_2 = save_pdfs(df_notdone,creds)\n",
    "# df_results_2"
   ]
  },
  {
   "cell_type": "code",
   "execution_count": 91,
   "metadata": {},
   "outputs": [],
   "source": [
    "# service = build('drive', 'v3', credentials=creds)\n",
    "\n",
    "\n",
    "# name = df_results.iloc[1]['date'] +'.pdf'\n",
    "# link = df_results.iloc[1]['pdf_link']\n",
    "# response = requests.get(link)\n",
    "# print(response)\n",
    "    #                 file = tempfile.NamedTemporaryFile()\n",
    "    #                 file.write(response.content)\n",
    "    #                 file.seek(0)\n",
    "                    \n",
    "    #                 file_metadata = {'name': name,'parents':[folder_id]}\n",
    "                    \n",
    "    #                 media = MediaFileUpload(file.name,\n",
    "    #                                     mimetype='application/pdf')\n",
    "                    \n",
    "    #                 service.files().create(body=file_metadata, media_body=media, fields='id').execute()\n",
    "    #                 row['status'] = 'saved'\n",
    "    #             except:\n",
    "    #                 row['status'] = 'not_saved'\n",
    "    #         else:\n",
    "    #             row['status'] = 'not_saved'\n",
    "    # return df"
   ]
  },
  {
   "cell_type": "code",
   "execution_count": 95,
   "metadata": {},
   "outputs": [
    {
     "name": "stdout",
     "output_type": "stream",
     "text": [
      "Number of files in the folder \"AAA\" : 2894\n"
     ]
    }
   ],
   "source": [
    "service = build('drive', 'v3', credentials=creds)\n",
    "folder_id = '1BVzI84DDDtbvU3pp1k0yERF5YKIs84R0'\n",
    "results = service.files().list(q=f\"'{folder_id}' in parents\",fields=\"nextPageToken, files(id, name)\").execute()\n",
    "files = results.get(\"files\", [])\n",
    "next_page_token = results.get(\"nextPageToken\")\n",
    "while next_page_token:\n",
    "    results = service.files().list(q=f\"'{folder_id}' in parents\",fields=\"nextPageToken, files(id, name)\", pageToken=next_page_token).execute()\n",
    "    files.extend(results.get(\"files\", []))\n",
    "    next_page_token = results.get(\"nextPageToken\")\n",
    "print(F'Number of files in the folder \"AAA\" : {len(files)}')"
   ]
  },
  {
   "cell_type": "code",
   "execution_count": 101,
   "metadata": {},
   "outputs": [
    {
     "data": {
      "text/plain": [
       "(33, 5)"
      ]
     },
     "execution_count": 101,
     "metadata": {},
     "output_type": "execute_result"
    }
   ],
   "source": [
    "df_results[(df_results['status']=='not_saved')].shape"
   ]
  },
  {
   "cell_type": "code",
   "execution_count": null,
   "metadata": {},
   "outputs": [],
   "source": [
    "# def save_article_to_drive(article_text, file_name):\n",
    "#     try:\n",
    "#       # authenticate with Google Drive\n",
    "#       credentials = Credentials.from_authorized_user_info()\n",
    "#       service = build('drive', 'v3', credentials=credentials)\n",
    "\n",
    "#       # create the file on Google Drive\n",
    "#       file_metadata = {'name': file_name, 'mimeType': 'text/plain'}\n",
    "#       media = MediaIoBaseUpload(io.StringIO(article_text), mimetype='text/plain',chunksize=1024*1024, resumable=True)\n",
    "#       file = service.files().create(body=file_metadata, media_body=media, fields='id').execute()\n",
    "#       print(f'File ID: {file.get(/id\\)}')\n",
    "      \n",
    "#     except HttpError as error:\n",
    "#         print(f'An error occurred: {error}')\n",
    "#         file = None\n",
    "#     return file"
   ]
  },
  {
   "cell_type": "code",
   "execution_count": null,
   "metadata": {},
   "outputs": [],
   "source": [
    "# scrape the website for PDF links\n",
    "\n",
    "# download each PDF and save it to Google Drive\n",
    "\n",
    "text_ls = [] \n",
    "for link in pdf_links:\n",
    "    # download the PDF\n",
    "    pdf_url = link['href']\n",
    "    \n",
    "    pdf_content = pdf_response.content\n",
    "    # extract the text from the PDF\n",
    "    text = extract_text_from_pdf(pdf_content)\n",
    "    text_ls.append(text)\n",
    "    \n",
    "print(soup)"
   ]
  },
  {
   "cell_type": "code",
   "execution_count": null,
   "metadata": {},
   "outputs": [],
   "source": [
    "# def extract_text_from_pdf(pdf_content):\n",
    "#   resource_manager = PDFResourceManager()\n",
    "#   fake_file_handle = io.StringIO()\n",
    "#   converter = TextConverter(resource_manager, fake_file_handle)\n",
    "#   page_interpreter = PDFPageInterpreter(resource_manager, converter)\n",
    "\n",
    "#   with io.BytesIO(pdf_content) as fh:\n",
    "#     for page in PDFPage.get_pages(fh,\n",
    "#                                   caching=True,\n",
    "#                                   check_extractable=True):\n",
    "#       page_interpreter.process_page(page)\n",
    "\n",
    "#     text = fake_file_handle.getvalue()\n",
    "\n",
    "#   # close open handles\n",
    "#   converter.close()\n",
    "#   fake_file_handle.close()\n",
    "\n",
    "#   return text"
   ]
  },
  {
   "cell_type": "code",
   "execution_count": null,
   "metadata": {},
   "outputs": [],
   "source": [
    "# \"# search the text for keywords\n",
    "# \"keywords = ['keyword1', 'keyword2', 'keyword3']\n",
    "# \"for keyword in keywords:\n",
    "# \"  if re.search(keyword, text, re.IGNORECASE):\n",
    "# \"    # keyword found, save the article\n",
    "# \"    file_name = f'{keyword}_article.txt'\n",
    "# \"    save_article_to_drive(text, file_name)\n",
    "# \"    break\""
   ]
  }
 ],
 "metadata": {
  "kernelspec": {
   "display_name": "Python 3",
   "language": "python",
   "name": "python3"
  },
  "language_info": {
   "codemirror_mode": {
    "name": "ipython",
    "version": 3
   },
   "file_extension": ".py",
   "mimetype": "text/x-python",
   "name": "python",
   "nbconvert_exporter": "python",
   "pygments_lexer": "ipython3",
   "version": "3.8.12"
  },
  "orig_nbformat": 4,
  "vscode": {
   "interpreter": {
    "hash": "08f894913cde66c7b668fed923c75d3a020a4a5d16d7076f7658aed24e50b1e3"
   }
  }
 },
 "nbformat": 4,
 "nbformat_minor": 2
}
