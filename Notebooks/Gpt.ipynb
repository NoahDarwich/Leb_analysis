{
 "cells": [
  {
   "cell_type": "code",
   "execution_count": null,
   "metadata": {},
   "outputs": [],
   "source": [
    "import os\n",
    "\n",
    "import openai"
   ]
  },
  {
   "cell_type": "code",
   "execution_count": 2,
   "metadata": {},
   "outputs": [],
   "source": [
    "from dotenv import load_dotenv\n",
    "# Load your API key from an environment variable or secret management service\n",
    "load_dotenv()\n",
    "openai.api_key = os.environ[\"OPENAPI_KEY_THAWRA\"]"
   ]
  },
  {
   "cell_type": "code",
   "execution_count": null,
   "metadata": {},
   "outputs": [],
   "source": []
  },
  {
   "cell_type": "code",
   "execution_count": null,
   "metadata": {},
   "outputs": [],
   "source": [
    "prompt = \"\"\"Extract information about all events mentioned in the following narrative:\n",
    "\n",
    "\"نظمت تنسيقية الكوادر الصحية بالتنسيق مع كتلة المجتمع المدني ولجان المقاومة بولاية جنوب دارفور، وققة إحتجاجية اليوم الاحد إستنكروا من خلالها ما أسموه تجاهل سلطات الولاية حل أزمة مستشفى نيالا التخصصي الذي توقف عن العمل جراء دخول إضراب أطباء العظام والمسالك البولية أسبوعه الرابع بسبب أزمة إدارية. وأوضحت منى النو ممثل تنسيقية الكوادر الصحية بوزارة الصحة الولائية أن الوقفة الاحتجاجية امام وزارة الصحة تأتي بغرض الضغط على السلطات المسؤولة بالتدخل والقيام بمسؤوليتها لإنقاذ المستشفى من التوقف التام. وقالت النو في تصريح لـ(سونا) إنه وبسبب أزمة المستشفى التخصصي توقفت العشرات من العمليات الدقيقة وتضرر المئات من المواطنين الذين يعتمدون على الخدمة، لجهة أن المستشفى يقدم خدمة لعلاج مرضى الكلى والمسالك البولية بجانب جراحة العظام، ويقدم خدمة طبية لعدد من ولايات دارفور ويستقبل مرضى من دول الجوار. وأشارت النو الى تصعيد واستمرار الوقفات الاحتجاجية لحين حل أزمة المستشفى بصورة كاملة.\"\n",
    "For each event, extract the following information:\n",
    "- Type of event\n",
    "- Location of the event\n",
    "- Number of participants or estimated size of the event\n",
    "- Demands of the participants\n",
    "- Whether violence occurred, and if so, the level of violence\n",
    "- Number of casualties (if mentioned)\n",
    "- Date/time of the event (if mentioned)\n",
    "\n",
    "Return \"No info\" if the information for a specific key is not found in the narrative.\n",
    "\n",
    "Note: An event is defined as any gathering or protest involving multiple people.\n",
    "\"\"\"\n",
    "\n",
    "# Define the fine-tuned model ID\n",
    "model_id = \"text-davinci-003\"\n",
    "\n",
    "# Define the parameters for the model\n",
    "model_engine = \"davinci\"\n",
    "model_max_tokens = 100\n",
    "model_temperature = 0.2\n",
    "#model_top_p = 1\n",
    "# model_frequency_penalty = 0\n",
    "# model_presence_penalty = 0\n",
    "\n",
    "# Define the stop sequence to indicate when the model should stop generating text\n",
    "#model_stop_sequence = \"\\n\\n\"\n",
    "\n",
    "# Use the OpenAI API to generate the key information from the narrative using the fine-tuned model\n",
    "response = openai.Completion.create(\n",
    "    #engine=model_engine,\n",
    "    prompt=prompt,\n",
    "    max_tokens=model_max_tokens,\n",
    "    temperature=model_temperature,\n",
    "    #top_p=model_top_p,\n",
    "    # frequency_penalty=model_frequency_penalty,\n",
    "    # presence_penalty=model_presence_penalty,\n",
    "    #stop=model_stop_sequence,\n",
    "    model=model_id\n",
    ")\n",
    "\n",
    "# Print the results\n",
    "print(response.choices[0].text.strip())"
   ]
  }
 ],
 "metadata": {
  "kernelspec": {
   "display_name": "Python 3",
   "language": "python",
   "name": "python3"
  },
  "language_info": {
   "codemirror_mode": {
    "name": "ipython",
    "version": 3
   },
   "file_extension": ".py",
   "mimetype": "text/x-python",
   "name": "python",
   "nbconvert_exporter": "python",
   "pygments_lexer": "ipython3",
   "version": "3.8.12"
  },
  "orig_nbformat": 4
 },
 "nbformat": 4,
 "nbformat_minor": 2
}
