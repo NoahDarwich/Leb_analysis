{
 "cells": [
  {
   "cell_type": "code",
   "execution_count": 13,
   "metadata": {},
   "outputs": [],
   "source": [
    "import pandas as pd\n",
    "\n",
    "import re\n",
    "\n",
    "\n",
    "from oauth2client.service_account import ServiceAccountCredentials\n",
    "from googleapiclient.discovery import build"
   ]
  },
  {
   "cell_type": "code",
   "execution_count": 2,
   "metadata": {},
   "outputs": [],
   "source": [
    "year_folder_id_dict = {'2010':'113DAB_g6P3b-gbrpFog682EfdILcBMt6','2011':'1Yh9610KUMxZLNDiyUOnng-7PbhlYbt3x',\n",
    "                       '2012':'1TEWAyyxf6dJ3K6hMiliayJ4VV4ilvwIH','2013':'1KWNg6Me11spV-JRFOzwlvNpvoYMLI59C',\n",
    "                       '2014':'1IgDuaPlc9b-MdP6VELFXcTffqSRHYPU5','2015':'1CrHueAEH76p95tIOryMrdu5nV-qW702M',\n",
    "                       '2016':'1hpViY56I20A6k6EeQGrOn6QG11j7gb58','2017':'1H2HXwALMyzxBIMJyluYkTHJKplqGIpUF',\n",
    "                       '2018':'1-jlTY-u_izedKKNenevC3kgM6yaKR7b7','2019':'1Qm-Sse4vbOx2IOAILUCTvXwqShWlynQn'}\n",
    "\n",
    "events_folder_id_dict = {'2010':'1CPmsZoNqsDslYUDuMMYAiTRdgcbjuIj6','2011':'1FQenIULvAsgQN4sLSpcLdjjfStfeIvga',\n",
    "                       '2012':'1ABi7lAAmlARbrGlBJv8Tz6IFXVSYzLdR','2013':'1MMg8bUfZj3eZf_gAlr3k2N9_LWmO5DWr',\n",
    "                       '2014':'135rCpr_1_N00nmsKOcyWjmQPmT_n8I96','2015':'1Gjm0qtTXL-21qNQJtloxNGtJq3Q1Xlyq',\n",
    "                       '2016':'1qRUeOe4mFx5ofuYHxiqL4u1HvqxLCz96','2017':'15DY5sNvP8O2jgus7Qythy8Nzeeo7cZAI',\n",
    "                       '2018':'1AKHSz-t3vkUsLE2IC4TdrMUznjNC3YpU','2019':'1qOX3DQFtU_j4czyUMndjpn9c0crZ8ue1'}\n",
    "events_folder_id = '165-gELn98fyKGaWnmWSkJuUuz1aj8XMg'"
   ]
  },
  {
   "cell_type": "code",
   "execution_count": 3,
   "metadata": {},
   "outputs": [],
   "source": [
    "df = pd.read_csv('df_results.csv', index_col=0)"
   ]
  },
  {
   "cell_type": "code",
   "execution_count": 7,
   "metadata": {},
   "outputs": [],
   "source": [
    "creds = ServiceAccountCredentials.from_json_keyfile_name('leba-375419-92c3baf53205.json',\n",
    "                                                         scopes=['https://www.googleapis.com/auth/drive'])\n",
    "service = build('drive', 'v3', credentials=creds)"
   ]
  },
  {
   "cell_type": "code",
   "execution_count": 8,
   "metadata": {},
   "outputs": [
    {
     "name": "stdout",
     "output_type": "stream",
     "text": [
      "2812\n"
     ]
    }
   ],
   "source": [
    "saved_files = []\n",
    "for folder_id in year_folder_id_dict.values():\n",
    "    results = service.files().list(q=f\"'{folder_id}' in parents\",fields=\"nextPageToken, files(id, name)\").execute()\n",
    "    files = results.get(\"files\", [])\n",
    "    next_page_token = results.get(\"nextPageToken\")\n",
    "    while next_page_token:\n",
    "        results = service.files().list(q=f\"'{folder_id}' in parents\",fields=\"nextPageToken, files(id, name)\", pageToken=next_page_token).execute()\n",
    "        files.extend(results.get(\"files\", []))\n",
    "        next_page_token = results.get(\"nextPageToken\")\n",
    "    for file in files:\n",
    "        saved_files.append(file.get('name').replace('.pdf',''))\n",
    "print(len(saved_files))"
   ]
  },
  {
   "cell_type": "code",
   "execution_count": 9,
   "metadata": {},
   "outputs": [],
   "source": [
    "mask = df['date'].isin(saved_files)\n",
    "df.loc[mask, 'GD'] = 'raw'"
   ]
  },
  {
   "cell_type": "code",
   "execution_count": 10,
   "metadata": {},
   "outputs": [],
   "source": [
    "mask = ~df['date'].isin(saved_files)\n",
    "df.loc[mask, 'GD'] = 'missed'"
   ]
  },
  {
   "attachments": {},
   "cell_type": "markdown",
   "metadata": {},
   "source": [
    "**Number of saved files in Raw_data folder**"
   ]
  },
  {
   "cell_type": "code",
   "execution_count": 11,
   "metadata": {},
   "outputs": [
    {
     "data": {
      "text/plain": [
       "raw       2813\n",
       "missed     115\n",
       "Name: GD, dtype: int64"
      ]
     },
     "execution_count": 11,
     "metadata": {},
     "output_type": "execute_result"
    }
   ],
   "source": [
    "df['GD'].value_counts()"
   ]
  },
  {
   "cell_type": "code",
   "execution_count": 30,
   "metadata": {},
   "outputs": [],
   "source": [
    "with open('missing_dates.txt', 'r') as f:\n",
    "    missing_dates = [x.strip() for x in f.read().split('\\n')]"
   ]
  },
  {
   "cell_type": "code",
   "execution_count": 43,
   "metadata": {},
   "outputs": [],
   "source": [
    "mask = (~df['date'].isin(missing_dates)) & (df['GD']=='missed')\n",
    "df_missing_files = df.loc[mask]\n",
    "df_missing_files.to_csv('df_missing_files.csv')"
   ]
  },
  {
   "cell_type": "code",
   "execution_count": 12,
   "metadata": {},
   "outputs": [
    {
     "data": {
      "text/html": [
       "<div>\n",
       "<style scoped>\n",
       "    .dataframe tbody tr th:only-of-type {\n",
       "        vertical-align: middle;\n",
       "    }\n",
       "\n",
       "    .dataframe tbody tr th {\n",
       "        vertical-align: top;\n",
       "    }\n",
       "\n",
       "    .dataframe thead th {\n",
       "        text-align: right;\n",
       "    }\n",
       "</style>\n",
       "<table border=\"1\" class=\"dataframe\">\n",
       "  <thead>\n",
       "    <tr style=\"text-align: right;\">\n",
       "      <th></th>\n",
       "      <th>issue</th>\n",
       "      <th>url</th>\n",
       "      <th>date</th>\n",
       "      <th>pdf_link</th>\n",
       "      <th>status</th>\n",
       "      <th>GD</th>\n",
       "    </tr>\n",
       "  </thead>\n",
       "  <tbody>\n",
       "    <tr>\n",
       "      <th>0</th>\n",
       "      <td>العدد 3922</td>\n",
       "      <td>https://www.al-akhbar.com/Editions/2019/12/2/PDF</td>\n",
       "      <td>2019-12-2</td>\n",
       "      <td>https://www.al-akhbar.com/PDF_Files/3922/alakh...</td>\n",
       "      <td>NaN</td>\n",
       "      <td>raw</td>\n",
       "    </tr>\n",
       "    <tr>\n",
       "      <th>1</th>\n",
       "      <td>العدد 3923</td>\n",
       "      <td>https://www.al-akhbar.com/Editions/2019/12/3/PDF</td>\n",
       "      <td>2019-12-3</td>\n",
       "      <td>NaN</td>\n",
       "      <td>not_saved</td>\n",
       "      <td>missed</td>\n",
       "    </tr>\n",
       "    <tr>\n",
       "      <th>2</th>\n",
       "      <td>العدد 3924</td>\n",
       "      <td>https://www.al-akhbar.com/Editions/2019/12/4/PDF</td>\n",
       "      <td>2019-12-4</td>\n",
       "      <td>https://www.al-akhbar.com/PDF_Files/3924/alakh...</td>\n",
       "      <td>NaN</td>\n",
       "      <td>raw</td>\n",
       "    </tr>\n",
       "    <tr>\n",
       "      <th>3</th>\n",
       "      <td>العدد 3925</td>\n",
       "      <td>https://www.al-akhbar.com/Editions/2019/12/5/PDF</td>\n",
       "      <td>2019-12-5</td>\n",
       "      <td>https://www.al-akhbar.com/PDF_Files/3925/alakh...</td>\n",
       "      <td>NaN</td>\n",
       "      <td>raw</td>\n",
       "    </tr>\n",
       "    <tr>\n",
       "      <th>4</th>\n",
       "      <td>العدد 3926</td>\n",
       "      <td>https://www.al-akhbar.com/Editions/2019/12/6/PDF</td>\n",
       "      <td>2019-12-6</td>\n",
       "      <td>https://www.al-akhbar.com/PDF_Files/3926/alakh...</td>\n",
       "      <td>NaN</td>\n",
       "      <td>raw</td>\n",
       "    </tr>\n",
       "    <tr>\n",
       "      <th>...</th>\n",
       "      <td>...</td>\n",
       "      <td>...</td>\n",
       "      <td>...</td>\n",
       "      <td>...</td>\n",
       "      <td>...</td>\n",
       "      <td>...</td>\n",
       "    </tr>\n",
       "    <tr>\n",
       "      <th>2923</th>\n",
       "      <td>العدد 1028</td>\n",
       "      <td>https://www.al-akhbar.com/Editions/2010/1/26/PDF</td>\n",
       "      <td>2010-1-26</td>\n",
       "      <td>https://www.al-akhbar.com/PDF_Files/1028/alakh...</td>\n",
       "      <td>saved</td>\n",
       "      <td>missed</td>\n",
       "    </tr>\n",
       "    <tr>\n",
       "      <th>2924</th>\n",
       "      <td>العدد 1029</td>\n",
       "      <td>https://www.al-akhbar.com/Editions/2010/1/27/PDF</td>\n",
       "      <td>2010-1-27</td>\n",
       "      <td>https://www.al-akhbar.com/PDF_Files/1029/alakh...</td>\n",
       "      <td>saved</td>\n",
       "      <td>missed</td>\n",
       "    </tr>\n",
       "    <tr>\n",
       "      <th>2925</th>\n",
       "      <td>العدد 1030</td>\n",
       "      <td>https://www.al-akhbar.com/Editions/2010/1/28/PDF</td>\n",
       "      <td>2010-1-28</td>\n",
       "      <td>https://www.al-akhbar.com/PDF_Files/1030/alakh...</td>\n",
       "      <td>saved</td>\n",
       "      <td>missed</td>\n",
       "    </tr>\n",
       "    <tr>\n",
       "      <th>2926</th>\n",
       "      <td>العدد 1031</td>\n",
       "      <td>https://www.al-akhbar.com/Editions/2010/1/29/PDF</td>\n",
       "      <td>2010-1-29</td>\n",
       "      <td>https://www.al-akhbar.com/PDF_Files/1031/alakh...</td>\n",
       "      <td>saved</td>\n",
       "      <td>missed</td>\n",
       "    </tr>\n",
       "    <tr>\n",
       "      <th>2927</th>\n",
       "      <td>العدد 1032</td>\n",
       "      <td>https://www.al-akhbar.com/Editions/2010/1/30/PDF</td>\n",
       "      <td>2010-1-30</td>\n",
       "      <td>https://www.al-akhbar.com/PDF_Files/1032/alakh...</td>\n",
       "      <td>saved</td>\n",
       "      <td>missed</td>\n",
       "    </tr>\n",
       "  </tbody>\n",
       "</table>\n",
       "<p>2928 rows × 6 columns</p>\n",
       "</div>"
      ],
      "text/plain": [
       "           issue                                               url       date  \\\n",
       "0     العدد 3922  https://www.al-akhbar.com/Editions/2019/12/2/PDF  2019-12-2   \n",
       "1     العدد 3923  https://www.al-akhbar.com/Editions/2019/12/3/PDF  2019-12-3   \n",
       "2     العدد 3924  https://www.al-akhbar.com/Editions/2019/12/4/PDF  2019-12-4   \n",
       "3     العدد 3925  https://www.al-akhbar.com/Editions/2019/12/5/PDF  2019-12-5   \n",
       "4     العدد 3926  https://www.al-akhbar.com/Editions/2019/12/6/PDF  2019-12-6   \n",
       "...          ...                                               ...        ...   \n",
       "2923  العدد 1028  https://www.al-akhbar.com/Editions/2010/1/26/PDF  2010-1-26   \n",
       "2924  العدد 1029  https://www.al-akhbar.com/Editions/2010/1/27/PDF  2010-1-27   \n",
       "2925  العدد 1030  https://www.al-akhbar.com/Editions/2010/1/28/PDF  2010-1-28   \n",
       "2926  العدد 1031  https://www.al-akhbar.com/Editions/2010/1/29/PDF  2010-1-29   \n",
       "2927  العدد 1032  https://www.al-akhbar.com/Editions/2010/1/30/PDF  2010-1-30   \n",
       "\n",
       "                                               pdf_link     status      GD  \n",
       "0     https://www.al-akhbar.com/PDF_Files/3922/alakh...        NaN     raw  \n",
       "1                                                   NaN  not_saved  missed  \n",
       "2     https://www.al-akhbar.com/PDF_Files/3924/alakh...        NaN     raw  \n",
       "3     https://www.al-akhbar.com/PDF_Files/3925/alakh...        NaN     raw  \n",
       "4     https://www.al-akhbar.com/PDF_Files/3926/alakh...        NaN     raw  \n",
       "...                                                 ...        ...     ...  \n",
       "2923  https://www.al-akhbar.com/PDF_Files/1028/alakh...      saved  missed  \n",
       "2924  https://www.al-akhbar.com/PDF_Files/1029/alakh...      saved  missed  \n",
       "2925  https://www.al-akhbar.com/PDF_Files/1030/alakh...      saved  missed  \n",
       "2926  https://www.al-akhbar.com/PDF_Files/1031/alakh...      saved  missed  \n",
       "2927  https://www.al-akhbar.com/PDF_Files/1032/alakh...      saved  missed  \n",
       "\n",
       "[2928 rows x 6 columns]"
      ]
     },
     "execution_count": 12,
     "metadata": {},
     "output_type": "execute_result"
    }
   ],
   "source": [
    "df"
   ]
  },
  {
   "attachments": {},
   "cell_type": "markdown",
   "metadata": {},
   "source": [
    "**Number of saved files in events folder**"
   ]
  },
  {
   "cell_type": "code",
   "execution_count": 20,
   "metadata": {},
   "outputs": [],
   "source": [
    "events_files = []\n",
    "regex = r\"^(\\d{4})-(\\d{1,2})-(\\d{1,2})\"\n",
    "\n",
    "for folder_id in events_folder_id_dict.values():\n",
    "    results = service.files().list(q=f\"'{folder_id}' in parents\",fields=\"nextPageToken, files(id, name)\").execute()\n",
    "    files = results.get(\"files\", [])\n",
    "    next_page_token = results.get(\"nextPageToken\")\n",
    "    while next_page_token:\n",
    "        results = service.files().list(q=f\"'{folder_id}' in parents\",fields=\"nextPageToken, files(id, name)\", pageToken=next_page_token).execute()\n",
    "        files.extend(results.get(\"files\", []))\n",
    "        next_page_token = results.get(\"nextPageToken\")\n",
    "    for file in files:\n",
    "        file_name = file.get('name')\n",
    "        result = re.sub(regex, '', file_name)\n",
    "        events_files.append(file_name.replace(result,''))"
   ]
  },
  {
   "cell_type": "code",
   "execution_count": 24,
   "metadata": {},
   "outputs": [
    {
     "data": {
      "text/plain": [
       "5016"
      ]
     },
     "execution_count": 24,
     "metadata": {},
     "output_type": "execute_result"
    }
   ],
   "source": [
    "len(events_files)"
   ]
  },
  {
   "cell_type": "code",
   "execution_count": 25,
   "metadata": {},
   "outputs": [
    {
     "data": {
      "text/plain": [
       "1835"
      ]
     },
     "execution_count": 25,
     "metadata": {},
     "output_type": "execute_result"
    }
   ],
   "source": [
    "events_days = list(dict.fromkeys(events_files))\n",
    "len(events_days)"
   ]
  },
  {
   "cell_type": "code",
   "execution_count": 32,
   "metadata": {},
   "outputs": [
    {
     "data": {
      "text/html": [
       "<div>\n",
       "<style scoped>\n",
       "    .dataframe tbody tr th:only-of-type {\n",
       "        vertical-align: middle;\n",
       "    }\n",
       "\n",
       "    .dataframe tbody tr th {\n",
       "        vertical-align: top;\n",
       "    }\n",
       "\n",
       "    .dataframe thead th {\n",
       "        text-align: right;\n",
       "    }\n",
       "</style>\n",
       "<table border=\"1\" class=\"dataframe\">\n",
       "  <thead>\n",
       "    <tr style=\"text-align: right;\">\n",
       "      <th></th>\n",
       "      <th>issue</th>\n",
       "      <th>url</th>\n",
       "      <th>date</th>\n",
       "      <th>pdf_link</th>\n",
       "      <th>status</th>\n",
       "      <th>GD</th>\n",
       "      <th>has_event</th>\n",
       "    </tr>\n",
       "  </thead>\n",
       "  <tbody>\n",
       "    <tr>\n",
       "      <th>1760</th>\n",
       "      <td>العدد 2170</td>\n",
       "      <td>https://www.al-akhbar.com/Editions/2013/12/7/PDF</td>\n",
       "      <td>2013-12-7</td>\n",
       "      <td>https://www.al-akhbar.com/PDF_Files/1195/alakh...</td>\n",
       "      <td>saved</td>\n",
       "      <td>raw</td>\n",
       "      <td>false</td>\n",
       "    </tr>\n",
       "    <tr>\n",
       "      <th>908</th>\n",
       "      <td>العدد 3032</td>\n",
       "      <td>https://www.al-akhbar.com/Editions/2016/11/12/PDF</td>\n",
       "      <td>2016-11-12</td>\n",
       "      <td>https://www.al-akhbar.com/PDF_Files/3032/alakh...</td>\n",
       "      <td>saved</td>\n",
       "      <td>raw</td>\n",
       "      <td>false</td>\n",
       "    </tr>\n",
       "    <tr>\n",
       "      <th>1726</th>\n",
       "      <td>العدد 2229</td>\n",
       "      <td>https://www.al-akhbar.com/Editions/2014/2/22/PDF</td>\n",
       "      <td>2014-2-22</td>\n",
       "      <td>https://www.al-akhbar.com/PDF_Files/1211/alakh...</td>\n",
       "      <td>saved</td>\n",
       "      <td>raw</td>\n",
       "      <td>false</td>\n",
       "    </tr>\n",
       "    <tr>\n",
       "      <th>1200</th>\n",
       "      <td>العدد 2740</td>\n",
       "      <td>https://www.al-akhbar.com/Editions/2015/11/13/PDF</td>\n",
       "      <td>2015-11-13</td>\n",
       "      <td>https://www.al-akhbar.com/PDF_Files/1757/alakh...</td>\n",
       "      <td>saved</td>\n",
       "      <td>raw</td>\n",
       "      <td>false</td>\n",
       "    </tr>\n",
       "    <tr>\n",
       "      <th>2374</th>\n",
       "      <td>العدد 1563</td>\n",
       "      <td>https://www.al-akhbar.com/Editions/2011/11/16/PDF</td>\n",
       "      <td>2011-11-16</td>\n",
       "      <td>https://www.al-akhbar.com/PDF_Files/1563/alakh...</td>\n",
       "      <td>saved</td>\n",
       "      <td>raw</td>\n",
       "      <td>false</td>\n",
       "    </tr>\n",
       "    <tr>\n",
       "      <th>37</th>\n",
       "      <td>العدد 3911</td>\n",
       "      <td>https://www.al-akhbar.com/Editions/2019/11/18/PDF</td>\n",
       "      <td>2019-11-18</td>\n",
       "      <td>https://www.al-akhbar.com/PDF_Files/3911/alakh...</td>\n",
       "      <td>NaN</td>\n",
       "      <td>raw</td>\n",
       "      <td>false</td>\n",
       "    </tr>\n",
       "    <tr>\n",
       "      <th>2864</th>\n",
       "      <td>العدد 1063</td>\n",
       "      <td>https://www.al-akhbar.com/Editions/2010/3/10/PDF</td>\n",
       "      <td>2010-3-10</td>\n",
       "      <td>https://www.al-akhbar.com/PDF_Files/1063/alakh...</td>\n",
       "      <td>saved</td>\n",
       "      <td>missed</td>\n",
       "      <td>false</td>\n",
       "    </tr>\n",
       "    <tr>\n",
       "      <th>964</th>\n",
       "      <td>العدد 2991</td>\n",
       "      <td>https://www.al-akhbar.com/Editions/2016/9/23/PDF</td>\n",
       "      <td>2016-9-23</td>\n",
       "      <td>https://www.al-akhbar.com/PDF_Files/2991/alakh...</td>\n",
       "      <td>saved</td>\n",
       "      <td>raw</td>\n",
       "      <td>false</td>\n",
       "    </tr>\n",
       "    <tr>\n",
       "      <th>380</th>\n",
       "      <td>العدد 3565</td>\n",
       "      <td>https://www.al-akhbar.com/Editions/2018/9/15/PDF</td>\n",
       "      <td>2018-9-15</td>\n",
       "      <td>https://www.al-akhbar.com/PDF_Files/3565/alakh...</td>\n",
       "      <td>NaN</td>\n",
       "      <td>raw</td>\n",
       "      <td>false</td>\n",
       "    </tr>\n",
       "    <tr>\n",
       "      <th>915</th>\n",
       "      <td>العدد 3039</td>\n",
       "      <td>https://www.al-akhbar.com/Editions/2016/11/21/PDF</td>\n",
       "      <td>2016-11-21</td>\n",
       "      <td>https://www.al-akhbar.com/PDF_Files/3039/alakh...</td>\n",
       "      <td>saved</td>\n",
       "      <td>raw</td>\n",
       "      <td>false</td>\n",
       "    </tr>\n",
       "  </tbody>\n",
       "</table>\n",
       "</div>"
      ],
      "text/plain": [
       "           issue                                                url  \\\n",
       "1760  العدد 2170   https://www.al-akhbar.com/Editions/2013/12/7/PDF   \n",
       "908   العدد 3032  https://www.al-akhbar.com/Editions/2016/11/12/PDF   \n",
       "1726  العدد 2229   https://www.al-akhbar.com/Editions/2014/2/22/PDF   \n",
       "1200  العدد 2740  https://www.al-akhbar.com/Editions/2015/11/13/PDF   \n",
       "2374  العدد 1563  https://www.al-akhbar.com/Editions/2011/11/16/PDF   \n",
       "37    العدد 3911  https://www.al-akhbar.com/Editions/2019/11/18/PDF   \n",
       "2864  العدد 1063   https://www.al-akhbar.com/Editions/2010/3/10/PDF   \n",
       "964   العدد 2991   https://www.al-akhbar.com/Editions/2016/9/23/PDF   \n",
       "380   العدد 3565   https://www.al-akhbar.com/Editions/2018/9/15/PDF   \n",
       "915   العدد 3039  https://www.al-akhbar.com/Editions/2016/11/21/PDF   \n",
       "\n",
       "            date                                           pdf_link status  \\\n",
       "1760   2013-12-7  https://www.al-akhbar.com/PDF_Files/1195/alakh...  saved   \n",
       "908   2016-11-12  https://www.al-akhbar.com/PDF_Files/3032/alakh...  saved   \n",
       "1726   2014-2-22  https://www.al-akhbar.com/PDF_Files/1211/alakh...  saved   \n",
       "1200  2015-11-13  https://www.al-akhbar.com/PDF_Files/1757/alakh...  saved   \n",
       "2374  2011-11-16  https://www.al-akhbar.com/PDF_Files/1563/alakh...  saved   \n",
       "37    2019-11-18  https://www.al-akhbar.com/PDF_Files/3911/alakh...    NaN   \n",
       "2864   2010-3-10  https://www.al-akhbar.com/PDF_Files/1063/alakh...  saved   \n",
       "964    2016-9-23  https://www.al-akhbar.com/PDF_Files/2991/alakh...  saved   \n",
       "380    2018-9-15  https://www.al-akhbar.com/PDF_Files/3565/alakh...    NaN   \n",
       "915   2016-11-21  https://www.al-akhbar.com/PDF_Files/3039/alakh...  saved   \n",
       "\n",
       "          GD has_event  \n",
       "1760     raw     false  \n",
       "908      raw     false  \n",
       "1726     raw     false  \n",
       "1200     raw     false  \n",
       "2374     raw     false  \n",
       "37       raw     false  \n",
       "2864  missed     false  \n",
       "964      raw     false  \n",
       "380      raw     false  \n",
       "915      raw     false  "
      ]
     },
     "execution_count": 32,
     "metadata": {},
     "output_type": "execute_result"
    }
   ],
   "source": [
    "df.loc[df['has_event'] == 'false'].sample(10)"
   ]
  }
 ],
 "metadata": {
  "kernelspec": {
   "display_name": "lewagon",
   "language": "python",
   "name": "python3"
  },
  "language_info": {
   "codemirror_mode": {
    "name": "ipython",
    "version": 3
   },
   "file_extension": ".py",
   "mimetype": "text/x-python",
   "name": "python",
   "nbconvert_exporter": "python",
   "pygments_lexer": "ipython3",
   "version": "3.8.12"
  },
  "orig_nbformat": 4,
  "vscode": {
   "interpreter": {
    "hash": "5440022c2f58b20b0cc375f131c03911c244cc52e9e4cb2d6244c26d3c005d2f"
   }
  }
 },
 "nbformat": 4,
 "nbformat_minor": 2
}
