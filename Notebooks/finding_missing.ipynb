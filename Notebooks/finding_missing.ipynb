{
 "cells": [
  {
   "cell_type": "code",
   "execution_count": 1,
   "metadata": {},
   "outputs": [],
   "source": [
    "import pandas as pd\n",
    "\n",
    "import re\n",
    "\n",
    "\n",
    "from oauth2client.service_account import ServiceAccountCredentials\n",
    "from googleapiclient.discovery import build"
   ]
  },
  {
   "cell_type": "code",
   "execution_count": 5,
   "metadata": {},
   "outputs": [],
   "source": [
    "year_folder_id_dict = {'2010':'113DAB_g6P3b-gbrpFog682EfdILcBMt6','2011':'1Yh9610KUMxZLNDiyUOnng-7PbhlYbt3x',\n",
    "                       '2012':'1TEWAyyxf6dJ3K6hMiliayJ4VV4ilvwIH','2013':'1KWNg6Me11spV-JRFOzwlvNpvoYMLI59C',\n",
    "                       '2014':'1IgDuaPlc9b-MdP6VELFXcTffqSRHYPU5','2015':'1CrHueAEH76p95tIOryMrdu5nV-qW702M',\n",
    "                       '2016':'1hpViY56I20A6k6EeQGrOn6QG11j7gb58','2017':'1H2HXwALMyzxBIMJyluYkTHJKplqGIpUF',\n",
    "                       '2018':'1-jlTY-u_izedKKNenevC3kgM6yaKR7b7','2019':'1Qm-Sse4vbOx2IOAILUCTvXwqShWlynQn'}\n",
    "\n",
    "events_folder_id_dict = {'2010':'1CPmsZoNqsDslYUDuMMYAiTRdgcbjuIj6','2011':'1FQenIULvAsgQN4sLSpcLdjjfStfeIvga',\n",
    "                       '2012':'1ABi7lAAmlARbrGlBJv8Tz6IFXVSYzLdR','2013':'1MMg8bUfZj3eZf_gAlr3k2N9_LWmO5DWr',\n",
    "                       '2014':'135rCpr_1_N00nmsKOcyWjmQPmT_n8I96','2015':'1Gjm0qtTXL-21qNQJtloxNGtJq3Q1Xlyq',\n",
    "                       '2016':'1qRUeOe4mFx5ofuYHxiqL4u1HvqxLCz96','2017':'15DY5sNvP8O2jgus7Qythy8Nzeeo7cZAI',\n",
    "                       '2018':'1AKHSz-t3vkUsLE2IC4TdrMUznjNC3YpU','2019':'1qOX3DQFtU_j4czyUMndjpn9c0crZ8ue1'}\n",
    "events_folder_id = '165-gELn98fyKGaWnmWSkJuUuz1aj8XMg'"
   ]
  },
  {
   "cell_type": "code",
   "execution_count": 2,
   "metadata": {},
   "outputs": [],
   "source": [
    "df = pd.read_csv('df_results.csv', index_col=0)"
   ]
  },
  {
   "cell_type": "code",
   "execution_count": 6,
   "metadata": {},
   "outputs": [],
   "source": [
    "creds = ServiceAccountCredentials.from_json_keyfile_name('leba-375419-92c3baf53205.json',\n",
    "                                                         scopes=['https://www.googleapis.com/auth/drive'])\n",
    "service = build('drive', 'v3', credentials=creds)"
   ]
  },
  {
   "cell_type": "code",
   "execution_count": 7,
   "metadata": {},
   "outputs": [
    {
     "name": "stdout",
     "output_type": "stream",
     "text": [
      "2812\n"
     ]
    }
   ],
   "source": [
    "saved_files = []\n",
    "for folder_id in year_folder_id_dict.values():\n",
    "    results = service.files().list(q=f\"'{folder_id}' in parents\",fields=\"nextPageToken, files(id, name)\").execute()\n",
    "    files = results.get(\"files\", [])\n",
    "    next_page_token = results.get(\"nextPageToken\")\n",
    "    while next_page_token:\n",
    "        results = service.files().list(q=f\"'{folder_id}' in parents\",fields=\"nextPageToken, files(id, name)\", pageToken=next_page_token).execute()\n",
    "        files.extend(results.get(\"files\", []))\n",
    "        next_page_token = results.get(\"nextPageToken\")\n",
    "    for file in files:\n",
    "        saved_files.append(file.get('name').replace('.pdf',''))\n",
    "print(len(saved_files))"
   ]
  },
  {
   "cell_type": "code",
   "execution_count": 8,
   "metadata": {},
   "outputs": [],
   "source": [
    "mask = df['date'].isin(saved_files)\n",
    "df.loc[mask, 'GD'] = 'raw'"
   ]
  },
  {
   "cell_type": "code",
   "execution_count": 9,
   "metadata": {},
   "outputs": [],
   "source": [
    "mask = ~df['date'].isin(saved_files)\n",
    "df.loc[mask, 'GD'] = 'missed'"
   ]
  },
  {
   "attachments": {},
   "cell_type": "markdown",
   "metadata": {},
   "source": [
    "**Number of saved files in Raw_data folder**"
   ]
  },
  {
   "cell_type": "code",
   "execution_count": 10,
   "metadata": {},
   "outputs": [
    {
     "data": {
      "text/plain": [
       "raw       2813\n",
       "missed     115\n",
       "Name: GD, dtype: int64"
      ]
     },
     "execution_count": 10,
     "metadata": {},
     "output_type": "execute_result"
    }
   ],
   "source": [
    "df['GD'].value_counts()"
   ]
  },
  {
   "cell_type": "code",
   "execution_count": 30,
   "metadata": {},
   "outputs": [],
   "source": [
    "with open('missing_dates.txt', 'r') as f:\n",
    "    missing_dates = [x.strip() for x in f.read().split('\\n')]"
   ]
  },
  {
   "cell_type": "code",
   "execution_count": 43,
   "metadata": {},
   "outputs": [],
   "source": [
    "mask = (~df['date'].isin(missing_dates)) & (df['GD']=='missed')\n",
    "df_missing_files = df.loc[mask]\n",
    "df_missing_files.to_csv('df_missing_files.csv')"
   ]
  },
  {
   "cell_type": "code",
   "execution_count": 11,
   "metadata": {},
   "outputs": [
    {
     "data": {
      "text/html": [
       "<div>\n",
       "<style scoped>\n",
       "    .dataframe tbody tr th:only-of-type {\n",
       "        vertical-align: middle;\n",
       "    }\n",
       "\n",
       "    .dataframe tbody tr th {\n",
       "        vertical-align: top;\n",
       "    }\n",
       "\n",
       "    .dataframe thead th {\n",
       "        text-align: right;\n",
       "    }\n",
       "</style>\n",
       "<table border=\"1\" class=\"dataframe\">\n",
       "  <thead>\n",
       "    <tr style=\"text-align: right;\">\n",
       "      <th></th>\n",
       "      <th>issue</th>\n",
       "      <th>url</th>\n",
       "      <th>date</th>\n",
       "      <th>pdf_link</th>\n",
       "      <th>status</th>\n",
       "      <th>GD</th>\n",
       "    </tr>\n",
       "  </thead>\n",
       "  <tbody>\n",
       "    <tr>\n",
       "      <th>0</th>\n",
       "      <td>العدد 3922</td>\n",
       "      <td>https://www.al-akhbar.com/Editions/2019/12/2/PDF</td>\n",
       "      <td>2019-12-2</td>\n",
       "      <td>https://www.al-akhbar.com/PDF_Files/3922/alakh...</td>\n",
       "      <td>NaN</td>\n",
       "      <td>raw</td>\n",
       "    </tr>\n",
       "    <tr>\n",
       "      <th>1</th>\n",
       "      <td>العدد 3923</td>\n",
       "      <td>https://www.al-akhbar.com/Editions/2019/12/3/PDF</td>\n",
       "      <td>2019-12-3</td>\n",
       "      <td>NaN</td>\n",
       "      <td>not_saved</td>\n",
       "      <td>missed</td>\n",
       "    </tr>\n",
       "    <tr>\n",
       "      <th>2</th>\n",
       "      <td>العدد 3924</td>\n",
       "      <td>https://www.al-akhbar.com/Editions/2019/12/4/PDF</td>\n",
       "      <td>2019-12-4</td>\n",
       "      <td>https://www.al-akhbar.com/PDF_Files/3924/alakh...</td>\n",
       "      <td>NaN</td>\n",
       "      <td>raw</td>\n",
       "    </tr>\n",
       "    <tr>\n",
       "      <th>3</th>\n",
       "      <td>العدد 3925</td>\n",
       "      <td>https://www.al-akhbar.com/Editions/2019/12/5/PDF</td>\n",
       "      <td>2019-12-5</td>\n",
       "      <td>https://www.al-akhbar.com/PDF_Files/3925/alakh...</td>\n",
       "      <td>NaN</td>\n",
       "      <td>raw</td>\n",
       "    </tr>\n",
       "    <tr>\n",
       "      <th>4</th>\n",
       "      <td>العدد 3926</td>\n",
       "      <td>https://www.al-akhbar.com/Editions/2019/12/6/PDF</td>\n",
       "      <td>2019-12-6</td>\n",
       "      <td>https://www.al-akhbar.com/PDF_Files/3926/alakh...</td>\n",
       "      <td>NaN</td>\n",
       "      <td>raw</td>\n",
       "    </tr>\n",
       "    <tr>\n",
       "      <th>...</th>\n",
       "      <td>...</td>\n",
       "      <td>...</td>\n",
       "      <td>...</td>\n",
       "      <td>...</td>\n",
       "      <td>...</td>\n",
       "      <td>...</td>\n",
       "    </tr>\n",
       "    <tr>\n",
       "      <th>2923</th>\n",
       "      <td>العدد 1028</td>\n",
       "      <td>https://www.al-akhbar.com/Editions/2010/1/26/PDF</td>\n",
       "      <td>2010-1-26</td>\n",
       "      <td>https://www.al-akhbar.com/PDF_Files/1028/alakh...</td>\n",
       "      <td>saved</td>\n",
       "      <td>missed</td>\n",
       "    </tr>\n",
       "    <tr>\n",
       "      <th>2924</th>\n",
       "      <td>العدد 1029</td>\n",
       "      <td>https://www.al-akhbar.com/Editions/2010/1/27/PDF</td>\n",
       "      <td>2010-1-27</td>\n",
       "      <td>https://www.al-akhbar.com/PDF_Files/1029/alakh...</td>\n",
       "      <td>saved</td>\n",
       "      <td>missed</td>\n",
       "    </tr>\n",
       "    <tr>\n",
       "      <th>2925</th>\n",
       "      <td>العدد 1030</td>\n",
       "      <td>https://www.al-akhbar.com/Editions/2010/1/28/PDF</td>\n",
       "      <td>2010-1-28</td>\n",
       "      <td>https://www.al-akhbar.com/PDF_Files/1030/alakh...</td>\n",
       "      <td>saved</td>\n",
       "      <td>missed</td>\n",
       "    </tr>\n",
       "    <tr>\n",
       "      <th>2926</th>\n",
       "      <td>العدد 1031</td>\n",
       "      <td>https://www.al-akhbar.com/Editions/2010/1/29/PDF</td>\n",
       "      <td>2010-1-29</td>\n",
       "      <td>https://www.al-akhbar.com/PDF_Files/1031/alakh...</td>\n",
       "      <td>saved</td>\n",
       "      <td>missed</td>\n",
       "    </tr>\n",
       "    <tr>\n",
       "      <th>2927</th>\n",
       "      <td>العدد 1032</td>\n",
       "      <td>https://www.al-akhbar.com/Editions/2010/1/30/PDF</td>\n",
       "      <td>2010-1-30</td>\n",
       "      <td>https://www.al-akhbar.com/PDF_Files/1032/alakh...</td>\n",
       "      <td>saved</td>\n",
       "      <td>missed</td>\n",
       "    </tr>\n",
       "  </tbody>\n",
       "</table>\n",
       "<p>2928 rows × 6 columns</p>\n",
       "</div>"
      ],
      "text/plain": [
       "           issue                                               url       date  \\\n",
       "0     العدد 3922  https://www.al-akhbar.com/Editions/2019/12/2/PDF  2019-12-2   \n",
       "1     العدد 3923  https://www.al-akhbar.com/Editions/2019/12/3/PDF  2019-12-3   \n",
       "2     العدد 3924  https://www.al-akhbar.com/Editions/2019/12/4/PDF  2019-12-4   \n",
       "3     العدد 3925  https://www.al-akhbar.com/Editions/2019/12/5/PDF  2019-12-5   \n",
       "4     العدد 3926  https://www.al-akhbar.com/Editions/2019/12/6/PDF  2019-12-6   \n",
       "...          ...                                               ...        ...   \n",
       "2923  العدد 1028  https://www.al-akhbar.com/Editions/2010/1/26/PDF  2010-1-26   \n",
       "2924  العدد 1029  https://www.al-akhbar.com/Editions/2010/1/27/PDF  2010-1-27   \n",
       "2925  العدد 1030  https://www.al-akhbar.com/Editions/2010/1/28/PDF  2010-1-28   \n",
       "2926  العدد 1031  https://www.al-akhbar.com/Editions/2010/1/29/PDF  2010-1-29   \n",
       "2927  العدد 1032  https://www.al-akhbar.com/Editions/2010/1/30/PDF  2010-1-30   \n",
       "\n",
       "                                               pdf_link     status      GD  \n",
       "0     https://www.al-akhbar.com/PDF_Files/3922/alakh...        NaN     raw  \n",
       "1                                                   NaN  not_saved  missed  \n",
       "2     https://www.al-akhbar.com/PDF_Files/3924/alakh...        NaN     raw  \n",
       "3     https://www.al-akhbar.com/PDF_Files/3925/alakh...        NaN     raw  \n",
       "4     https://www.al-akhbar.com/PDF_Files/3926/alakh...        NaN     raw  \n",
       "...                                                 ...        ...     ...  \n",
       "2923  https://www.al-akhbar.com/PDF_Files/1028/alakh...      saved  missed  \n",
       "2924  https://www.al-akhbar.com/PDF_Files/1029/alakh...      saved  missed  \n",
       "2925  https://www.al-akhbar.com/PDF_Files/1030/alakh...      saved  missed  \n",
       "2926  https://www.al-akhbar.com/PDF_Files/1031/alakh...      saved  missed  \n",
       "2927  https://www.al-akhbar.com/PDF_Files/1032/alakh...      saved  missed  \n",
       "\n",
       "[2928 rows x 6 columns]"
      ]
     },
     "execution_count": 11,
     "metadata": {},
     "output_type": "execute_result"
    }
   ],
   "source": [
    "df"
   ]
  },
  {
   "attachments": {},
   "cell_type": "markdown",
   "metadata": {},
   "source": [
    "**Number of saved files in events folder**"
   ]
  },
  {
   "cell_type": "code",
   "execution_count": 12,
   "metadata": {},
   "outputs": [],
   "source": [
    "events_files = []\n",
    "regex = r\"^(\\d{4})-(\\d{1,2})-(\\d{1,2})\"\n",
    "\n",
    "for folder_id in events_folder_id_dict.values():\n",
    "    results = service.files().list(q=f\"'{folder_id}' in parents\",fields=\"nextPageToken, files(id, name)\").execute()\n",
    "    files = results.get(\"files\", [])\n",
    "    next_page_token = results.get(\"nextPageToken\")\n",
    "    while next_page_token:\n",
    "        results = service.files().list(q=f\"'{folder_id}' in parents\",fields=\"nextPageToken, files(id, name)\", pageToken=next_page_token).execute()\n",
    "        files.extend(results.get(\"files\", []))\n",
    "        next_page_token = results.get(\"nextPageToken\")\n",
    "    for file in files:\n",
    "        file_name = file.get('name')\n",
    "        result = re.sub(regex, '', file_name)\n",
    "        events_files.append(file_name.replace(result,''))"
   ]
  },
  {
   "cell_type": "code",
   "execution_count": 13,
   "metadata": {},
   "outputs": [
    {
     "data": {
      "text/plain": [
       "5016"
      ]
     },
     "execution_count": 13,
     "metadata": {},
     "output_type": "execute_result"
    }
   ],
   "source": [
    "len(events_files)"
   ]
  },
  {
   "cell_type": "code",
   "execution_count": 14,
   "metadata": {},
   "outputs": [
    {
     "data": {
      "text/plain": [
       "1835"
      ]
     },
     "execution_count": 14,
     "metadata": {},
     "output_type": "execute_result"
    }
   ],
   "source": [
    "events_days = list(dict.fromkeys(events_files))\n",
    "len(events_days)"
   ]
  },
  {
   "cell_type": "code",
   "execution_count": 22,
   "metadata": {},
   "outputs": [],
   "source": [
    "mask = ~df['date'].isin(events_files)\n",
    "df.loc[mask, 'has_event'] = 'no'"
   ]
  },
  {
   "cell_type": "code",
   "execution_count": 24,
   "metadata": {},
   "outputs": [
    {
     "data": {
      "text/plain": [
       "yes    1835\n",
       "no     1093\n",
       "Name: has_event, dtype: int64"
      ]
     },
     "execution_count": 24,
     "metadata": {},
     "output_type": "execute_result"
    }
   ],
   "source": [
    "df.has_event.value_counts()"
   ]
  },
  {
   "cell_type": "code",
   "execution_count": 27,
   "metadata": {},
   "outputs": [
    {
     "data": {
      "text/html": [
       "<div>\n",
       "<style scoped>\n",
       "    .dataframe tbody tr th:only-of-type {\n",
       "        vertical-align: middle;\n",
       "    }\n",
       "\n",
       "    .dataframe tbody tr th {\n",
       "        vertical-align: top;\n",
       "    }\n",
       "\n",
       "    .dataframe thead th {\n",
       "        text-align: right;\n",
       "    }\n",
       "</style>\n",
       "<table border=\"1\" class=\"dataframe\">\n",
       "  <thead>\n",
       "    <tr style=\"text-align: right;\">\n",
       "      <th></th>\n",
       "      <th>issue</th>\n",
       "      <th>url</th>\n",
       "      <th>date</th>\n",
       "      <th>pdf_link</th>\n",
       "      <th>status</th>\n",
       "      <th>GD</th>\n",
       "      <th>has_event</th>\n",
       "    </tr>\n",
       "  </thead>\n",
       "  <tbody>\n",
       "    <tr>\n",
       "      <th>0</th>\n",
       "      <td>العدد 3922</td>\n",
       "      <td>https://www.al-akhbar.com/Editions/2019/12/2/PDF</td>\n",
       "      <td>2019-12-2</td>\n",
       "      <td>https://www.al-akhbar.com/PDF_Files/3922/alakh...</td>\n",
       "      <td>NaN</td>\n",
       "      <td>raw</td>\n",
       "      <td>no</td>\n",
       "    </tr>\n",
       "    <tr>\n",
       "      <th>1</th>\n",
       "      <td>العدد 3923</td>\n",
       "      <td>https://www.al-akhbar.com/Editions/2019/12/3/PDF</td>\n",
       "      <td>2019-12-3</td>\n",
       "      <td>NaN</td>\n",
       "      <td>not_saved</td>\n",
       "      <td>missed</td>\n",
       "      <td>no</td>\n",
       "    </tr>\n",
       "    <tr>\n",
       "      <th>2</th>\n",
       "      <td>العدد 3924</td>\n",
       "      <td>https://www.al-akhbar.com/Editions/2019/12/4/PDF</td>\n",
       "      <td>2019-12-4</td>\n",
       "      <td>https://www.al-akhbar.com/PDF_Files/3924/alakh...</td>\n",
       "      <td>NaN</td>\n",
       "      <td>raw</td>\n",
       "      <td>no</td>\n",
       "    </tr>\n",
       "    <tr>\n",
       "      <th>3</th>\n",
       "      <td>العدد 3925</td>\n",
       "      <td>https://www.al-akhbar.com/Editions/2019/12/5/PDF</td>\n",
       "      <td>2019-12-5</td>\n",
       "      <td>https://www.al-akhbar.com/PDF_Files/3925/alakh...</td>\n",
       "      <td>NaN</td>\n",
       "      <td>raw</td>\n",
       "      <td>no</td>\n",
       "    </tr>\n",
       "    <tr>\n",
       "      <th>4</th>\n",
       "      <td>العدد 3926</td>\n",
       "      <td>https://www.al-akhbar.com/Editions/2019/12/6/PDF</td>\n",
       "      <td>2019-12-6</td>\n",
       "      <td>https://www.al-akhbar.com/PDF_Files/3926/alakh...</td>\n",
       "      <td>NaN</td>\n",
       "      <td>raw</td>\n",
       "      <td>no</td>\n",
       "    </tr>\n",
       "    <tr>\n",
       "      <th>...</th>\n",
       "      <td>...</td>\n",
       "      <td>...</td>\n",
       "      <td>...</td>\n",
       "      <td>...</td>\n",
       "      <td>...</td>\n",
       "      <td>...</td>\n",
       "      <td>...</td>\n",
       "    </tr>\n",
       "    <tr>\n",
       "      <th>2923</th>\n",
       "      <td>العدد 1028</td>\n",
       "      <td>https://www.al-akhbar.com/Editions/2010/1/26/PDF</td>\n",
       "      <td>2010-1-26</td>\n",
       "      <td>https://www.al-akhbar.com/PDF_Files/1028/alakh...</td>\n",
       "      <td>saved</td>\n",
       "      <td>missed</td>\n",
       "      <td>no</td>\n",
       "    </tr>\n",
       "    <tr>\n",
       "      <th>2924</th>\n",
       "      <td>العدد 1029</td>\n",
       "      <td>https://www.al-akhbar.com/Editions/2010/1/27/PDF</td>\n",
       "      <td>2010-1-27</td>\n",
       "      <td>https://www.al-akhbar.com/PDF_Files/1029/alakh...</td>\n",
       "      <td>saved</td>\n",
       "      <td>missed</td>\n",
       "      <td>no</td>\n",
       "    </tr>\n",
       "    <tr>\n",
       "      <th>2925</th>\n",
       "      <td>العدد 1030</td>\n",
       "      <td>https://www.al-akhbar.com/Editions/2010/1/28/PDF</td>\n",
       "      <td>2010-1-28</td>\n",
       "      <td>https://www.al-akhbar.com/PDF_Files/1030/alakh...</td>\n",
       "      <td>saved</td>\n",
       "      <td>missed</td>\n",
       "      <td>no</td>\n",
       "    </tr>\n",
       "    <tr>\n",
       "      <th>2926</th>\n",
       "      <td>العدد 1031</td>\n",
       "      <td>https://www.al-akhbar.com/Editions/2010/1/29/PDF</td>\n",
       "      <td>2010-1-29</td>\n",
       "      <td>https://www.al-akhbar.com/PDF_Files/1031/alakh...</td>\n",
       "      <td>saved</td>\n",
       "      <td>missed</td>\n",
       "      <td>no</td>\n",
       "    </tr>\n",
       "    <tr>\n",
       "      <th>2927</th>\n",
       "      <td>العدد 1032</td>\n",
       "      <td>https://www.al-akhbar.com/Editions/2010/1/30/PDF</td>\n",
       "      <td>2010-1-30</td>\n",
       "      <td>https://www.al-akhbar.com/PDF_Files/1032/alakh...</td>\n",
       "      <td>saved</td>\n",
       "      <td>missed</td>\n",
       "      <td>no</td>\n",
       "    </tr>\n",
       "  </tbody>\n",
       "</table>\n",
       "<p>2928 rows × 7 columns</p>\n",
       "</div>"
      ],
      "text/plain": [
       "           issue                                               url       date  \\\n",
       "0     العدد 3922  https://www.al-akhbar.com/Editions/2019/12/2/PDF  2019-12-2   \n",
       "1     العدد 3923  https://www.al-akhbar.com/Editions/2019/12/3/PDF  2019-12-3   \n",
       "2     العدد 3924  https://www.al-akhbar.com/Editions/2019/12/4/PDF  2019-12-4   \n",
       "3     العدد 3925  https://www.al-akhbar.com/Editions/2019/12/5/PDF  2019-12-5   \n",
       "4     العدد 3926  https://www.al-akhbar.com/Editions/2019/12/6/PDF  2019-12-6   \n",
       "...          ...                                               ...        ...   \n",
       "2923  العدد 1028  https://www.al-akhbar.com/Editions/2010/1/26/PDF  2010-1-26   \n",
       "2924  العدد 1029  https://www.al-akhbar.com/Editions/2010/1/27/PDF  2010-1-27   \n",
       "2925  العدد 1030  https://www.al-akhbar.com/Editions/2010/1/28/PDF  2010-1-28   \n",
       "2926  العدد 1031  https://www.al-akhbar.com/Editions/2010/1/29/PDF  2010-1-29   \n",
       "2927  العدد 1032  https://www.al-akhbar.com/Editions/2010/1/30/PDF  2010-1-30   \n",
       "\n",
       "                                               pdf_link     status      GD  \\\n",
       "0     https://www.al-akhbar.com/PDF_Files/3922/alakh...        NaN     raw   \n",
       "1                                                   NaN  not_saved  missed   \n",
       "2     https://www.al-akhbar.com/PDF_Files/3924/alakh...        NaN     raw   \n",
       "3     https://www.al-akhbar.com/PDF_Files/3925/alakh...        NaN     raw   \n",
       "4     https://www.al-akhbar.com/PDF_Files/3926/alakh...        NaN     raw   \n",
       "...                                                 ...        ...     ...   \n",
       "2923  https://www.al-akhbar.com/PDF_Files/1028/alakh...      saved  missed   \n",
       "2924  https://www.al-akhbar.com/PDF_Files/1029/alakh...      saved  missed   \n",
       "2925  https://www.al-akhbar.com/PDF_Files/1030/alakh...      saved  missed   \n",
       "2926  https://www.al-akhbar.com/PDF_Files/1031/alakh...      saved  missed   \n",
       "2927  https://www.al-akhbar.com/PDF_Files/1032/alakh...      saved  missed   \n",
       "\n",
       "     has_event  \n",
       "0           no  \n",
       "1           no  \n",
       "2           no  \n",
       "3           no  \n",
       "4           no  \n",
       "...        ...  \n",
       "2923        no  \n",
       "2924        no  \n",
       "2925        no  \n",
       "2926        no  \n",
       "2927        no  \n",
       "\n",
       "[2928 rows x 7 columns]"
      ]
     },
     "execution_count": 27,
     "metadata": {},
     "output_type": "execute_result"
    }
   ],
   "source": [
    "df"
   ]
  }
 ],
 "metadata": {
  "kernelspec": {
   "display_name": "lewagon",
   "language": "python",
   "name": "python3"
  },
  "language_info": {
   "codemirror_mode": {
    "name": "ipython",
    "version": 3
   },
   "file_extension": ".py",
   "mimetype": "text/x-python",
   "name": "python",
   "nbconvert_exporter": "python",
   "pygments_lexer": "ipython3",
   "version": "3.8.12"
  },
  "orig_nbformat": 4,
  "vscode": {
   "interpreter": {
    "hash": "5440022c2f58b20b0cc375f131c03911c244cc52e9e4cb2d6244c26d3c005d2f"
   }
  }
 },
 "nbformat": 4,
 "nbformat_minor": 2
}
