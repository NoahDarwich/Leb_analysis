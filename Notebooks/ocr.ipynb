{
 "cells": [
  {
   "cell_type": "code",
   "execution_count": 4,
   "metadata": {},
   "outputs": [
    {
     "ename": "ImportError",
     "evalue": "cannot import name 'ImageAnnotatorClient' from partially initialized module 'google.cloud.vision_v1' (most likely due to a circular import) (/home/noahdarwich/.pyenv/versions/3.8.12/envs/lewagon/lib/python3.8/site-packages/google/cloud/vision_v1/__init__.py)",
     "output_type": "error",
     "traceback": [
      "\u001b[0;31m---------------------------------------------------------------------------\u001b[0m",
      "\u001b[0;31mImportError\u001b[0m                               Traceback (most recent call last)",
      "\u001b[1;32m/home/noahdarwich/code/NoahDarwich/Leb_analysis/Notebooks/ocr.ipynb Cell 1\u001b[0m in \u001b[0;36m<cell line: 3>\u001b[0;34m()\u001b[0m\n\u001b[1;32m      <a href='vscode-notebook-cell://wsl%2Bubuntu/home/noahdarwich/code/NoahDarwich/Leb_analysis/Notebooks/ocr.ipynb#W0sdnNjb2RlLXJlbW90ZQ%3D%3D?line=0'>1</a>\u001b[0m \u001b[39mimport\u001b[39;00m \u001b[39mio\u001b[39;00m\n\u001b[1;32m      <a href='vscode-notebook-cell://wsl%2Bubuntu/home/noahdarwich/code/NoahDarwich/Leb_analysis/Notebooks/ocr.ipynb#W0sdnNjb2RlLXJlbW90ZQ%3D%3D?line=1'>2</a>\u001b[0m \u001b[39mimport\u001b[39;00m \u001b[39mjson\u001b[39;00m\n\u001b[0;32m----> <a href='vscode-notebook-cell://wsl%2Bubuntu/home/noahdarwich/code/NoahDarwich/Leb_analysis/Notebooks/ocr.ipynb#W0sdnNjb2RlLXJlbW90ZQ%3D%3D?line=2'>3</a>\u001b[0m \u001b[39mfrom\u001b[39;00m \u001b[39mgoogle\u001b[39;00m\u001b[39m.\u001b[39;00m\u001b[39mcloud\u001b[39;00m\u001b[39m.\u001b[39;00m\u001b[39mvision_v1\u001b[39;00m \u001b[39mimport\u001b[39;00m ImageAnnotatorClient\n\u001b[1;32m      <a href='vscode-notebook-cell://wsl%2Bubuntu/home/noahdarwich/code/NoahDarwich/Leb_analysis/Notebooks/ocr.ipynb#W0sdnNjb2RlLXJlbW90ZQ%3D%3D?line=3'>4</a>\u001b[0m \u001b[39m# from google.cloud.vision_v1 import enums\u001b[39;00m\n\u001b[1;32m      <a href='vscode-notebook-cell://wsl%2Bubuntu/home/noahdarwich/code/NoahDarwich/Leb_analysis/Notebooks/ocr.ipynb#W0sdnNjb2RlLXJlbW90ZQ%3D%3D?line=4'>5</a>\u001b[0m \u001b[39mfrom\u001b[39;00m \u001b[39mgoogle\u001b[39;00m\u001b[39m.\u001b[39;00m\u001b[39moauth2\u001b[39;00m \u001b[39mimport\u001b[39;00m service_account\n",
      "File \u001b[0;32m~/.pyenv/versions/3.8.12/envs/lewagon/lib/python3.8/site-packages/google/cloud/vision_v1/__init__.py:16\u001b[0m, in \u001b[0;36m<module>\u001b[0;34m\u001b[0m\n\u001b[1;32m      1\u001b[0m \u001b[39m# -*- coding: utf-8 -*-\u001b[39;00m\n\u001b[1;32m      2\u001b[0m \u001b[39m# Copyright 2022 Google LLC\u001b[39;00m\n\u001b[1;32m      3\u001b[0m \u001b[39m#\u001b[39;00m\n\u001b[0;32m   (...)\u001b[0m\n\u001b[1;32m     14\u001b[0m \u001b[39m# limitations under the License.\u001b[39;00m\n\u001b[1;32m     15\u001b[0m \u001b[39m#\u001b[39;00m\n\u001b[0;32m---> 16\u001b[0m \u001b[39mfrom\u001b[39;00m \u001b[39mgoogle\u001b[39;00m\u001b[39m.\u001b[39;00m\u001b[39mcloud\u001b[39;00m\u001b[39m.\u001b[39;00m\u001b[39mvision\u001b[39;00m \u001b[39mimport\u001b[39;00m gapic_version \u001b[39mas\u001b[39;00m package_version\n\u001b[1;32m     18\u001b[0m __version__ \u001b[39m=\u001b[39m package_version\u001b[39m.\u001b[39m__version__\n\u001b[1;32m     21\u001b[0m \u001b[39mfrom\u001b[39;00m \u001b[39mgoogle\u001b[39;00m\u001b[39m.\u001b[39;00m\u001b[39mcloud\u001b[39;00m\u001b[39m.\u001b[39;00m\u001b[39mvision_helpers\u001b[39;00m\u001b[39m.\u001b[39;00m\u001b[39mdecorators\u001b[39;00m \u001b[39mimport\u001b[39;00m add_single_feature_methods\n",
      "File \u001b[0;32m~/.pyenv/versions/3.8.12/envs/lewagon/lib/python3.8/site-packages/google/cloud/vision/__init__.py:26\u001b[0m, in \u001b[0;36m<module>\u001b[0;34m\u001b[0m\n\u001b[1;32m     20\u001b[0m __version__ \u001b[39m=\u001b[39m package_version\u001b[39m.\u001b[39m__version__\n\u001b[1;32m     23\u001b[0m \u001b[39mfrom\u001b[39;00m \u001b[39mgoogle\u001b[39;00m\u001b[39m.\u001b[39;00m\u001b[39mcloud\u001b[39;00m\u001b[39m.\u001b[39;00m\u001b[39mvision_v1\u001b[39;00m\u001b[39m.\u001b[39;00m\u001b[39mservices\u001b[39;00m\u001b[39m.\u001b[39;00m\u001b[39mimage_annotator\u001b[39;00m\u001b[39m.\u001b[39;00m\u001b[39masync_client\u001b[39;00m \u001b[39mimport\u001b[39;00m (\n\u001b[1;32m     24\u001b[0m     ImageAnnotatorAsyncClient,\n\u001b[1;32m     25\u001b[0m )\n\u001b[0;32m---> 26\u001b[0m \u001b[39mfrom\u001b[39;00m \u001b[39mgoogle\u001b[39;00m\u001b[39m.\u001b[39;00m\u001b[39mcloud\u001b[39;00m\u001b[39m.\u001b[39;00m\u001b[39mvision_v1\u001b[39;00m \u001b[39mimport\u001b[39;00m ImageAnnotatorClient\n\u001b[1;32m     27\u001b[0m \u001b[39mfrom\u001b[39;00m \u001b[39mgoogle\u001b[39;00m\u001b[39m.\u001b[39;00m\u001b[39mcloud\u001b[39;00m\u001b[39m.\u001b[39;00m\u001b[39mvision_v1\u001b[39;00m\u001b[39m.\u001b[39;00m\u001b[39mservices\u001b[39;00m\u001b[39m.\u001b[39;00m\u001b[39mproduct_search\u001b[39;00m\u001b[39m.\u001b[39;00m\u001b[39masync_client\u001b[39;00m \u001b[39mimport\u001b[39;00m (\n\u001b[1;32m     28\u001b[0m     ProductSearchAsyncClient,\n\u001b[1;32m     29\u001b[0m )\n\u001b[1;32m     30\u001b[0m \u001b[39mfrom\u001b[39;00m \u001b[39mgoogle\u001b[39;00m\u001b[39m.\u001b[39;00m\u001b[39mcloud\u001b[39;00m\u001b[39m.\u001b[39;00m\u001b[39mvision_v1\u001b[39;00m\u001b[39m.\u001b[39;00m\u001b[39mservices\u001b[39;00m\u001b[39m.\u001b[39;00m\u001b[39mproduct_search\u001b[39;00m\u001b[39m.\u001b[39;00m\u001b[39mclient\u001b[39;00m \u001b[39mimport\u001b[39;00m ProductSearchClient\n",
      "\u001b[0;31mImportError\u001b[0m: cannot import name 'ImageAnnotatorClient' from partially initialized module 'google.cloud.vision_v1' (most likely due to a circular import) (/home/noahdarwich/.pyenv/versions/3.8.12/envs/lewagon/lib/python3.8/site-packages/google/cloud/vision_v1/__init__.py)"
     ]
    }
   ],
   "source": [
    "import io\n",
    "import json\n",
    "from google.cloud.vision_v1 import ImageAnnotatorClient\n",
    "# from google.cloud.vision_v1 import enums\n",
    "from google.oauth2 import service_account\n",
    "import PyPDF2\n",
    "from pdf2image import convert_from_path\n"
   ]
  },
  {
   "cell_type": "code",
   "execution_count": 31,
   "metadata": {},
   "outputs": [
    {
     "ename": "PermissionDenied",
     "evalue": "403 This API method requires billing to be enabled. Please enable billing on project #990795251513 by visiting https://console.developers.google.com/billing/enable?project=990795251513 then retry. If you enabled billing for this project recently, wait a few minutes for the action to propagate to our systems and retry. [links {\n  description: \"Google developers console billing\"\n  url: \"https://console.developers.google.com/billing/enable?project=990795251513\"\n}\n, reason: \"BILLING_DISABLED\"\ndomain: \"googleapis.com\"\nmetadata {\n  key: \"service\"\n  value: \"vision.googleapis.com\"\n}\nmetadata {\n  key: \"consumer\"\n  value: \"projects/990795251513\"\n}\n]",
     "output_type": "error",
     "traceback": [
      "\u001b[0;31m---------------------------------------------------------------------------\u001b[0m",
      "\u001b[0;31m_InactiveRpcError\u001b[0m                         Traceback (most recent call last)",
      "File \u001b[0;32m~/.pyenv/versions/3.8.12/envs/lewagon/lib/python3.8/site-packages/google/api_core/grpc_helpers.py:72\u001b[0m, in \u001b[0;36m_wrap_unary_errors.<locals>.error_remapped_callable\u001b[0;34m(*args, **kwargs)\u001b[0m\n\u001b[1;32m     71\u001b[0m \u001b[39mtry\u001b[39;00m:\n\u001b[0;32m---> 72\u001b[0m     \u001b[39mreturn\u001b[39;00m callable_(\u001b[39m*\u001b[39;49margs, \u001b[39m*\u001b[39;49m\u001b[39m*\u001b[39;49mkwargs)\n\u001b[1;32m     73\u001b[0m \u001b[39mexcept\u001b[39;00m grpc\u001b[39m.\u001b[39mRpcError \u001b[39mas\u001b[39;00m exc:\n",
      "File \u001b[0;32m~/.pyenv/versions/3.8.12/envs/lewagon/lib/python3.8/site-packages/grpc/_channel.py:946\u001b[0m, in \u001b[0;36m_UnaryUnaryMultiCallable.__call__\u001b[0;34m(self, request, timeout, metadata, credentials, wait_for_ready, compression)\u001b[0m\n\u001b[1;32m    944\u001b[0m state, call, \u001b[39m=\u001b[39m \u001b[39mself\u001b[39m\u001b[39m.\u001b[39m_blocking(request, timeout, metadata, credentials,\n\u001b[1;32m    945\u001b[0m                               wait_for_ready, compression)\n\u001b[0;32m--> 946\u001b[0m \u001b[39mreturn\u001b[39;00m _end_unary_response_blocking(state, call, \u001b[39mFalse\u001b[39;49;00m, \u001b[39mNone\u001b[39;49;00m)\n",
      "File \u001b[0;32m~/.pyenv/versions/3.8.12/envs/lewagon/lib/python3.8/site-packages/grpc/_channel.py:849\u001b[0m, in \u001b[0;36m_end_unary_response_blocking\u001b[0;34m(state, call, with_call, deadline)\u001b[0m\n\u001b[1;32m    848\u001b[0m \u001b[39melse\u001b[39;00m:\n\u001b[0;32m--> 849\u001b[0m     \u001b[39mraise\u001b[39;00m _InactiveRpcError(state)\n",
      "\u001b[0;31m_InactiveRpcError\u001b[0m: <_InactiveRpcError of RPC that terminated with:\n\tstatus = StatusCode.PERMISSION_DENIED\n\tdetails = \"This API method requires billing to be enabled. Please enable billing on project #990795251513 by visiting https://console.developers.google.com/billing/enable?project=990795251513 then retry. If you enabled billing for this project recently, wait a few minutes for the action to propagate to our systems and retry.\"\n\tdebug_error_string = \"UNKNOWN:Error received from peer ipv4:142.251.36.170:443 {grpc_message:\"This API method requires billing to be enabled. Please enable billing on project #990795251513 by visiting https://console.developers.google.com/billing/enable?project=990795251513 then retry. If you enabled billing for this project recently, wait a few minutes for the action to propagate to our systems and retry.\", grpc_status:7, created_time:\"2023-02-21T15:35:54.076602226+01:00\"}\"\n>",
      "\nThe above exception was the direct cause of the following exception:\n",
      "\u001b[0;31mPermissionDenied\u001b[0m                          Traceback (most recent call last)",
      "\u001b[1;32m/home/noahdarwich/code/NoahDarwich/Leb_analysis/Notebooks/ocr.ipynb Cell 2\u001b[0m in \u001b[0;36m<cell line: 7>\u001b[0;34m()\u001b[0m\n\u001b[1;32m     <a href='vscode-notebook-cell://wsl%2Bubuntu/home/noahdarwich/code/NoahDarwich/Leb_analysis/Notebooks/ocr.ipynb#W3sdnNjb2RlLXJlbW90ZQ%3D%3D?line=20'>21</a>\u001b[0m feature \u001b[39m=\u001b[39m vision_v1\u001b[39m.\u001b[39mFeature(\u001b[39mtype\u001b[39m\u001b[39m=\u001b[39mvision_v1\u001b[39m.\u001b[39mFeature\u001b[39m.\u001b[39mType\u001b[39m.\u001b[39mDOCUMENT_TEXT_DETECTION)\n\u001b[1;32m     <a href='vscode-notebook-cell://wsl%2Bubuntu/home/noahdarwich/code/NoahDarwich/Leb_analysis/Notebooks/ocr.ipynb#W3sdnNjb2RlLXJlbW90ZQ%3D%3D?line=22'>23</a>\u001b[0m request \u001b[39m=\u001b[39m vision_v1\u001b[39m.\u001b[39mtypes\u001b[39m.\u001b[39mAnnotateImageRequest(image\u001b[39m=\u001b[39mimage, features\u001b[39m=\u001b[39m[feature])\n\u001b[0;32m---> <a href='vscode-notebook-cell://wsl%2Bubuntu/home/noahdarwich/code/NoahDarwich/Leb_analysis/Notebooks/ocr.ipynb#W3sdnNjb2RlLXJlbW90ZQ%3D%3D?line=24'>25</a>\u001b[0m response \u001b[39m=\u001b[39m client\u001b[39m.\u001b[39;49mannotate_image(request)\n\u001b[1;32m     <a href='vscode-notebook-cell://wsl%2Bubuntu/home/noahdarwich/code/NoahDarwich/Leb_analysis/Notebooks/ocr.ipynb#W3sdnNjb2RlLXJlbW90ZQ%3D%3D?line=25'>26</a>\u001b[0m page_text \u001b[39m=\u001b[39m response\u001b[39m.\u001b[39mfull_text_annotation\u001b[39m.\u001b[39mtext\n\u001b[1;32m     <a href='vscode-notebook-cell://wsl%2Bubuntu/home/noahdarwich/code/NoahDarwich/Leb_analysis/Notebooks/ocr.ipynb#W3sdnNjb2RlLXJlbW90ZQ%3D%3D?line=27'>28</a>\u001b[0m \u001b[39mprint\u001b[39m(page_text)\n",
      "File \u001b[0;32m~/.pyenv/versions/3.8.12/envs/lewagon/lib/python3.8/site-packages/google/cloud/vision_helpers/__init__.py:76\u001b[0m, in \u001b[0;36mVisionHelpers.annotate_image\u001b[0;34m(self, request, retry, timeout, metadata)\u001b[0m\n\u001b[1;32m     74\u001b[0m \u001b[39melif\u001b[39;00m \u001b[39mlen\u001b[39m(request\u001b[39m.\u001b[39mfeatures) \u001b[39m==\u001b[39m \u001b[39m0\u001b[39m:\n\u001b[1;32m     75\u001b[0m     request\u001b[39m.\u001b[39mfeatures \u001b[39m=\u001b[39m \u001b[39mself\u001b[39m\u001b[39m.\u001b[39m_get_all_features()\n\u001b[0;32m---> 76\u001b[0m r \u001b[39m=\u001b[39m \u001b[39mself\u001b[39;49m\u001b[39m.\u001b[39;49mbatch_annotate_images(\n\u001b[1;32m     77\u001b[0m     requests\u001b[39m=\u001b[39;49m[request], retry\u001b[39m=\u001b[39;49mretry, timeout\u001b[39m=\u001b[39;49mtimeout, metadata\u001b[39m=\u001b[39;49mmetadata\n\u001b[1;32m     78\u001b[0m )\n\u001b[1;32m     79\u001b[0m \u001b[39mreturn\u001b[39;00m r\u001b[39m.\u001b[39mresponses[\u001b[39m0\u001b[39m]\n",
      "File \u001b[0;32m~/.pyenv/versions/3.8.12/envs/lewagon/lib/python3.8/site-packages/google/cloud/vision_v1/services/image_annotator/client.py:565\u001b[0m, in \u001b[0;36mImageAnnotatorClient.batch_annotate_images\u001b[0;34m(self, request, requests, retry, timeout, metadata)\u001b[0m\n\u001b[1;32m    562\u001b[0m rpc \u001b[39m=\u001b[39m \u001b[39mself\u001b[39m\u001b[39m.\u001b[39m_transport\u001b[39m.\u001b[39m_wrapped_methods[\u001b[39mself\u001b[39m\u001b[39m.\u001b[39m_transport\u001b[39m.\u001b[39mbatch_annotate_images]\n\u001b[1;32m    564\u001b[0m \u001b[39m# Send the request.\u001b[39;00m\n\u001b[0;32m--> 565\u001b[0m response \u001b[39m=\u001b[39m rpc(\n\u001b[1;32m    566\u001b[0m     request,\n\u001b[1;32m    567\u001b[0m     retry\u001b[39m=\u001b[39;49mretry,\n\u001b[1;32m    568\u001b[0m     timeout\u001b[39m=\u001b[39;49mtimeout,\n\u001b[1;32m    569\u001b[0m     metadata\u001b[39m=\u001b[39;49mmetadata,\n\u001b[1;32m    570\u001b[0m )\n\u001b[1;32m    572\u001b[0m \u001b[39m# Done; return the response.\u001b[39;00m\n\u001b[1;32m    573\u001b[0m \u001b[39mreturn\u001b[39;00m response\n",
      "File \u001b[0;32m~/.pyenv/versions/3.8.12/envs/lewagon/lib/python3.8/site-packages/google/api_core/gapic_v1/method.py:113\u001b[0m, in \u001b[0;36m_GapicCallable.__call__\u001b[0;34m(self, timeout, retry, *args, **kwargs)\u001b[0m\n\u001b[1;32m    110\u001b[0m     metadata\u001b[39m.\u001b[39mextend(\u001b[39mself\u001b[39m\u001b[39m.\u001b[39m_metadata)\n\u001b[1;32m    111\u001b[0m     kwargs[\u001b[39m\"\u001b[39m\u001b[39mmetadata\u001b[39m\u001b[39m\"\u001b[39m] \u001b[39m=\u001b[39m metadata\n\u001b[0;32m--> 113\u001b[0m \u001b[39mreturn\u001b[39;00m wrapped_func(\u001b[39m*\u001b[39;49margs, \u001b[39m*\u001b[39;49m\u001b[39m*\u001b[39;49mkwargs)\n",
      "File \u001b[0;32m~/.pyenv/versions/3.8.12/envs/lewagon/lib/python3.8/site-packages/google/api_core/grpc_helpers.py:74\u001b[0m, in \u001b[0;36m_wrap_unary_errors.<locals>.error_remapped_callable\u001b[0;34m(*args, **kwargs)\u001b[0m\n\u001b[1;32m     72\u001b[0m     \u001b[39mreturn\u001b[39;00m callable_(\u001b[39m*\u001b[39margs, \u001b[39m*\u001b[39m\u001b[39m*\u001b[39mkwargs)\n\u001b[1;32m     73\u001b[0m \u001b[39mexcept\u001b[39;00m grpc\u001b[39m.\u001b[39mRpcError \u001b[39mas\u001b[39;00m exc:\n\u001b[0;32m---> 74\u001b[0m     \u001b[39mraise\u001b[39;00m exceptions\u001b[39m.\u001b[39mfrom_grpc_error(exc) \u001b[39mfrom\u001b[39;00m \u001b[39mexc\u001b[39;00m\n",
      "\u001b[0;31mPermissionDenied\u001b[0m: 403 This API method requires billing to be enabled. Please enable billing on project #990795251513 by visiting https://console.developers.google.com/billing/enable?project=990795251513 then retry. If you enabled billing for this project recently, wait a few minutes for the action to propagate to our systems and retry. [links {\n  description: \"Google developers console billing\"\n  url: \"https://console.developers.google.com/billing/enable?project=990795251513\"\n}\n, reason: \"BILLING_DISABLED\"\ndomain: \"googleapis.com\"\nmetadata {\n  key: \"service\"\n  value: \"vision.googleapis.com\"\n}\nmetadata {\n  key: \"consumer\"\n  value: \"projects/990795251513\"\n}\n]"
     ]
    }
   ],
   "source": [
    "credentials = service_account.Credentials.from_service_account_file('leba-375419-92c3baf53205.json')\n",
    "\n",
    "client = vision_v1.ImageAnnotatorClient(credentials=credentials)\n",
    "\n",
    "\n",
    "pdf_path = 'new.pdf'\n",
    "with open(pdf_path, 'rb') as file:\n",
    "    pdf_reader = PyPDF2.PdfFileReader(file)\n",
    "    num_pages = pdf_reader.getNumPages()\n",
    "\n",
    "\n",
    "    for i in range(num_pages):\n",
    "        page = pdf_reader.getPage(i)\n",
    "        \n",
    "        png_images = convert_from_path(pdf_path, dpi=300, first_page=i+1, last_page=i+1)\n",
    "        png_image = png_images[0]\n",
    "        image_content = io.BytesIO()\n",
    "        png_image.save(image_content, format='PNG')\n",
    "        image = vision_v1.types.Image(content=image_content.getvalue())\n",
    "        \n",
    "        feature = vision_v1.Feature(type=vision_v1.Feature.Type.DOCUMENT_TEXT_DETECTION)\n",
    "\n",
    "        request = vision_v1.types.AnnotateImageRequest(image=image, features=[feature])\n",
    "\n",
    "        response = client.annotate_image(request)\n",
    "        page_text = response.full_text_annotation.text\n",
    "\n",
    "        print(page_text)\n",
    "        # for image in page.getImages():\n",
    "        #    print(image)"
   ]
  },
  {
   "cell_type": "code",
   "execution_count": 11,
   "metadata": {},
   "outputs": [],
   "source": [
    "\n",
    "def detect_text(pdf_path):\n",
    "    \n",
    "\n",
    "    # Load PDF file\n",
    "    \n",
    "        \n",
    "        \n",
    "\n",
    "    # Parse PDF using PyMuPDF\n",
    "    #doc = fitz.open(stream=pdf_content, filetype=\"pdf\")\n",
    "    text = \"\"\n",
    "\n",
    "    # Iterate over the pages of the PDF\n",
    "    \n",
    "        \n",
    "        # Extract the images from the page\n",
    "        \n",
    "        \n",
    "            if '/XObject' in page['/Resources']:\n",
    "                x_objects = page['/Resources']['/XObject'].getObject()\n",
    "                if x_objects:\n",
    "                    for obj in x_objects:\n",
    "                        if x_objects[obj]['/Subtype'] == '/Image':\n",
    "                            images.append(x_objects[obj])\n",
    "\n",
    "\n",
    "        # Convert page to PNG and detect text\n",
    "        png_image = page.getPixmap().getPNGData()\n",
    "        image = types.Image(content=png_image)\n",
    "        response = client.document_text_detection(image=image)\n",
    "        #page_text = response.full_text_annotation.text\n",
    "\n",
    "        # Add page text to overall text, ignoring images\n",
    "        for block in response.full_text_annotation.pages[0].blocks:\n",
    "            for paragraph in block.paragraphs:\n",
    "                for word in paragraph.words:\n",
    "                    if all(symbol.property.detected_break.type == 1 for symbol in word.symbols):\n",
    "                        # Ignore word if it consists of only one character\n",
    "                        continue\n",
    "                    if not any(symbol.property.detected_break.type == 5 for symbol in word.symbols):\n",
    "                        # Add word to text if it does not contain a line break\n",
    "                        text += word.text + \" \"\n",
    "\n",
    "        # Clean up images\n",
    "        for image in images:\n",
    "            image.reset()\n",
    "\n",
    "    return text"
   ]
  },
  {
   "cell_type": "code",
   "execution_count": 12,
   "metadata": {},
   "outputs": [
    {
     "ename": "AttributeError",
     "evalue": "'PageObject' object has no attribute 'getImages'",
     "output_type": "error",
     "traceback": [
      "\u001b[0;31m---------------------------------------------------------------------------\u001b[0m",
      "\u001b[0;31mAttributeError\u001b[0m                            Traceback (most recent call last)",
      "\u001b[1;32m/home/noahdarwich/code/NoahDarwich/Leb_analysis/Notebooks/ocr.ipynb Cell 3\u001b[0m in \u001b[0;36m<cell line: 2>\u001b[0;34m()\u001b[0m\n\u001b[1;32m      <a href='vscode-notebook-cell://wsl%2Bubuntu/home/noahdarwich/code/NoahDarwich/Leb_analysis/Notebooks/ocr.ipynb#W2sdnNjb2RlLXJlbW90ZQ%3D%3D?line=0'>1</a>\u001b[0m pdf_path \u001b[39m=\u001b[39m \u001b[39m'\u001b[39m\u001b[39m2016-1-30-page-2.pdf\u001b[39m\u001b[39m'\u001b[39m\n\u001b[0;32m----> <a href='vscode-notebook-cell://wsl%2Bubuntu/home/noahdarwich/code/NoahDarwich/Leb_analysis/Notebooks/ocr.ipynb#W2sdnNjb2RlLXJlbW90ZQ%3D%3D?line=1'>2</a>\u001b[0m detect_text(pdf_path)\n",
      "\u001b[1;32m/home/noahdarwich/code/NoahDarwich/Leb_analysis/Notebooks/ocr.ipynb Cell 3\u001b[0m in \u001b[0;36mdetect_text\u001b[0;34m(pdf_path)\u001b[0m\n\u001b[1;32m     <a href='vscode-notebook-cell://wsl%2Bubuntu/home/noahdarwich/code/NoahDarwich/Leb_analysis/Notebooks/ocr.ipynb#W2sdnNjb2RlLXJlbW90ZQ%3D%3D?line=17'>18</a>\u001b[0m \u001b[39m# Extract the images from the page\u001b[39;00m\n\u001b[1;32m     <a href='vscode-notebook-cell://wsl%2Bubuntu/home/noahdarwich/code/NoahDarwich/Leb_analysis/Notebooks/ocr.ipynb#W2sdnNjb2RlLXJlbW90ZQ%3D%3D?line=18'>19</a>\u001b[0m images \u001b[39m=\u001b[39m []\n\u001b[0;32m---> <a href='vscode-notebook-cell://wsl%2Bubuntu/home/noahdarwich/code/NoahDarwich/Leb_analysis/Notebooks/ocr.ipynb#W2sdnNjb2RlLXJlbW90ZQ%3D%3D?line=19'>20</a>\u001b[0m \u001b[39mfor\u001b[39;00m image \u001b[39min\u001b[39;00m page\u001b[39m.\u001b[39;49mgetImages():\n\u001b[1;32m     <a href='vscode-notebook-cell://wsl%2Bubuntu/home/noahdarwich/code/NoahDarwich/Leb_analysis/Notebooks/ocr.ipynb#W2sdnNjb2RlLXJlbW90ZQ%3D%3D?line=20'>21</a>\u001b[0m     \u001b[39mif\u001b[39;00m \u001b[39m'\u001b[39m\u001b[39m/XObject\u001b[39m\u001b[39m'\u001b[39m \u001b[39min\u001b[39;00m page[\u001b[39m'\u001b[39m\u001b[39m/Resources\u001b[39m\u001b[39m'\u001b[39m]:\n\u001b[1;32m     <a href='vscode-notebook-cell://wsl%2Bubuntu/home/noahdarwich/code/NoahDarwich/Leb_analysis/Notebooks/ocr.ipynb#W2sdnNjb2RlLXJlbW90ZQ%3D%3D?line=21'>22</a>\u001b[0m         x_objects \u001b[39m=\u001b[39m page[\u001b[39m'\u001b[39m\u001b[39m/Resources\u001b[39m\u001b[39m'\u001b[39m][\u001b[39m'\u001b[39m\u001b[39m/XObject\u001b[39m\u001b[39m'\u001b[39m]\u001b[39m.\u001b[39mgetObject()\n",
      "\u001b[0;31mAttributeError\u001b[0m: 'PageObject' object has no attribute 'getImages'"
     ]
    }
   ],
   "source": [
    "detect_text(pdf_path)"
   ]
  }
 ],
 "metadata": {
  "kernelspec": {
   "display_name": "lewagon",
   "language": "python",
   "name": "python3"
  },
  "language_info": {
   "codemirror_mode": {
    "name": "ipython",
    "version": 3
   },
   "file_extension": ".py",
   "mimetype": "text/x-python",
   "name": "python",
   "nbconvert_exporter": "python",
   "pygments_lexer": "ipython3",
   "version": "3.8.12"
  },
  "orig_nbformat": 4,
  "vscode": {
   "interpreter": {
    "hash": "5440022c2f58b20b0cc375f131c03911c244cc52e9e4cb2d6244c26d3c005d2f"
   }
  }
 },
 "nbformat": 4,
 "nbformat_minor": 2
}
